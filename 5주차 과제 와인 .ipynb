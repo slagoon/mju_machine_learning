{
 "cells": [
  {
   "cell_type": "markdown",
   "id": "8afbdf4f",
   "metadata": {},
   "source": [
    "# 60171100 윤민혁 \n",
    "- 과제 2 : 와인 품질 모델"
   ]
  },
  {
   "cell_type": "markdown",
   "id": "cd64a773",
   "metadata": {},
   "source": [
    "# 데이터셋 로딩"
   ]
  },
  {
   "cell_type": "code",
   "execution_count": 3,
   "id": "9029462d",
   "metadata": {
    "ExecuteTime": {
     "end_time": "2021-10-28T16:15:14.529663Z",
     "start_time": "2021-10-28T16:15:12.566641Z"
    }
   },
   "outputs": [],
   "source": [
    "import pandas as pd\n",
    "import numpy as np\n",
    "from sklearn import model_selection\n",
    "from sklearn import metrics\n",
    "import matplotlib.pyplot as plt\n",
    "from sklearn import datasets\n",
    "from sklearn.tree import DecisionTreeClassifier"
   ]
  },
  {
   "cell_type": "code",
   "execution_count": 4,
   "id": "8525abb7",
   "metadata": {
    "ExecuteTime": {
     "end_time": "2021-10-28T16:15:14.619855Z",
     "start_time": "2021-10-28T16:15:14.533595Z"
    }
   },
   "outputs": [
    {
     "name": "stdout",
     "output_type": "stream",
     "text": [
      "(1599, 12)\n"
     ]
    },
    {
     "data": {
      "text/html": [
       "<div>\n",
       "<style scoped>\n",
       "    .dataframe tbody tr th:only-of-type {\n",
       "        vertical-align: middle;\n",
       "    }\n",
       "\n",
       "    .dataframe tbody tr th {\n",
       "        vertical-align: top;\n",
       "    }\n",
       "\n",
       "    .dataframe thead th {\n",
       "        text-align: right;\n",
       "    }\n",
       "</style>\n",
       "<table border=\"1\" class=\"dataframe\">\n",
       "  <thead>\n",
       "    <tr style=\"text-align: right;\">\n",
       "      <th></th>\n",
       "      <th>fixed acidity</th>\n",
       "      <th>volatile acidity</th>\n",
       "      <th>citric acid</th>\n",
       "      <th>residual sugar</th>\n",
       "      <th>chlorides</th>\n",
       "      <th>free sulfur dioxide</th>\n",
       "      <th>total sulfur dioxide</th>\n",
       "      <th>density</th>\n",
       "      <th>pH</th>\n",
       "      <th>sulphates</th>\n",
       "      <th>alcohol</th>\n",
       "      <th>quality</th>\n",
       "    </tr>\n",
       "  </thead>\n",
       "  <tbody>\n",
       "    <tr>\n",
       "      <th>0</th>\n",
       "      <td>7.4</td>\n",
       "      <td>0.70</td>\n",
       "      <td>0.00</td>\n",
       "      <td>1.9</td>\n",
       "      <td>0.076</td>\n",
       "      <td>11.0</td>\n",
       "      <td>34.0</td>\n",
       "      <td>0.9978</td>\n",
       "      <td>3.51</td>\n",
       "      <td>0.56</td>\n",
       "      <td>9.4</td>\n",
       "      <td>5</td>\n",
       "    </tr>\n",
       "    <tr>\n",
       "      <th>1</th>\n",
       "      <td>7.8</td>\n",
       "      <td>0.88</td>\n",
       "      <td>0.00</td>\n",
       "      <td>2.6</td>\n",
       "      <td>0.098</td>\n",
       "      <td>25.0</td>\n",
       "      <td>67.0</td>\n",
       "      <td>0.9968</td>\n",
       "      <td>3.20</td>\n",
       "      <td>0.68</td>\n",
       "      <td>9.8</td>\n",
       "      <td>5</td>\n",
       "    </tr>\n",
       "    <tr>\n",
       "      <th>2</th>\n",
       "      <td>7.8</td>\n",
       "      <td>0.76</td>\n",
       "      <td>0.04</td>\n",
       "      <td>2.3</td>\n",
       "      <td>0.092</td>\n",
       "      <td>15.0</td>\n",
       "      <td>54.0</td>\n",
       "      <td>0.9970</td>\n",
       "      <td>3.26</td>\n",
       "      <td>0.65</td>\n",
       "      <td>9.8</td>\n",
       "      <td>5</td>\n",
       "    </tr>\n",
       "    <tr>\n",
       "      <th>3</th>\n",
       "      <td>11.2</td>\n",
       "      <td>0.28</td>\n",
       "      <td>0.56</td>\n",
       "      <td>1.9</td>\n",
       "      <td>0.075</td>\n",
       "      <td>17.0</td>\n",
       "      <td>60.0</td>\n",
       "      <td>0.9980</td>\n",
       "      <td>3.16</td>\n",
       "      <td>0.58</td>\n",
       "      <td>9.8</td>\n",
       "      <td>6</td>\n",
       "    </tr>\n",
       "    <tr>\n",
       "      <th>4</th>\n",
       "      <td>7.4</td>\n",
       "      <td>0.70</td>\n",
       "      <td>0.00</td>\n",
       "      <td>1.9</td>\n",
       "      <td>0.076</td>\n",
       "      <td>11.0</td>\n",
       "      <td>34.0</td>\n",
       "      <td>0.9978</td>\n",
       "      <td>3.51</td>\n",
       "      <td>0.56</td>\n",
       "      <td>9.4</td>\n",
       "      <td>5</td>\n",
       "    </tr>\n",
       "  </tbody>\n",
       "</table>\n",
       "</div>"
      ],
      "text/plain": [
       "   fixed acidity  volatile acidity  citric acid  residual sugar  chlorides  \\\n",
       "0            7.4              0.70         0.00             1.9      0.076   \n",
       "1            7.8              0.88         0.00             2.6      0.098   \n",
       "2            7.8              0.76         0.04             2.3      0.092   \n",
       "3           11.2              0.28         0.56             1.9      0.075   \n",
       "4            7.4              0.70         0.00             1.9      0.076   \n",
       "\n",
       "   free sulfur dioxide  total sulfur dioxide  density    pH  sulphates  \\\n",
       "0                 11.0                  34.0   0.9978  3.51       0.56   \n",
       "1                 25.0                  67.0   0.9968  3.20       0.68   \n",
       "2                 15.0                  54.0   0.9970  3.26       0.65   \n",
       "3                 17.0                  60.0   0.9980  3.16       0.58   \n",
       "4                 11.0                  34.0   0.9978  3.51       0.56   \n",
       "\n",
       "   alcohol  quality  \n",
       "0      9.4        5  \n",
       "1      9.8        5  \n",
       "2      9.8        5  \n",
       "3      9.8        6  \n",
       "4      9.4        5  "
      ]
     },
     "execution_count": 4,
     "metadata": {},
     "output_type": "execute_result"
    }
   ],
   "source": [
    "df = pd.read_csv('data/winequality-red.csv')\n",
    "print(df.shape)\n",
    "df.head()"
   ]
  },
  {
   "cell_type": "markdown",
   "id": "87dffb0a",
   "metadata": {},
   "source": [
    "# 데이터 전처리"
   ]
  },
  {
   "cell_type": "code",
   "execution_count": 5,
   "id": "5ab513ba",
   "metadata": {
    "ExecuteTime": {
     "end_time": "2021-10-28T16:15:14.634921Z",
     "start_time": "2021-10-28T16:15:14.621855Z"
    }
   },
   "outputs": [
    {
     "data": {
      "text/plain": [
       "fixed acidity           0\n",
       "volatile acidity        0\n",
       "citric acid             0\n",
       "residual sugar          0\n",
       "chlorides               0\n",
       "free sulfur dioxide     0\n",
       "total sulfur dioxide    0\n",
       "density                 0\n",
       "pH                      0\n",
       "sulphates               0\n",
       "alcohol                 0\n",
       "quality                 0\n",
       "dtype: int64"
      ]
     },
     "execution_count": 5,
     "metadata": {},
     "output_type": "execute_result"
    }
   ],
   "source": [
    "df.isnull().sum()"
   ]
  },
  {
   "cell_type": "code",
   "execution_count": 6,
   "id": "43d511c8",
   "metadata": {
    "ExecuteTime": {
     "end_time": "2021-10-28T16:15:14.694853Z",
     "start_time": "2021-10-28T16:15:14.638849Z"
    }
   },
   "outputs": [
    {
     "data": {
      "text/html": [
       "<div>\n",
       "<style scoped>\n",
       "    .dataframe tbody tr th:only-of-type {\n",
       "        vertical-align: middle;\n",
       "    }\n",
       "\n",
       "    .dataframe tbody tr th {\n",
       "        vertical-align: top;\n",
       "    }\n",
       "\n",
       "    .dataframe thead th {\n",
       "        text-align: right;\n",
       "    }\n",
       "</style>\n",
       "<table border=\"1\" class=\"dataframe\">\n",
       "  <thead>\n",
       "    <tr style=\"text-align: right;\">\n",
       "      <th></th>\n",
       "      <th>fixed acidity</th>\n",
       "      <th>volatile acidity</th>\n",
       "      <th>citric acid</th>\n",
       "      <th>residual sugar</th>\n",
       "      <th>chlorides</th>\n",
       "      <th>free sulfur dioxide</th>\n",
       "      <th>total sulfur dioxide</th>\n",
       "      <th>density</th>\n",
       "      <th>pH</th>\n",
       "      <th>sulphates</th>\n",
       "      <th>alcohol</th>\n",
       "      <th>quality</th>\n",
       "    </tr>\n",
       "  </thead>\n",
       "  <tbody>\n",
       "    <tr>\n",
       "      <th>0</th>\n",
       "      <td>7.4</td>\n",
       "      <td>0.700</td>\n",
       "      <td>0.00</td>\n",
       "      <td>1.9</td>\n",
       "      <td>0.076</td>\n",
       "      <td>11.0</td>\n",
       "      <td>34.0</td>\n",
       "      <td>0.99780</td>\n",
       "      <td>3.51</td>\n",
       "      <td>0.56</td>\n",
       "      <td>9.4</td>\n",
       "      <td>0</td>\n",
       "    </tr>\n",
       "    <tr>\n",
       "      <th>1</th>\n",
       "      <td>7.8</td>\n",
       "      <td>0.880</td>\n",
       "      <td>0.00</td>\n",
       "      <td>2.6</td>\n",
       "      <td>0.098</td>\n",
       "      <td>25.0</td>\n",
       "      <td>67.0</td>\n",
       "      <td>0.99680</td>\n",
       "      <td>3.20</td>\n",
       "      <td>0.68</td>\n",
       "      <td>9.8</td>\n",
       "      <td>0</td>\n",
       "    </tr>\n",
       "    <tr>\n",
       "      <th>2</th>\n",
       "      <td>7.8</td>\n",
       "      <td>0.760</td>\n",
       "      <td>0.04</td>\n",
       "      <td>2.3</td>\n",
       "      <td>0.092</td>\n",
       "      <td>15.0</td>\n",
       "      <td>54.0</td>\n",
       "      <td>0.99700</td>\n",
       "      <td>3.26</td>\n",
       "      <td>0.65</td>\n",
       "      <td>9.8</td>\n",
       "      <td>0</td>\n",
       "    </tr>\n",
       "    <tr>\n",
       "      <th>3</th>\n",
       "      <td>11.2</td>\n",
       "      <td>0.280</td>\n",
       "      <td>0.56</td>\n",
       "      <td>1.9</td>\n",
       "      <td>0.075</td>\n",
       "      <td>17.0</td>\n",
       "      <td>60.0</td>\n",
       "      <td>0.99800</td>\n",
       "      <td>3.16</td>\n",
       "      <td>0.58</td>\n",
       "      <td>9.8</td>\n",
       "      <td>1</td>\n",
       "    </tr>\n",
       "    <tr>\n",
       "      <th>4</th>\n",
       "      <td>7.4</td>\n",
       "      <td>0.700</td>\n",
       "      <td>0.00</td>\n",
       "      <td>1.9</td>\n",
       "      <td>0.076</td>\n",
       "      <td>11.0</td>\n",
       "      <td>34.0</td>\n",
       "      <td>0.99780</td>\n",
       "      <td>3.51</td>\n",
       "      <td>0.56</td>\n",
       "      <td>9.4</td>\n",
       "      <td>0</td>\n",
       "    </tr>\n",
       "    <tr>\n",
       "      <th>...</th>\n",
       "      <td>...</td>\n",
       "      <td>...</td>\n",
       "      <td>...</td>\n",
       "      <td>...</td>\n",
       "      <td>...</td>\n",
       "      <td>...</td>\n",
       "      <td>...</td>\n",
       "      <td>...</td>\n",
       "      <td>...</td>\n",
       "      <td>...</td>\n",
       "      <td>...</td>\n",
       "      <td>...</td>\n",
       "    </tr>\n",
       "    <tr>\n",
       "      <th>1594</th>\n",
       "      <td>6.2</td>\n",
       "      <td>0.600</td>\n",
       "      <td>0.08</td>\n",
       "      <td>2.0</td>\n",
       "      <td>0.090</td>\n",
       "      <td>32.0</td>\n",
       "      <td>44.0</td>\n",
       "      <td>0.99490</td>\n",
       "      <td>3.45</td>\n",
       "      <td>0.58</td>\n",
       "      <td>10.5</td>\n",
       "      <td>0</td>\n",
       "    </tr>\n",
       "    <tr>\n",
       "      <th>1595</th>\n",
       "      <td>5.9</td>\n",
       "      <td>0.550</td>\n",
       "      <td>0.10</td>\n",
       "      <td>2.2</td>\n",
       "      <td>0.062</td>\n",
       "      <td>39.0</td>\n",
       "      <td>51.0</td>\n",
       "      <td>0.99512</td>\n",
       "      <td>3.52</td>\n",
       "      <td>0.76</td>\n",
       "      <td>11.2</td>\n",
       "      <td>1</td>\n",
       "    </tr>\n",
       "    <tr>\n",
       "      <th>1596</th>\n",
       "      <td>6.3</td>\n",
       "      <td>0.510</td>\n",
       "      <td>0.13</td>\n",
       "      <td>2.3</td>\n",
       "      <td>0.076</td>\n",
       "      <td>29.0</td>\n",
       "      <td>40.0</td>\n",
       "      <td>0.99574</td>\n",
       "      <td>3.42</td>\n",
       "      <td>0.75</td>\n",
       "      <td>11.0</td>\n",
       "      <td>1</td>\n",
       "    </tr>\n",
       "    <tr>\n",
       "      <th>1597</th>\n",
       "      <td>5.9</td>\n",
       "      <td>0.645</td>\n",
       "      <td>0.12</td>\n",
       "      <td>2.0</td>\n",
       "      <td>0.075</td>\n",
       "      <td>32.0</td>\n",
       "      <td>44.0</td>\n",
       "      <td>0.99547</td>\n",
       "      <td>3.57</td>\n",
       "      <td>0.71</td>\n",
       "      <td>10.2</td>\n",
       "      <td>0</td>\n",
       "    </tr>\n",
       "    <tr>\n",
       "      <th>1598</th>\n",
       "      <td>6.0</td>\n",
       "      <td>0.310</td>\n",
       "      <td>0.47</td>\n",
       "      <td>3.6</td>\n",
       "      <td>0.067</td>\n",
       "      <td>18.0</td>\n",
       "      <td>42.0</td>\n",
       "      <td>0.99549</td>\n",
       "      <td>3.39</td>\n",
       "      <td>0.66</td>\n",
       "      <td>11.0</td>\n",
       "      <td>1</td>\n",
       "    </tr>\n",
       "  </tbody>\n",
       "</table>\n",
       "<p>1599 rows × 12 columns</p>\n",
       "</div>"
      ],
      "text/plain": [
       "      fixed acidity  volatile acidity  citric acid  residual sugar  chlorides  \\\n",
       "0               7.4             0.700         0.00             1.9      0.076   \n",
       "1               7.8             0.880         0.00             2.6      0.098   \n",
       "2               7.8             0.760         0.04             2.3      0.092   \n",
       "3              11.2             0.280         0.56             1.9      0.075   \n",
       "4               7.4             0.700         0.00             1.9      0.076   \n",
       "...             ...               ...          ...             ...        ...   \n",
       "1594            6.2             0.600         0.08             2.0      0.090   \n",
       "1595            5.9             0.550         0.10             2.2      0.062   \n",
       "1596            6.3             0.510         0.13             2.3      0.076   \n",
       "1597            5.9             0.645         0.12             2.0      0.075   \n",
       "1598            6.0             0.310         0.47             3.6      0.067   \n",
       "\n",
       "      free sulfur dioxide  total sulfur dioxide  density    pH  sulphates  \\\n",
       "0                    11.0                  34.0  0.99780  3.51       0.56   \n",
       "1                    25.0                  67.0  0.99680  3.20       0.68   \n",
       "2                    15.0                  54.0  0.99700  3.26       0.65   \n",
       "3                    17.0                  60.0  0.99800  3.16       0.58   \n",
       "4                    11.0                  34.0  0.99780  3.51       0.56   \n",
       "...                   ...                   ...      ...   ...        ...   \n",
       "1594                 32.0                  44.0  0.99490  3.45       0.58   \n",
       "1595                 39.0                  51.0  0.99512  3.52       0.76   \n",
       "1596                 29.0                  40.0  0.99574  3.42       0.75   \n",
       "1597                 32.0                  44.0  0.99547  3.57       0.71   \n",
       "1598                 18.0                  42.0  0.99549  3.39       0.66   \n",
       "\n",
       "      alcohol  quality  \n",
       "0         9.4        0  \n",
       "1         9.8        0  \n",
       "2         9.8        0  \n",
       "3         9.8        1  \n",
       "4         9.4        0  \n",
       "...       ...      ...  \n",
       "1594     10.5        0  \n",
       "1595     11.2        1  \n",
       "1596     11.0        1  \n",
       "1597     10.2        0  \n",
       "1598     11.0        1  \n",
       "\n",
       "[1599 rows x 12 columns]"
      ]
     },
     "execution_count": 6,
     "metadata": {},
     "output_type": "execute_result"
    }
   ],
   "source": [
    "df['quality'] = df.quality.map({3:0,4:0,5:0,6:1,7:1,8:1})\n",
    "df"
   ]
  },
  {
   "cell_type": "code",
   "execution_count": 7,
   "id": "e86b10a8",
   "metadata": {
    "ExecuteTime": {
     "end_time": "2021-10-28T16:15:14.709939Z",
     "start_time": "2021-10-28T16:15:14.696852Z"
    }
   },
   "outputs": [],
   "source": [
    "X = np.array(df.iloc[:,:-1])\n",
    "y = np.array(df['quality'])"
   ]
  },
  {
   "cell_type": "code",
   "execution_count": 8,
   "id": "95924bef",
   "metadata": {
    "ExecuteTime": {
     "end_time": "2021-10-28T16:15:14.724923Z",
     "start_time": "2021-10-28T16:15:14.711892Z"
    }
   },
   "outputs": [
    {
     "data": {
      "text/plain": [
       "array([[ 7.4  ,  0.7  ,  0.   , ...,  3.51 ,  0.56 ,  9.4  ],\n",
       "       [ 7.8  ,  0.88 ,  0.   , ...,  3.2  ,  0.68 ,  9.8  ],\n",
       "       [ 7.8  ,  0.76 ,  0.04 , ...,  3.26 ,  0.65 ,  9.8  ],\n",
       "       ...,\n",
       "       [ 6.3  ,  0.51 ,  0.13 , ...,  3.42 ,  0.75 , 11.   ],\n",
       "       [ 5.9  ,  0.645,  0.12 , ...,  3.57 ,  0.71 , 10.2  ],\n",
       "       [ 6.   ,  0.31 ,  0.47 , ...,  3.39 ,  0.66 , 11.   ]])"
      ]
     },
     "execution_count": 8,
     "metadata": {},
     "output_type": "execute_result"
    }
   ],
   "source": [
    "X"
   ]
  },
  {
   "cell_type": "code",
   "execution_count": 9,
   "id": "dcb786d7",
   "metadata": {
    "ExecuteTime": {
     "end_time": "2021-10-28T16:15:14.739996Z",
     "start_time": "2021-10-28T16:15:14.728333Z"
    }
   },
   "outputs": [
    {
     "data": {
      "text/plain": [
       "array([0, 0, 0, ..., 1, 0, 1], dtype=int64)"
      ]
     },
     "execution_count": 9,
     "metadata": {},
     "output_type": "execute_result"
    }
   ],
   "source": [
    "y"
   ]
  },
  {
   "cell_type": "markdown",
   "id": "eab250f9",
   "metadata": {},
   "source": [
    "# 모델 적합"
   ]
  },
  {
   "cell_type": "code",
   "execution_count": 10,
   "id": "bd0f6ed3",
   "metadata": {
    "ExecuteTime": {
     "end_time": "2021-10-28T16:15:14.754853Z",
     "start_time": "2021-10-28T16:15:14.742121Z"
    }
   },
   "outputs": [
    {
     "name": "stdout",
     "output_type": "stream",
     "text": [
      "X_train크기: (1119, 11)\n",
      "y_train크기: (1119,)\n",
      "X_test크기: (480, 11)\n",
      "y_test크기: (480,)\n"
     ]
    }
   ],
   "source": [
    "from sklearn.model_selection import train_test_split\n",
    "\n",
    "X_train, X_test, y_train, y_test = train_test_split(X,y, test_size=0.3,random_state=0)\n",
    "print('X_train크기:',X_train.shape)\n",
    "print('y_train크기:', y_train.shape)\n",
    "print('X_test크기:', X_test.shape)\n",
    "print('y_test크기:', y_test.shape)"
   ]
  },
  {
   "cell_type": "code",
   "execution_count": 11,
   "id": "9782e6eb",
   "metadata": {
    "ExecuteTime": {
     "end_time": "2021-10-28T16:15:14.784951Z",
     "start_time": "2021-10-28T16:15:14.758850Z"
    }
   },
   "outputs": [
    {
     "data": {
      "text/plain": [
       "DecisionTreeClassifier(max_depth=4, random_state=0)"
      ]
     },
     "execution_count": 11,
     "metadata": {},
     "output_type": "execute_result"
    }
   ],
   "source": [
    "from sklearn.tree import DecisionTreeClassifier\n",
    "\n",
    "tree = DecisionTreeClassifier(random_state=0, max_depth=4)\n",
    "tree.fit(X_train,y_train)"
   ]
  },
  {
   "cell_type": "markdown",
   "id": "bfdebd44",
   "metadata": {},
   "source": [
    "# 모델성능평가"
   ]
  },
  {
   "cell_type": "code",
   "execution_count": 12,
   "id": "999204e3",
   "metadata": {
    "ExecuteTime": {
     "end_time": "2021-10-28T16:15:14.815557Z",
     "start_time": "2021-10-28T16:15:14.791949Z"
    }
   },
   "outputs": [
    {
     "name": "stdout",
     "output_type": "stream",
     "text": [
      "예측값\n",
      " [1 0 1 0 1 0 0 1 0 0 0 1 1 1 0 1 1 1 0 0 1 0 1 1 0 0 0 1 0 1 1 1 0 1 0 1 0\n",
      " 1 1 1 0 1 1 1 1 0 0 1 0 1 0 0 1 1 0 1 0 0 1 1 1 1 1 1 0 1 0 1 1 1 1 0 0 1\n",
      " 1 1 0 0 1 1 1 0 0 1 0 1 1 0 0 0 0 0 1 0 1 1 1 0 0 1 1 1 1 1 1 0 1 0 1 0 0\n",
      " 0 1 0 1 1 0 1 1 1 0 1 1 0 1 1 0 0 1 1 0 0 1 1 1 0 1 0 1 0 0 0 0 1 1 1 1 1\n",
      " 1 0 1 1 0 0 1 0 0 0 1 1 1 1 1 0 1 0 0 1 1 1 1 1 0 1 0 1 1 1 1 0 0 1 1 1 1\n",
      " 0 0 1 0 1 1 1 0 0 0 0 0 0 0 0 0 1 0 0 0 0 0 1 1 0 1 1 0 1 0 1 1 1 1 0 0 1\n",
      " 1 1 0 1 1 0 0 0 0 1 1 1 1 1 1 1 1 1 0 1 0 0 1 0 0 1 0 1 0 0 0 0 0 1 0 0 0\n",
      " 1 0 1 0 0 0 0 1 0 1 1 0 1 1 1 1 1 1 0 1 1 0 1 1 1 1 0 1 0 1 0 0 0 1 0 0 1\n",
      " 1 0 0 0 1 0 0 1 1 1 0 0 0 0 1 1 0 0 0 1 1 1 0 1 0 0 1 1 0 1 1 0 0 1 1 0 0\n",
      " 1 0 1 1 1 1 1 0 0 0 1 1 0 1 0 1 1 1 1 0 1 1 0 1 0 1 1 0 1 0 1 1 0 1 1 0 1\n",
      " 1 0 1 1 0 1 1 1 1 1 1 1 0 0 0 1 1 0 1 0 1 0 0 1 1 1 0 1 1 0 0 0 0 0 1 0 0\n",
      " 1 0 1 1 0 0 1 1 0 1 0 0 0 1 1 1 1 0 0 0 1 0 1 0 1 0 1 1 1 1 1 0 0 1 0 1 0\n",
      " 1 1 1 1 1 1 1 0 1 1 1 0 1 0 1 0 0 1 0 0 0 0 0 0 0 0 1 0 0 1 0 0 0 0 1 0]\n",
      "실제값\n",
      " [1 0 1 1 0 1 0 1 0 0 0 0 1 0 1 1 1 0 0 0 1 1 1 0 1 0 0 1 0 1 0 1 0 1 1 1 0\n",
      " 1 1 1 0 1 1 1 0 0 1 1 1 0 0 0 1 1 1 0 0 0 1 0 0 1 1 1 0 1 0 0 1 1 1 1 0 1\n",
      " 0 1 0 0 0 1 1 0 1 1 1 0 1 0 0 0 0 1 0 0 1 1 1 0 1 0 1 1 1 1 0 0 0 0 1 0 1\n",
      " 0 1 0 1 1 1 1 1 1 0 1 0 0 1 1 0 0 0 1 1 1 1 1 1 0 1 0 1 0 1 0 1 0 0 1 1 1\n",
      " 0 1 1 0 0 0 1 1 0 1 1 1 1 1 1 1 0 0 1 1 1 1 0 0 0 1 0 1 1 1 1 0 0 1 0 1 1\n",
      " 0 0 1 0 0 1 0 1 1 0 0 0 0 0 0 0 1 1 0 1 1 0 1 1 1 1 1 0 0 0 1 0 1 1 0 0 0\n",
      " 1 1 0 1 1 1 0 1 0 0 1 1 1 1 1 1 1 1 0 1 0 0 1 0 0 0 0 1 0 0 0 1 1 0 0 0 1\n",
      " 1 0 1 0 1 0 0 0 0 1 1 1 0 0 0 0 1 1 1 1 1 0 1 0 1 1 0 0 0 1 1 0 1 1 1 0 1\n",
      " 1 0 1 0 1 0 1 1 1 1 0 0 1 0 0 1 0 0 0 1 0 0 0 1 0 0 0 1 1 1 1 1 0 0 1 0 0\n",
      " 0 0 1 1 0 0 0 0 0 0 1 1 0 1 0 0 1 0 1 0 1 1 0 1 1 0 1 0 1 0 1 0 0 1 1 1 0\n",
      " 1 1 0 1 1 0 0 1 1 1 1 1 0 1 1 1 1 0 1 1 1 1 0 1 0 1 0 0 1 0 0 0 0 1 0 0 1\n",
      " 1 0 1 1 0 0 1 1 1 1 1 0 0 1 0 1 0 0 1 0 1 0 0 0 1 1 1 0 1 1 0 0 1 1 1 1 0\n",
      " 0 0 0 1 1 0 1 0 1 1 1 0 0 0 1 1 0 1 0 1 0 1 1 0 0 0 1 1 0 0 1 0 0 0 1 0]\n"
     ]
    }
   ],
   "source": [
    "temp_y_pred = tree.predict(X_test)\n",
    "#Training값을 X_test에서 넣음\n",
    "print('예측값\\n', temp_y_pred)\n",
    "print('실제값\\n', y_test)"
   ]
  },
  {
   "cell_type": "code",
   "execution_count": 13,
   "id": "6f8ffe19",
   "metadata": {
    "ExecuteTime": {
     "end_time": "2021-10-28T16:15:14.830561Z",
     "start_time": "2021-10-28T16:15:14.818566Z"
    }
   },
   "outputs": [
    {
     "name": "stdout",
     "output_type": "stream",
     "text": [
      "정확도 0.7\n"
     ]
    }
   ],
   "source": [
    "from sklearn.metrics import classification_report, accuracy_score, confusion_matrix\n",
    "\n",
    "temp_acc = accuracy_score(y_test, temp_y_pred)\n",
    "\n",
    "print('정확도',format(temp_acc))"
   ]
  },
  {
   "cell_type": "code",
   "execution_count": 14,
   "id": "6e1474e1",
   "metadata": {
    "ExecuteTime": {
     "end_time": "2021-10-28T16:15:14.845561Z",
     "start_time": "2021-10-28T16:15:14.833564Z"
    }
   },
   "outputs": [
    {
     "name": "stdout",
     "output_type": "stream",
     "text": [
      "[[151  75]\n",
      " [ 69 185]]\n"
     ]
    }
   ],
   "source": [
    "print(confusion_matrix(y_test, temp_y_pred))"
   ]
  },
  {
   "cell_type": "code",
   "execution_count": 15,
   "id": "85f91f8b",
   "metadata": {
    "ExecuteTime": {
     "end_time": "2021-10-28T16:15:14.876156Z",
     "start_time": "2021-10-28T16:15:14.848153Z"
    }
   },
   "outputs": [
    {
     "name": "stdout",
     "output_type": "stream",
     "text": [
      "              precision    recall  f1-score   support\n",
      "\n",
      "           0       0.67      0.69      0.68       220\n",
      "           1       0.73      0.71      0.72       260\n",
      "\n",
      "    accuracy                           0.70       480\n",
      "   macro avg       0.70      0.70      0.70       480\n",
      "weighted avg       0.70      0.70      0.70       480\n",
      "\n"
     ]
    }
   ],
   "source": [
    "print(classification_report((tree.predict(X_test)>0.5).astype('int16'),y_test))"
   ]
  },
  {
   "cell_type": "markdown",
   "id": "6c9abbe8",
   "metadata": {},
   "source": [
    "# 6주차 과제\n",
    "- 60171100 윤민혁\n",
    "- 와인 분류 모델"
   ]
  },
  {
   "cell_type": "code",
   "execution_count": 16,
   "id": "104e71a7",
   "metadata": {
    "ExecuteTime": {
     "end_time": "2021-10-28T16:15:14.891227Z",
     "start_time": "2021-10-28T16:15:14.878154Z"
    }
   },
   "outputs": [],
   "source": [
    "train_scores, test_scores = list(), list()"
   ]
  },
  {
   "cell_type": "code",
   "execution_count": 17,
   "id": "8d1f6130",
   "metadata": {
    "ExecuteTime": {
     "end_time": "2021-10-28T16:15:15.116281Z",
     "start_time": "2021-10-28T16:15:14.893154Z"
    }
   },
   "outputs": [
    {
     "name": "stdout",
     "output_type": "stream",
     "text": [
      ">1, train: 0.699, test: 0.717\n",
      ">2, train: 0.699, test: 0.717\n",
      ">3, train: 0.752, test: 0.690\n",
      ">4, train: 0.767, test: 0.700\n",
      ">5, train: 0.804, test: 0.721\n",
      ">6, train: 0.849, test: 0.713\n",
      ">7, train: 0.886, test: 0.721\n",
      ">8, train: 0.916, test: 0.710\n",
      ">9, train: 0.943, test: 0.727\n",
      ">10, train: 0.970, test: 0.723\n",
      ">11, train: 0.984, test: 0.733\n",
      ">12, train: 0.992, test: 0.721\n",
      ">13, train: 0.996, test: 0.729\n",
      ">14, train: 0.998, test: 0.733\n",
      ">15, train: 1.000, test: 0.706\n",
      ">16, train: 1.000, test: 0.731\n",
      ">17, train: 1.000, test: 0.731\n",
      ">18, train: 1.000, test: 0.717\n",
      ">19, train: 1.000, test: 0.731\n"
     ]
    }
   ],
   "source": [
    "for i in range(1,20):\n",
    "    DT1 = DecisionTreeClassifier(max_depth = i)\n",
    "    DT1.fit(X_train, y_train)\n",
    "    \n",
    "    #training dataset 정확도 증가\n",
    "    train_att = DT1.predict(X_train)\n",
    "    train_acc = accuracy_score(y_train, train_att)\n",
    "    train_scores.append(train_acc)\n",
    "    \n",
    "    #test dataset 정확도 평가\n",
    "    test_att = DT1.predict(X_test)\n",
    "    test_acc = accuracy_score(y_test, test_att)\n",
    "    test_scores.append(test_acc)\n",
    "    \n",
    "    #Train정확도와 Test 정확도를 depth 개수에 따른 정확도 확인\n",
    "    print('>%d, train: %.3f, test: %.3f' %(i,train_acc, test_acc))"
   ]
  },
  {
   "cell_type": "code",
   "execution_count": 18,
   "id": "a17a5d5d",
   "metadata": {
    "ExecuteTime": {
     "end_time": "2021-10-28T16:15:15.418308Z",
     "start_time": "2021-10-28T16:15:15.118187Z"
    }
   },
   "outputs": [
    {
     "data": {
      "image/png": "[encoded data removed]",
      "text/plain": [
       "<Figure size 432x288 with 1 Axes>"
      ]
     },
     "metadata": {
      "needs_background": "light"
     },
     "output_type": "display_data"
    }
   ],
   "source": [
    "from matplotlib import pyplot\n",
    "\n",
    "pyplot.plot(range(1,20), train_scores, '-o', label = 'train_acc')\n",
    "pyplot.plot(range(1,20), test_scores, '-o', label = 'test_acc')\n",
    "pyplot.legend()\n",
    "pyplot.show()"
   ]
  },
  {
   "cell_type": "markdown",
   "id": "f733b79e",
   "metadata": {},
   "source": [
    "- max depth = 4로 설정했습니다"
   ]
  },
  {
   "cell_type": "code",
   "execution_count": 19,
   "id": "33db7f5b",
   "metadata": {
    "ExecuteTime": {
     "end_time": "2021-10-28T16:15:15.875854Z",
     "start_time": "2021-10-28T16:15:15.421307Z"
    }
   },
   "outputs": [
    {
     "data": {
      "image/svg+xml": [
       "<?xml version=\"1.0\" encoding=\"UTF-8\" standalone=\"no\"?>\r\n",
       "<!DOCTYPE svg PUBLIC \"-//W3C//DTD SVG 1.1//EN\"\r\n",
       " \"http://www.w3.org/Graphics/SVG/1.1/DTD/svg11.dtd\">\r\n",
       "<!-- Generated by graphviz version 2.49.1 (20210923.0004)\r\n",
       " -->\r\n",
       "<!-- Title: Tree Pages: 1 -->\r\n",
       "<svg width=\"2030pt\" height=\"552pt\"\r\n",
       " viewBox=\"0.00 0.00 2030.00 552.00\" xmlns=\"http://www.w3.org/2000/svg\" xmlns:xlink=\"http://www.w3.org/1999/xlink\">\r\n",
       "<g id=\"graph0\" class=\"graph\" transform=\"scale(1 1) rotate(0) translate(4 548)\">\r\n",
       "<title>Tree</title>\r\n",
       "<polygon fill=\"white\" stroke=\"transparent\" points=\"-4,4 -4,-548 2026,-548 2026,4 -4,4\"/>\r\n",
       "<!-- 0 -->\r\n",
       "<g id=\"node1\" class=\"node\">\r\n",
       "<title>0</title>\r\n",
       "<polygon fill=\"none\" stroke=\"black\" points=\"1078,-544 947,-544 947,-461 1078,-461 1078,-544\"/>\r\n",
       "<text text-anchor=\"middle\" x=\"1012.5\" y=\"-528.8\" font-family=\"Helvetica,sans-Serif\" font-size=\"14.00\">alcohol &lt;= 10.017</text>\r\n",
       "<text text-anchor=\"middle\" x=\"1012.5\" y=\"-513.8\" font-family=\"Helvetica,sans-Serif\" font-size=\"14.00\">gini = 0.497</text>\r\n",
       "<text text-anchor=\"middle\" x=\"1012.5\" y=\"-498.8\" font-family=\"Helvetica,sans-Serif\" font-size=\"14.00\">samples = 1119</text>\r\n",
       "<text text-anchor=\"middle\" x=\"1012.5\" y=\"-483.8\" font-family=\"Helvetica,sans-Serif\" font-size=\"14.00\">value = [518, 601]</text>\r\n",
       "<text text-anchor=\"middle\" x=\"1012.5\" y=\"-468.8\" font-family=\"Helvetica,sans-Serif\" font-size=\"14.00\">class = High</text>\r\n",
       "</g>\r\n",
       "<!-- 1 -->\r\n",
       "<g id=\"node2\" class=\"node\">\r\n",
       "<title>1</title>\r\n",
       "<polygon fill=\"none\" stroke=\"black\" points=\"829.5,-425 691.5,-425 691.5,-342 829.5,-342 829.5,-425\"/>\r\n",
       "<text text-anchor=\"middle\" x=\"760.5\" y=\"-409.8\" font-family=\"Helvetica,sans-Serif\" font-size=\"14.00\">sulphates &lt;= 0.575</text>\r\n",
       "<text text-anchor=\"middle\" x=\"760.5\" y=\"-394.8\" font-family=\"Helvetica,sans-Serif\" font-size=\"14.00\">gini = 0.441</text>\r\n",
       "<text text-anchor=\"middle\" x=\"760.5\" y=\"-379.8\" font-family=\"Helvetica,sans-Serif\" font-size=\"14.00\">samples = 525</text>\r\n",
       "<text text-anchor=\"middle\" x=\"760.5\" y=\"-364.8\" font-family=\"Helvetica,sans-Serif\" font-size=\"14.00\">value = [353, 172]</text>\r\n",
       "<text text-anchor=\"middle\" x=\"760.5\" y=\"-349.8\" font-family=\"Helvetica,sans-Serif\" font-size=\"14.00\">class = Low</text>\r\n",
       "</g>\r\n",
       "<!-- 0&#45;&gt;1 -->\r\n",
       "<g id=\"edge1\" class=\"edge\">\r\n",
       "<title>0&#45;&gt;1</title>\r\n",
       "<path fill=\"none\" stroke=\"black\" d=\"M946.95,-471.07C913.88,-455.71 873.54,-436.98 838.85,-420.87\"/>\r\n",
       "<polygon fill=\"black\" stroke=\"black\" points=\"840.23,-417.66 829.69,-416.62 837.29,-424.01 840.23,-417.66\"/>\r\n",
       "<text text-anchor=\"middle\" x=\"838.28\" y=\"-436.4\" font-family=\"Helvetica,sans-Serif\" font-size=\"14.00\">True</text>\r\n",
       "</g>\r\n",
       "<!-- 16 -->\r\n",
       "<g id=\"node17\" class=\"node\">\r\n",
       "<title>16</title>\r\n",
       "<polygon fill=\"none\" stroke=\"black\" points=\"1349.5,-425 1219.5,-425 1219.5,-342 1349.5,-342 1349.5,-425\"/>\r\n",
       "<text text-anchor=\"middle\" x=\"1284.5\" y=\"-409.8\" font-family=\"Helvetica,sans-Serif\" font-size=\"14.00\">alcohol &lt;= 11.45</text>\r\n",
       "<text text-anchor=\"middle\" x=\"1284.5\" y=\"-394.8\" font-family=\"Helvetica,sans-Serif\" font-size=\"14.00\">gini = 0.401</text>\r\n",
       "<text text-anchor=\"middle\" x=\"1284.5\" y=\"-379.8\" font-family=\"Helvetica,sans-Serif\" font-size=\"14.00\">samples = 594</text>\r\n",
       "<text text-anchor=\"middle\" x=\"1284.5\" y=\"-364.8\" font-family=\"Helvetica,sans-Serif\" font-size=\"14.00\">value = [165, 429]</text>\r\n",
       "<text text-anchor=\"middle\" x=\"1284.5\" y=\"-349.8\" font-family=\"Helvetica,sans-Serif\" font-size=\"14.00\">class = High</text>\r\n",
       "</g>\r\n",
       "<!-- 0&#45;&gt;16 -->\r\n",
       "<g id=\"edge16\" class=\"edge\">\r\n",
       "<title>0&#45;&gt;16</title>\r\n",
       "<path fill=\"none\" stroke=\"black\" d=\"M1078.34,-473.18C1118.02,-456.11 1168.66,-434.33 1209.83,-416.62\"/>\r\n",
       "<polygon fill=\"black\" stroke=\"black\" points=\"1211.46,-419.73 1219.26,-412.56 1208.69,-413.3 1211.46,-419.73\"/>\r\n",
       "<text text-anchor=\"middle\" x=\"1210.01\" y=\"-432.09\" font-family=\"Helvetica,sans-Serif\" font-size=\"14.00\">False</text>\r\n",
       "</g>\r\n",
       "<!-- 2 -->\r\n",
       "<g id=\"node3\" class=\"node\">\r\n",
       "<title>2</title>\r\n",
       "<polygon fill=\"none\" stroke=\"black\" points=\"468.5,-306 330.5,-306 330.5,-223 468.5,-223 468.5,-306\"/>\r\n",
       "<text text-anchor=\"middle\" x=\"399.5\" y=\"-290.8\" font-family=\"Helvetica,sans-Serif\" font-size=\"14.00\">sulphates &lt;= 0.535</text>\r\n",
       "<text text-anchor=\"middle\" x=\"399.5\" y=\"-275.8\" font-family=\"Helvetica,sans-Serif\" font-size=\"14.00\">gini = 0.28</text>\r\n",
       "<text text-anchor=\"middle\" x=\"399.5\" y=\"-260.8\" font-family=\"Helvetica,sans-Serif\" font-size=\"14.00\">samples = 232</text>\r\n",
       "<text text-anchor=\"middle\" x=\"399.5\" y=\"-245.8\" font-family=\"Helvetica,sans-Serif\" font-size=\"14.00\">value = [193, 39]</text>\r\n",
       "<text text-anchor=\"middle\" x=\"399.5\" y=\"-230.8\" font-family=\"Helvetica,sans-Serif\" font-size=\"14.00\">class = Low</text>\r\n",
       "</g>\r\n",
       "<!-- 1&#45;&gt;2 -->\r\n",
       "<g id=\"edge2\" class=\"edge\">\r\n",
       "<title>1&#45;&gt;2</title>\r\n",
       "<path fill=\"none\" stroke=\"black\" d=\"M691.32,-360.08C630.47,-340.36 541.92,-311.66 478.34,-291.05\"/>\r\n",
       "<polygon fill=\"black\" stroke=\"black\" points=\"479.34,-287.7 468.75,-287.94 477.18,-294.36 479.34,-287.7\"/>\r\n",
       "</g>\r\n",
       "<!-- 9 -->\r\n",
       "<g id=\"node10\" class=\"node\">\r\n",
       "<title>9</title>\r\n",
       "<polygon fill=\"none\" stroke=\"black\" points=\"852,-306 669,-306 669,-223 852,-223 852,-306\"/>\r\n",
       "<text text-anchor=\"middle\" x=\"760.5\" y=\"-290.8\" font-family=\"Helvetica,sans-Serif\" font-size=\"14.00\">total sulfur dioxide &lt;= 50.5</text>\r\n",
       "<text text-anchor=\"middle\" x=\"760.5\" y=\"-275.8\" font-family=\"Helvetica,sans-Serif\" font-size=\"14.00\">gini = 0.496</text>\r\n",
       "<text text-anchor=\"middle\" x=\"760.5\" y=\"-260.8\" font-family=\"Helvetica,sans-Serif\" font-size=\"14.00\">samples = 293</text>\r\n",
       "<text text-anchor=\"middle\" x=\"760.5\" y=\"-245.8\" font-family=\"Helvetica,sans-Serif\" font-size=\"14.00\">value = [160, 133]</text>\r\n",
       "<text text-anchor=\"middle\" x=\"760.5\" y=\"-230.8\" font-family=\"Helvetica,sans-Serif\" font-size=\"14.00\">class = Low</text>\r\n",
       "</g>\r\n",
       "<!-- 1&#45;&gt;9 -->\r\n",
       "<g id=\"edge9\" class=\"edge\">\r\n",
       "<title>1&#45;&gt;9</title>\r\n",
       "<path fill=\"none\" stroke=\"black\" d=\"M760.5,-341.91C760.5,-333.65 760.5,-324.86 760.5,-316.3\"/>\r\n",
       "<polygon fill=\"black\" stroke=\"black\" points=\"764,-316.02 760.5,-306.02 757,-316.02 764,-316.02\"/>\r\n",
       "</g>\r\n",
       "<!-- 3 -->\r\n",
       "<g id=\"node4\" class=\"node\">\r\n",
       "<title>3</title>\r\n",
       "<polygon fill=\"none\" stroke=\"black\" points=\"252,-187 115,-187 115,-104 252,-104 252,-187\"/>\r\n",
       "<text text-anchor=\"middle\" x=\"183.5\" y=\"-171.8\" font-family=\"Helvetica,sans-Serif\" font-size=\"14.00\">citric acid &lt;= 0.195</text>\r\n",
       "<text text-anchor=\"middle\" x=\"183.5\" y=\"-156.8\" font-family=\"Helvetica,sans-Serif\" font-size=\"14.00\">gini = 0.19</text>\r\n",
       "<text text-anchor=\"middle\" x=\"183.5\" y=\"-141.8\" font-family=\"Helvetica,sans-Serif\" font-size=\"14.00\">samples = 141</text>\r\n",
       "<text text-anchor=\"middle\" x=\"183.5\" y=\"-126.8\" font-family=\"Helvetica,sans-Serif\" font-size=\"14.00\">value = [126, 15]</text>\r\n",
       "<text text-anchor=\"middle\" x=\"183.5\" y=\"-111.8\" font-family=\"Helvetica,sans-Serif\" font-size=\"14.00\">class = Low</text>\r\n",
       "</g>\r\n",
       "<!-- 2&#45;&gt;3 -->\r\n",
       "<g id=\"edge3\" class=\"edge\">\r\n",
       "<title>2&#45;&gt;3</title>\r\n",
       "<path fill=\"none\" stroke=\"black\" d=\"M330.26,-226C308.26,-214.08 283.78,-200.82 261.22,-188.6\"/>\r\n",
       "<polygon fill=\"black\" stroke=\"black\" points=\"262.8,-185.48 252.34,-183.79 259.47,-191.63 262.8,-185.48\"/>\r\n",
       "</g>\r\n",
       "<!-- 6 -->\r\n",
       "<g id=\"node7\" class=\"node\">\r\n",
       "<title>6</title>\r\n",
       "<polygon fill=\"none\" stroke=\"black\" points=\"490.5,-187 308.5,-187 308.5,-104 490.5,-104 490.5,-187\"/>\r\n",
       "<text text-anchor=\"middle\" x=\"399.5\" y=\"-171.8\" font-family=\"Helvetica,sans-Serif\" font-size=\"14.00\">free sulfur dioxide &lt;= 22.5</text>\r\n",
       "<text text-anchor=\"middle\" x=\"399.5\" y=\"-156.8\" font-family=\"Helvetica,sans-Serif\" font-size=\"14.00\">gini = 0.388</text>\r\n",
       "<text text-anchor=\"middle\" x=\"399.5\" y=\"-141.8\" font-family=\"Helvetica,sans-Serif\" font-size=\"14.00\">samples = 91</text>\r\n",
       "<text text-anchor=\"middle\" x=\"399.5\" y=\"-126.8\" font-family=\"Helvetica,sans-Serif\" font-size=\"14.00\">value = [67, 24]</text>\r\n",
       "<text text-anchor=\"middle\" x=\"399.5\" y=\"-111.8\" font-family=\"Helvetica,sans-Serif\" font-size=\"14.00\">class = Low</text>\r\n",
       "</g>\r\n",
       "<!-- 2&#45;&gt;6 -->\r\n",
       "<g id=\"edge6\" class=\"edge\">\r\n",
       "<title>2&#45;&gt;6</title>\r\n",
       "<path fill=\"none\" stroke=\"black\" d=\"M399.5,-222.91C399.5,-214.65 399.5,-205.86 399.5,-197.3\"/>\r\n",
       "<polygon fill=\"black\" stroke=\"black\" points=\"403,-197.02 399.5,-187.02 396,-197.02 403,-197.02\"/>\r\n",
       "</g>\r\n",
       "<!-- 4 -->\r\n",
       "<g id=\"node5\" class=\"node\">\r\n",
       "<title>4</title>\r\n",
       "<polygon fill=\"none\" stroke=\"black\" points=\"113,-68 0,-68 0,0 113,0 113,-68\"/>\r\n",
       "<text text-anchor=\"middle\" x=\"56.5\" y=\"-52.8\" font-family=\"Helvetica,sans-Serif\" font-size=\"14.00\">gini = 0.313</text>\r\n",
       "<text text-anchor=\"middle\" x=\"56.5\" y=\"-37.8\" font-family=\"Helvetica,sans-Serif\" font-size=\"14.00\">samples = 67</text>\r\n",
       "<text text-anchor=\"middle\" x=\"56.5\" y=\"-22.8\" font-family=\"Helvetica,sans-Serif\" font-size=\"14.00\">value = [54, 13]</text>\r\n",
       "<text text-anchor=\"middle\" x=\"56.5\" y=\"-7.8\" font-family=\"Helvetica,sans-Serif\" font-size=\"14.00\">class = Low</text>\r\n",
       "</g>\r\n",
       "<!-- 3&#45;&gt;4 -->\r\n",
       "<g id=\"edge4\" class=\"edge\">\r\n",
       "<title>3&#45;&gt;4</title>\r\n",
       "<path fill=\"none\" stroke=\"black\" d=\"M136.21,-103.73C125.31,-94.33 113.74,-84.35 102.88,-74.99\"/>\r\n",
       "<polygon fill=\"black\" stroke=\"black\" points=\"104.98,-72.18 95.12,-68.3 100.41,-77.48 104.98,-72.18\"/>\r\n",
       "</g>\r\n",
       "<!-- 5 -->\r\n",
       "<g id=\"node6\" class=\"node\">\r\n",
       "<title>5</title>\r\n",
       "<polygon fill=\"none\" stroke=\"black\" points=\"236,-68 131,-68 131,0 236,0 236,-68\"/>\r\n",
       "<text text-anchor=\"middle\" x=\"183.5\" y=\"-52.8\" font-family=\"Helvetica,sans-Serif\" font-size=\"14.00\">gini = 0.053</text>\r\n",
       "<text text-anchor=\"middle\" x=\"183.5\" y=\"-37.8\" font-family=\"Helvetica,sans-Serif\" font-size=\"14.00\">samples = 74</text>\r\n",
       "<text text-anchor=\"middle\" x=\"183.5\" y=\"-22.8\" font-family=\"Helvetica,sans-Serif\" font-size=\"14.00\">value = [72, 2]</text>\r\n",
       "<text text-anchor=\"middle\" x=\"183.5\" y=\"-7.8\" font-family=\"Helvetica,sans-Serif\" font-size=\"14.00\">class = Low</text>\r\n",
       "</g>\r\n",
       "<!-- 3&#45;&gt;5 -->\r\n",
       "<g id=\"edge5\" class=\"edge\">\r\n",
       "<title>3&#45;&gt;5</title>\r\n",
       "<path fill=\"none\" stroke=\"black\" d=\"M183.5,-103.73C183.5,-95.52 183.5,-86.86 183.5,-78.56\"/>\r\n",
       "<polygon fill=\"black\" stroke=\"black\" points=\"187,-78.3 183.5,-68.3 180,-78.3 187,-78.3\"/>\r\n",
       "</g>\r\n",
       "<!-- 7 -->\r\n",
       "<g id=\"node8\" class=\"node\">\r\n",
       "<title>7</title>\r\n",
       "<polygon fill=\"none\" stroke=\"black\" points=\"367,-68 254,-68 254,0 367,0 367,-68\"/>\r\n",
       "<text text-anchor=\"middle\" x=\"310.5\" y=\"-52.8\" font-family=\"Helvetica,sans-Serif\" font-size=\"14.00\">gini = 0.441</text>\r\n",
       "<text text-anchor=\"middle\" x=\"310.5\" y=\"-37.8\" font-family=\"Helvetica,sans-Serif\" font-size=\"14.00\">samples = 73</text>\r\n",
       "<text text-anchor=\"middle\" x=\"310.5\" y=\"-22.8\" font-family=\"Helvetica,sans-Serif\" font-size=\"14.00\">value = [49, 24]</text>\r\n",
       "<text text-anchor=\"middle\" x=\"310.5\" y=\"-7.8\" font-family=\"Helvetica,sans-Serif\" font-size=\"14.00\">class = Low</text>\r\n",
       "</g>\r\n",
       "<!-- 6&#45;&gt;7 -->\r\n",
       "<g id=\"edge7\" class=\"edge\">\r\n",
       "<title>6&#45;&gt;7</title>\r\n",
       "<path fill=\"none\" stroke=\"black\" d=\"M366.36,-103.73C359.02,-94.7 351.24,-85.12 343.89,-76.08\"/>\r\n",
       "<polygon fill=\"black\" stroke=\"black\" points=\"346.59,-73.85 337.57,-68.3 341.16,-78.27 346.59,-73.85\"/>\r\n",
       "</g>\r\n",
       "<!-- 8 -->\r\n",
       "<g id=\"node9\" class=\"node\">\r\n",
       "<title>8</title>\r\n",
       "<polygon fill=\"none\" stroke=\"black\" points=\"490,-68 385,-68 385,0 490,0 490,-68\"/>\r\n",
       "<text text-anchor=\"middle\" x=\"437.5\" y=\"-52.8\" font-family=\"Helvetica,sans-Serif\" font-size=\"14.00\">gini = 0.0</text>\r\n",
       "<text text-anchor=\"middle\" x=\"437.5\" y=\"-37.8\" font-family=\"Helvetica,sans-Serif\" font-size=\"14.00\">samples = 18</text>\r\n",
       "<text text-anchor=\"middle\" x=\"437.5\" y=\"-22.8\" font-family=\"Helvetica,sans-Serif\" font-size=\"14.00\">value = [18, 0]</text>\r\n",
       "<text text-anchor=\"middle\" x=\"437.5\" y=\"-7.8\" font-family=\"Helvetica,sans-Serif\" font-size=\"14.00\">class = Low</text>\r\n",
       "</g>\r\n",
       "<!-- 6&#45;&gt;8 -->\r\n",
       "<g id=\"edge8\" class=\"edge\">\r\n",
       "<title>6&#45;&gt;8</title>\r\n",
       "<path fill=\"none\" stroke=\"black\" d=\"M413.65,-103.73C416.56,-95.34 419.64,-86.47 422.58,-78.01\"/>\r\n",
       "<polygon fill=\"black\" stroke=\"black\" points=\"425.97,-78.89 425.94,-68.3 419.36,-76.6 425.97,-78.89\"/>\r\n",
       "</g>\r\n",
       "<!-- 10 -->\r\n",
       "<g id=\"node11\" class=\"node\">\r\n",
       "<title>10</title>\r\n",
       "<polygon fill=\"none\" stroke=\"black\" points=\"740.5,-187 602.5,-187 602.5,-104 740.5,-104 740.5,-187\"/>\r\n",
       "<text text-anchor=\"middle\" x=\"671.5\" y=\"-171.8\" font-family=\"Helvetica,sans-Serif\" font-size=\"14.00\">sulphates &lt;= 0.695</text>\r\n",
       "<text text-anchor=\"middle\" x=\"671.5\" y=\"-156.8\" font-family=\"Helvetica,sans-Serif\" font-size=\"14.00\">gini = 0.48</text>\r\n",
       "<text text-anchor=\"middle\" x=\"671.5\" y=\"-141.8\" font-family=\"Helvetica,sans-Serif\" font-size=\"14.00\">samples = 167</text>\r\n",
       "<text text-anchor=\"middle\" x=\"671.5\" y=\"-126.8\" font-family=\"Helvetica,sans-Serif\" font-size=\"14.00\">value = [67, 100]</text>\r\n",
       "<text text-anchor=\"middle\" x=\"671.5\" y=\"-111.8\" font-family=\"Helvetica,sans-Serif\" font-size=\"14.00\">class = High</text>\r\n",
       "</g>\r\n",
       "<!-- 9&#45;&gt;10 -->\r\n",
       "<g id=\"edge10\" class=\"edge\">\r\n",
       "<title>9&#45;&gt;10</title>\r\n",
       "<path fill=\"none\" stroke=\"black\" d=\"M729.62,-222.91C722.79,-213.92 715.48,-204.32 708.43,-195.05\"/>\r\n",
       "<polygon fill=\"black\" stroke=\"black\" points=\"711.16,-192.86 702.32,-187.02 705.59,-197.1 711.16,-192.86\"/>\r\n",
       "</g>\r\n",
       "<!-- 13 -->\r\n",
       "<g id=\"node14\" class=\"node\">\r\n",
       "<title>13</title>\r\n",
       "<polygon fill=\"none\" stroke=\"black\" points=\"942,-187 759,-187 759,-104 942,-104 942,-187\"/>\r\n",
       "<text text-anchor=\"middle\" x=\"850.5\" y=\"-171.8\" font-family=\"Helvetica,sans-Serif\" font-size=\"14.00\">total sulfur dioxide &lt;= 95.5</text>\r\n",
       "<text text-anchor=\"middle\" x=\"850.5\" y=\"-156.8\" font-family=\"Helvetica,sans-Serif\" font-size=\"14.00\">gini = 0.387</text>\r\n",
       "<text text-anchor=\"middle\" x=\"850.5\" y=\"-141.8\" font-family=\"Helvetica,sans-Serif\" font-size=\"14.00\">samples = 126</text>\r\n",
       "<text text-anchor=\"middle\" x=\"850.5\" y=\"-126.8\" font-family=\"Helvetica,sans-Serif\" font-size=\"14.00\">value = [93, 33]</text>\r\n",
       "<text text-anchor=\"middle\" x=\"850.5\" y=\"-111.8\" font-family=\"Helvetica,sans-Serif\" font-size=\"14.00\">class = Low</text>\r\n",
       "</g>\r\n",
       "<!-- 9&#45;&gt;13 -->\r\n",
       "<g id=\"edge13\" class=\"edge\">\r\n",
       "<title>9&#45;&gt;13</title>\r\n",
       "<path fill=\"none\" stroke=\"black\" d=\"M791.73,-222.91C798.64,-213.92 806.03,-204.32 813.15,-195.05\"/>\r\n",
       "<polygon fill=\"black\" stroke=\"black\" points=\"816.01,-197.08 819.33,-187.02 810.46,-192.81 816.01,-197.08\"/>\r\n",
       "</g>\r\n",
       "<!-- 11 -->\r\n",
       "<g id=\"node12\" class=\"node\">\r\n",
       "<title>11</title>\r\n",
       "<polygon fill=\"none\" stroke=\"black\" points=\"621,-68 508,-68 508,0 621,0 621,-68\"/>\r\n",
       "<text text-anchor=\"middle\" x=\"564.5\" y=\"-52.8\" font-family=\"Helvetica,sans-Serif\" font-size=\"14.00\">gini = 0.499</text>\r\n",
       "<text text-anchor=\"middle\" x=\"564.5\" y=\"-37.8\" font-family=\"Helvetica,sans-Serif\" font-size=\"14.00\">samples = 100</text>\r\n",
       "<text text-anchor=\"middle\" x=\"564.5\" y=\"-22.8\" font-family=\"Helvetica,sans-Serif\" font-size=\"14.00\">value = [52, 48]</text>\r\n",
       "<text text-anchor=\"middle\" x=\"564.5\" y=\"-7.8\" font-family=\"Helvetica,sans-Serif\" font-size=\"14.00\">class = Low</text>\r\n",
       "</g>\r\n",
       "<!-- 10&#45;&gt;11 -->\r\n",
       "<g id=\"edge11\" class=\"edge\">\r\n",
       "<title>10&#45;&gt;11</title>\r\n",
       "<path fill=\"none\" stroke=\"black\" d=\"M631.66,-103.73C622.66,-94.51 613.1,-84.74 604.11,-75.53\"/>\r\n",
       "<polygon fill=\"black\" stroke=\"black\" points=\"606.53,-73.01 597.04,-68.3 601.53,-77.9 606.53,-73.01\"/>\r\n",
       "</g>\r\n",
       "<!-- 12 -->\r\n",
       "<g id=\"node13\" class=\"node\">\r\n",
       "<title>12</title>\r\n",
       "<polygon fill=\"none\" stroke=\"black\" points=\"752,-68 639,-68 639,0 752,0 752,-68\"/>\r\n",
       "<text text-anchor=\"middle\" x=\"695.5\" y=\"-52.8\" font-family=\"Helvetica,sans-Serif\" font-size=\"14.00\">gini = 0.348</text>\r\n",
       "<text text-anchor=\"middle\" x=\"695.5\" y=\"-37.8\" font-family=\"Helvetica,sans-Serif\" font-size=\"14.00\">samples = 67</text>\r\n",
       "<text text-anchor=\"middle\" x=\"695.5\" y=\"-22.8\" font-family=\"Helvetica,sans-Serif\" font-size=\"14.00\">value = [15, 52]</text>\r\n",
       "<text text-anchor=\"middle\" x=\"695.5\" y=\"-7.8\" font-family=\"Helvetica,sans-Serif\" font-size=\"14.00\">class = High</text>\r\n",
       "</g>\r\n",
       "<!-- 10&#45;&gt;12 -->\r\n",
       "<g id=\"edge12\" class=\"edge\">\r\n",
       "<title>10&#45;&gt;12</title>\r\n",
       "<path fill=\"none\" stroke=\"black\" d=\"M680.44,-103.73C682.26,-95.43 684.18,-86.67 686.01,-78.28\"/>\r\n",
       "<polygon fill=\"black\" stroke=\"black\" points=\"689.48,-78.82 688.2,-68.3 682.64,-77.32 689.48,-78.82\"/>\r\n",
       "</g>\r\n",
       "<!-- 14 -->\r\n",
       "<g id=\"node15\" class=\"node\">\r\n",
       "<title>14</title>\r\n",
       "<polygon fill=\"none\" stroke=\"black\" points=\"883,-68 770,-68 770,0 883,0 883,-68\"/>\r\n",
       "<text text-anchor=\"middle\" x=\"826.5\" y=\"-52.8\" font-family=\"Helvetica,sans-Serif\" font-size=\"14.00\">gini = 0.452</text>\r\n",
       "<text text-anchor=\"middle\" x=\"826.5\" y=\"-37.8\" font-family=\"Helvetica,sans-Serif\" font-size=\"14.00\">samples = 87</text>\r\n",
       "<text text-anchor=\"middle\" x=\"826.5\" y=\"-22.8\" font-family=\"Helvetica,sans-Serif\" font-size=\"14.00\">value = [57, 30]</text>\r\n",
       "<text text-anchor=\"middle\" x=\"826.5\" y=\"-7.8\" font-family=\"Helvetica,sans-Serif\" font-size=\"14.00\">class = Low</text>\r\n",
       "</g>\r\n",
       "<!-- 13&#45;&gt;14 -->\r\n",
       "<g id=\"edge14\" class=\"edge\">\r\n",
       "<title>13&#45;&gt;14</title>\r\n",
       "<path fill=\"none\" stroke=\"black\" d=\"M841.56,-103.73C839.74,-95.43 837.82,-86.67 835.99,-78.28\"/>\r\n",
       "<polygon fill=\"black\" stroke=\"black\" points=\"839.36,-77.32 833.8,-68.3 832.52,-78.82 839.36,-77.32\"/>\r\n",
       "</g>\r\n",
       "<!-- 15 -->\r\n",
       "<g id=\"node16\" class=\"node\">\r\n",
       "<title>15</title>\r\n",
       "<polygon fill=\"none\" stroke=\"black\" points=\"1006,-68 901,-68 901,0 1006,0 1006,-68\"/>\r\n",
       "<text text-anchor=\"middle\" x=\"953.5\" y=\"-52.8\" font-family=\"Helvetica,sans-Serif\" font-size=\"14.00\">gini = 0.142</text>\r\n",
       "<text text-anchor=\"middle\" x=\"953.5\" y=\"-37.8\" font-family=\"Helvetica,sans-Serif\" font-size=\"14.00\">samples = 39</text>\r\n",
       "<text text-anchor=\"middle\" x=\"953.5\" y=\"-22.8\" font-family=\"Helvetica,sans-Serif\" font-size=\"14.00\">value = [36, 3]</text>\r\n",
       "<text text-anchor=\"middle\" x=\"953.5\" y=\"-7.8\" font-family=\"Helvetica,sans-Serif\" font-size=\"14.00\">class = Low</text>\r\n",
       "</g>\r\n",
       "<!-- 13&#45;&gt;15 -->\r\n",
       "<g id=\"edge15\" class=\"edge\">\r\n",
       "<title>13&#45;&gt;15</title>\r\n",
       "<path fill=\"none\" stroke=\"black\" d=\"M888.85,-103.73C897.43,-94.61 906.53,-84.93 915.11,-75.81\"/>\r\n",
       "<polygon fill=\"black\" stroke=\"black\" points=\"917.87,-77.98 922.18,-68.3 912.78,-73.19 917.87,-77.98\"/>\r\n",
       "</g>\r\n",
       "<!-- 17 -->\r\n",
       "<g id=\"node18\" class=\"node\">\r\n",
       "<title>17</title>\r\n",
       "<polygon fill=\"none\" stroke=\"black\" points=\"1366.5,-306 1202.5,-306 1202.5,-223 1366.5,-223 1366.5,-306\"/>\r\n",
       "<text text-anchor=\"middle\" x=\"1284.5\" y=\"-290.8\" font-family=\"Helvetica,sans-Serif\" font-size=\"14.00\">volatile acidity &lt;= 0.637</text>\r\n",
       "<text text-anchor=\"middle\" x=\"1284.5\" y=\"-275.8\" font-family=\"Helvetica,sans-Serif\" font-size=\"14.00\">gini = 0.467</text>\r\n",
       "<text text-anchor=\"middle\" x=\"1284.5\" y=\"-260.8\" font-family=\"Helvetica,sans-Serif\" font-size=\"14.00\">samples = 400</text>\r\n",
       "<text text-anchor=\"middle\" x=\"1284.5\" y=\"-245.8\" font-family=\"Helvetica,sans-Serif\" font-size=\"14.00\">value = [149, 251]</text>\r\n",
       "<text text-anchor=\"middle\" x=\"1284.5\" y=\"-230.8\" font-family=\"Helvetica,sans-Serif\" font-size=\"14.00\">class = High</text>\r\n",
       "</g>\r\n",
       "<!-- 16&#45;&gt;17 -->\r\n",
       "<g id=\"edge17\" class=\"edge\">\r\n",
       "<title>16&#45;&gt;17</title>\r\n",
       "<path fill=\"none\" stroke=\"black\" d=\"M1284.5,-341.91C1284.5,-333.65 1284.5,-324.86 1284.5,-316.3\"/>\r\n",
       "<polygon fill=\"black\" stroke=\"black\" points=\"1288,-316.02 1284.5,-306.02 1281,-316.02 1288,-316.02\"/>\r\n",
       "</g>\r\n",
       "<!-- 24 -->\r\n",
       "<g id=\"node25\" class=\"node\">\r\n",
       "<title>24</title>\r\n",
       "<polygon fill=\"none\" stroke=\"black\" points=\"1734.5,-306 1570.5,-306 1570.5,-223 1734.5,-223 1734.5,-306\"/>\r\n",
       "<text text-anchor=\"middle\" x=\"1652.5\" y=\"-290.8\" font-family=\"Helvetica,sans-Serif\" font-size=\"14.00\">volatile acidity &lt;= 0.565</text>\r\n",
       "<text text-anchor=\"middle\" x=\"1652.5\" y=\"-275.8\" font-family=\"Helvetica,sans-Serif\" font-size=\"14.00\">gini = 0.151</text>\r\n",
       "<text text-anchor=\"middle\" x=\"1652.5\" y=\"-260.8\" font-family=\"Helvetica,sans-Serif\" font-size=\"14.00\">samples = 194</text>\r\n",
       "<text text-anchor=\"middle\" x=\"1652.5\" y=\"-245.8\" font-family=\"Helvetica,sans-Serif\" font-size=\"14.00\">value = [16, 178]</text>\r\n",
       "<text text-anchor=\"middle\" x=\"1652.5\" y=\"-230.8\" font-family=\"Helvetica,sans-Serif\" font-size=\"14.00\">class = High</text>\r\n",
       "</g>\r\n",
       "<!-- 16&#45;&gt;24 -->\r\n",
       "<g id=\"edge24\" class=\"edge\">\r\n",
       "<title>16&#45;&gt;24</title>\r\n",
       "<path fill=\"none\" stroke=\"black\" d=\"M1349.87,-361.72C1408.41,-343.1 1494.89,-315.61 1560.42,-294.77\"/>\r\n",
       "<polygon fill=\"black\" stroke=\"black\" points=\"1561.88,-297.99 1570.34,-291.62 1559.75,-291.31 1561.88,-297.99\"/>\r\n",
       "</g>\r\n",
       "<!-- 18 -->\r\n",
       "<g id=\"node19\" class=\"node\">\r\n",
       "<title>18</title>\r\n",
       "<polygon fill=\"none\" stroke=\"black\" points=\"1271.5,-187 1149.5,-187 1149.5,-104 1271.5,-104 1271.5,-187\"/>\r\n",
       "<text text-anchor=\"middle\" x=\"1210.5\" y=\"-171.8\" font-family=\"Helvetica,sans-Serif\" font-size=\"14.00\">pH &lt;= 3.48</text>\r\n",
       "<text text-anchor=\"middle\" x=\"1210.5\" y=\"-156.8\" font-family=\"Helvetica,sans-Serif\" font-size=\"14.00\">gini = 0.414</text>\r\n",
       "<text text-anchor=\"middle\" x=\"1210.5\" y=\"-141.8\" font-family=\"Helvetica,sans-Serif\" font-size=\"14.00\">samples = 308</text>\r\n",
       "<text text-anchor=\"middle\" x=\"1210.5\" y=\"-126.8\" font-family=\"Helvetica,sans-Serif\" font-size=\"14.00\">value = [90, 218]</text>\r\n",
       "<text text-anchor=\"middle\" x=\"1210.5\" y=\"-111.8\" font-family=\"Helvetica,sans-Serif\" font-size=\"14.00\">class = High</text>\r\n",
       "</g>\r\n",
       "<!-- 17&#45;&gt;18 -->\r\n",
       "<g id=\"edge18\" class=\"edge\">\r\n",
       "<title>17&#45;&gt;18</title>\r\n",
       "<path fill=\"none\" stroke=\"black\" d=\"M1258.83,-222.91C1253.26,-214.1 1247.31,-204.7 1241.56,-195.61\"/>\r\n",
       "<polygon fill=\"black\" stroke=\"black\" points=\"1244.43,-193.6 1236.13,-187.02 1238.52,-197.34 1244.43,-193.6\"/>\r\n",
       "</g>\r\n",
       "<!-- 21 -->\r\n",
       "<g id=\"node22\" class=\"node\">\r\n",
       "<title>21</title>\r\n",
       "<polygon fill=\"none\" stroke=\"black\" points=\"1427.5,-187 1289.5,-187 1289.5,-104 1427.5,-104 1427.5,-187\"/>\r\n",
       "<text text-anchor=\"middle\" x=\"1358.5\" y=\"-171.8\" font-family=\"Helvetica,sans-Serif\" font-size=\"14.00\">sulphates &lt;= 0.595</text>\r\n",
       "<text text-anchor=\"middle\" x=\"1358.5\" y=\"-156.8\" font-family=\"Helvetica,sans-Serif\" font-size=\"14.00\">gini = 0.46</text>\r\n",
       "<text text-anchor=\"middle\" x=\"1358.5\" y=\"-141.8\" font-family=\"Helvetica,sans-Serif\" font-size=\"14.00\">samples = 92</text>\r\n",
       "<text text-anchor=\"middle\" x=\"1358.5\" y=\"-126.8\" font-family=\"Helvetica,sans-Serif\" font-size=\"14.00\">value = [59, 33]</text>\r\n",
       "<text text-anchor=\"middle\" x=\"1358.5\" y=\"-111.8\" font-family=\"Helvetica,sans-Serif\" font-size=\"14.00\">class = Low</text>\r\n",
       "</g>\r\n",
       "<!-- 17&#45;&gt;21 -->\r\n",
       "<g id=\"edge21\" class=\"edge\">\r\n",
       "<title>17&#45;&gt;21</title>\r\n",
       "<path fill=\"none\" stroke=\"black\" d=\"M1310.17,-222.91C1315.74,-214.1 1321.69,-204.7 1327.44,-195.61\"/>\r\n",
       "<polygon fill=\"black\" stroke=\"black\" points=\"1330.48,-197.34 1332.87,-187.02 1324.57,-193.6 1330.48,-197.34\"/>\r\n",
       "</g>\r\n",
       "<!-- 19 -->\r\n",
       "<g id=\"node20\" class=\"node\">\r\n",
       "<title>19</title>\r\n",
       "<polygon fill=\"none\" stroke=\"black\" points=\"1146.5,-68 1024.5,-68 1024.5,0 1146.5,0 1146.5,-68\"/>\r\n",
       "<text text-anchor=\"middle\" x=\"1085.5\" y=\"-52.8\" font-family=\"Helvetica,sans-Serif\" font-size=\"14.00\">gini = 0.379</text>\r\n",
       "<text text-anchor=\"middle\" x=\"1085.5\" y=\"-37.8\" font-family=\"Helvetica,sans-Serif\" font-size=\"14.00\">samples = 279</text>\r\n",
       "<text text-anchor=\"middle\" x=\"1085.5\" y=\"-22.8\" font-family=\"Helvetica,sans-Serif\" font-size=\"14.00\">value = [71, 208]</text>\r\n",
       "<text text-anchor=\"middle\" x=\"1085.5\" y=\"-7.8\" font-family=\"Helvetica,sans-Serif\" font-size=\"14.00\">class = High</text>\r\n",
       "</g>\r\n",
       "<!-- 18&#45;&gt;19 -->\r\n",
       "<g id=\"edge19\" class=\"edge\">\r\n",
       "<title>18&#45;&gt;19</title>\r\n",
       "<path fill=\"none\" stroke=\"black\" d=\"M1163.95,-103.73C1153.23,-94.33 1141.83,-84.35 1131.15,-74.99\"/>\r\n",
       "<polygon fill=\"black\" stroke=\"black\" points=\"1133.34,-72.26 1123.51,-68.3 1128.73,-77.52 1133.34,-72.26\"/>\r\n",
       "</g>\r\n",
       "<!-- 20 -->\r\n",
       "<g id=\"node21\" class=\"node\">\r\n",
       "<title>20</title>\r\n",
       "<polygon fill=\"none\" stroke=\"black\" points=\"1278,-68 1165,-68 1165,0 1278,0 1278,-68\"/>\r\n",
       "<text text-anchor=\"middle\" x=\"1221.5\" y=\"-52.8\" font-family=\"Helvetica,sans-Serif\" font-size=\"14.00\">gini = 0.452</text>\r\n",
       "<text text-anchor=\"middle\" x=\"1221.5\" y=\"-37.8\" font-family=\"Helvetica,sans-Serif\" font-size=\"14.00\">samples = 29</text>\r\n",
       "<text text-anchor=\"middle\" x=\"1221.5\" y=\"-22.8\" font-family=\"Helvetica,sans-Serif\" font-size=\"14.00\">value = [19, 10]</text>\r\n",
       "<text text-anchor=\"middle\" x=\"1221.5\" y=\"-7.8\" font-family=\"Helvetica,sans-Serif\" font-size=\"14.00\">class = Low</text>\r\n",
       "</g>\r\n",
       "<!-- 18&#45;&gt;20 -->\r\n",
       "<g id=\"edge20\" class=\"edge\">\r\n",
       "<title>18&#45;&gt;20</title>\r\n",
       "<path fill=\"none\" stroke=\"black\" d=\"M1214.6,-103.73C1215.43,-95.43 1216.31,-86.67 1217.15,-78.28\"/>\r\n",
       "<polygon fill=\"black\" stroke=\"black\" points=\"1220.64,-78.6 1218.15,-68.3 1213.67,-77.9 1220.64,-78.6\"/>\r\n",
       "</g>\r\n",
       "<!-- 22 -->\r\n",
       "<g id=\"node23\" class=\"node\">\r\n",
       "<title>22</title>\r\n",
       "<polygon fill=\"none\" stroke=\"black\" points=\"1401,-68 1296,-68 1296,0 1401,0 1401,-68\"/>\r\n",
       "<text text-anchor=\"middle\" x=\"1348.5\" y=\"-52.8\" font-family=\"Helvetica,sans-Serif\" font-size=\"14.00\">gini = 0.298</text>\r\n",
       "<text text-anchor=\"middle\" x=\"1348.5\" y=\"-37.8\" font-family=\"Helvetica,sans-Serif\" font-size=\"14.00\">samples = 44</text>\r\n",
       "<text text-anchor=\"middle\" x=\"1348.5\" y=\"-22.8\" font-family=\"Helvetica,sans-Serif\" font-size=\"14.00\">value = [36, 8]</text>\r\n",
       "<text text-anchor=\"middle\" x=\"1348.5\" y=\"-7.8\" font-family=\"Helvetica,sans-Serif\" font-size=\"14.00\">class = Low</text>\r\n",
       "</g>\r\n",
       "<!-- 21&#45;&gt;22 -->\r\n",
       "<g id=\"edge22\" class=\"edge\">\r\n",
       "<title>21&#45;&gt;22</title>\r\n",
       "<path fill=\"none\" stroke=\"black\" d=\"M1354.78,-103.73C1354.02,-95.43 1353.22,-86.67 1352.45,-78.28\"/>\r\n",
       "<polygon fill=\"black\" stroke=\"black\" points=\"1355.94,-77.94 1351.54,-68.3 1348.97,-78.58 1355.94,-77.94\"/>\r\n",
       "</g>\r\n",
       "<!-- 23 -->\r\n",
       "<g id=\"node24\" class=\"node\">\r\n",
       "<title>23</title>\r\n",
       "<polygon fill=\"none\" stroke=\"black\" points=\"1532,-68 1419,-68 1419,0 1532,0 1532,-68\"/>\r\n",
       "<text text-anchor=\"middle\" x=\"1475.5\" y=\"-52.8\" font-family=\"Helvetica,sans-Serif\" font-size=\"14.00\">gini = 0.499</text>\r\n",
       "<text text-anchor=\"middle\" x=\"1475.5\" y=\"-37.8\" font-family=\"Helvetica,sans-Serif\" font-size=\"14.00\">samples = 48</text>\r\n",
       "<text text-anchor=\"middle\" x=\"1475.5\" y=\"-22.8\" font-family=\"Helvetica,sans-Serif\" font-size=\"14.00\">value = [23, 25]</text>\r\n",
       "<text text-anchor=\"middle\" x=\"1475.5\" y=\"-7.8\" font-family=\"Helvetica,sans-Serif\" font-size=\"14.00\">class = High</text>\r\n",
       "</g>\r\n",
       "<!-- 21&#45;&gt;23 -->\r\n",
       "<g id=\"edge23\" class=\"edge\">\r\n",
       "<title>21&#45;&gt;23</title>\r\n",
       "<path fill=\"none\" stroke=\"black\" d=\"M1402.07,-103.73C1412.01,-94.42 1422.56,-84.54 1432.48,-75.26\"/>\r\n",
       "<polygon fill=\"black\" stroke=\"black\" points=\"1435.01,-77.69 1439.92,-68.3 1430.23,-72.58 1435.01,-77.69\"/>\r\n",
       "</g>\r\n",
       "<!-- 25 -->\r\n",
       "<g id=\"node26\" class=\"node\">\r\n",
       "<title>25</title>\r\n",
       "<polygon fill=\"none\" stroke=\"black\" points=\"1713.5,-187 1591.5,-187 1591.5,-104 1713.5,-104 1713.5,-187\"/>\r\n",
       "<text text-anchor=\"middle\" x=\"1652.5\" y=\"-171.8\" font-family=\"Helvetica,sans-Serif\" font-size=\"14.00\">alcohol &lt;= 14.45</text>\r\n",
       "<text text-anchor=\"middle\" x=\"1652.5\" y=\"-156.8\" font-family=\"Helvetica,sans-Serif\" font-size=\"14.00\">gini = 0.079</text>\r\n",
       "<text text-anchor=\"middle\" x=\"1652.5\" y=\"-141.8\" font-family=\"Helvetica,sans-Serif\" font-size=\"14.00\">samples = 146</text>\r\n",
       "<text text-anchor=\"middle\" x=\"1652.5\" y=\"-126.8\" font-family=\"Helvetica,sans-Serif\" font-size=\"14.00\">value = [6, 140]</text>\r\n",
       "<text text-anchor=\"middle\" x=\"1652.5\" y=\"-111.8\" font-family=\"Helvetica,sans-Serif\" font-size=\"14.00\">class = High</text>\r\n",
       "</g>\r\n",
       "<!-- 24&#45;&gt;25 -->\r\n",
       "<g id=\"edge25\" class=\"edge\">\r\n",
       "<title>24&#45;&gt;25</title>\r\n",
       "<path fill=\"none\" stroke=\"black\" d=\"M1652.5,-222.91C1652.5,-214.65 1652.5,-205.86 1652.5,-197.3\"/>\r\n",
       "<polygon fill=\"black\" stroke=\"black\" points=\"1656,-197.02 1652.5,-187.02 1649,-197.02 1656,-197.02\"/>\r\n",
       "</g>\r\n",
       "<!-- 28 -->\r\n",
       "<g id=\"node29\" class=\"node\">\r\n",
       "<title>28</title>\r\n",
       "<polygon fill=\"none\" stroke=\"black\" points=\"1916.5,-187 1778.5,-187 1778.5,-104 1916.5,-104 1916.5,-187\"/>\r\n",
       "<text text-anchor=\"middle\" x=\"1847.5\" y=\"-171.8\" font-family=\"Helvetica,sans-Serif\" font-size=\"14.00\">sulphates &lt;= 0.565</text>\r\n",
       "<text text-anchor=\"middle\" x=\"1847.5\" y=\"-156.8\" font-family=\"Helvetica,sans-Serif\" font-size=\"14.00\">gini = 0.33</text>\r\n",
       "<text text-anchor=\"middle\" x=\"1847.5\" y=\"-141.8\" font-family=\"Helvetica,sans-Serif\" font-size=\"14.00\">samples = 48</text>\r\n",
       "<text text-anchor=\"middle\" x=\"1847.5\" y=\"-126.8\" font-family=\"Helvetica,sans-Serif\" font-size=\"14.00\">value = [10, 38]</text>\r\n",
       "<text text-anchor=\"middle\" x=\"1847.5\" y=\"-111.8\" font-family=\"Helvetica,sans-Serif\" font-size=\"14.00\">class = High</text>\r\n",
       "</g>\r\n",
       "<!-- 24&#45;&gt;28 -->\r\n",
       "<g id=\"edge28\" class=\"edge\">\r\n",
       "<title>24&#45;&gt;28</title>\r\n",
       "<path fill=\"none\" stroke=\"black\" d=\"M1720.15,-222.91C1736.64,-213.02 1754.39,-202.37 1771.24,-192.25\"/>\r\n",
       "<polygon fill=\"black\" stroke=\"black\" points=\"1773.19,-195.17 1779.97,-187.02 1769.59,-189.16 1773.19,-195.17\"/>\r\n",
       "</g>\r\n",
       "<!-- 26 -->\r\n",
       "<g id=\"node27\" class=\"node\">\r\n",
       "<title>26</title>\r\n",
       "<polygon fill=\"none\" stroke=\"black\" points=\"1663,-68 1550,-68 1550,0 1663,0 1663,-68\"/>\r\n",
       "<text text-anchor=\"middle\" x=\"1606.5\" y=\"-52.8\" font-family=\"Helvetica,sans-Serif\" font-size=\"14.00\">gini = 0.067</text>\r\n",
       "<text text-anchor=\"middle\" x=\"1606.5\" y=\"-37.8\" font-family=\"Helvetica,sans-Serif\" font-size=\"14.00\">samples = 145</text>\r\n",
       "<text text-anchor=\"middle\" x=\"1606.5\" y=\"-22.8\" font-family=\"Helvetica,sans-Serif\" font-size=\"14.00\">value = [5, 140]</text>\r\n",
       "<text text-anchor=\"middle\" x=\"1606.5\" y=\"-7.8\" font-family=\"Helvetica,sans-Serif\" font-size=\"14.00\">class = High</text>\r\n",
       "</g>\r\n",
       "<!-- 25&#45;&gt;26 -->\r\n",
       "<g id=\"edge26\" class=\"edge\">\r\n",
       "<title>25&#45;&gt;26</title>\r\n",
       "<path fill=\"none\" stroke=\"black\" d=\"M1635.37,-103.73C1631.81,-95.24 1628.04,-86.28 1624.45,-77.73\"/>\r\n",
       "<polygon fill=\"black\" stroke=\"black\" points=\"1627.59,-76.16 1620.49,-68.3 1621.14,-78.87 1627.59,-76.16\"/>\r\n",
       "</g>\r\n",
       "<!-- 27 -->\r\n",
       "<g id=\"node28\" class=\"node\">\r\n",
       "<title>27</title>\r\n",
       "<polygon fill=\"none\" stroke=\"black\" points=\"1778,-68 1681,-68 1681,0 1778,0 1778,-68\"/>\r\n",
       "<text text-anchor=\"middle\" x=\"1729.5\" y=\"-52.8\" font-family=\"Helvetica,sans-Serif\" font-size=\"14.00\">gini = 0.0</text>\r\n",
       "<text text-anchor=\"middle\" x=\"1729.5\" y=\"-37.8\" font-family=\"Helvetica,sans-Serif\" font-size=\"14.00\">samples = 1</text>\r\n",
       "<text text-anchor=\"middle\" x=\"1729.5\" y=\"-22.8\" font-family=\"Helvetica,sans-Serif\" font-size=\"14.00\">value = [1, 0]</text>\r\n",
       "<text text-anchor=\"middle\" x=\"1729.5\" y=\"-7.8\" font-family=\"Helvetica,sans-Serif\" font-size=\"14.00\">class = Low</text>\r\n",
       "</g>\r\n",
       "<!-- 25&#45;&gt;27 -->\r\n",
       "<g id=\"edge27\" class=\"edge\">\r\n",
       "<title>25&#45;&gt;27</title>\r\n",
       "<path fill=\"none\" stroke=\"black\" d=\"M1681.17,-103.73C1687.39,-94.88 1693.98,-85.51 1700.23,-76.63\"/>\r\n",
       "<polygon fill=\"black\" stroke=\"black\" points=\"1703.19,-78.49 1706.08,-68.3 1697.47,-74.47 1703.19,-78.49\"/>\r\n",
       "</g>\r\n",
       "<!-- 29 -->\r\n",
       "<g id=\"node30\" class=\"node\">\r\n",
       "<title>29</title>\r\n",
       "<polygon fill=\"none\" stroke=\"black\" points=\"1899,-68 1796,-68 1796,0 1899,0 1899,-68\"/>\r\n",
       "<text text-anchor=\"middle\" x=\"1847.5\" y=\"-52.8\" font-family=\"Helvetica,sans-Serif\" font-size=\"14.00\">gini = 0.498</text>\r\n",
       "<text text-anchor=\"middle\" x=\"1847.5\" y=\"-37.8\" font-family=\"Helvetica,sans-Serif\" font-size=\"14.00\">samples = 15</text>\r\n",
       "<text text-anchor=\"middle\" x=\"1847.5\" y=\"-22.8\" font-family=\"Helvetica,sans-Serif\" font-size=\"14.00\">value = [8, 7]</text>\r\n",
       "<text text-anchor=\"middle\" x=\"1847.5\" y=\"-7.8\" font-family=\"Helvetica,sans-Serif\" font-size=\"14.00\">class = Low</text>\r\n",
       "</g>\r\n",
       "<!-- 28&#45;&gt;29 -->\r\n",
       "<g id=\"edge29\" class=\"edge\">\r\n",
       "<title>28&#45;&gt;29</title>\r\n",
       "<path fill=\"none\" stroke=\"black\" d=\"M1847.5,-103.73C1847.5,-95.52 1847.5,-86.86 1847.5,-78.56\"/>\r\n",
       "<polygon fill=\"black\" stroke=\"black\" points=\"1851,-78.3 1847.5,-68.3 1844,-78.3 1851,-78.3\"/>\r\n",
       "</g>\r\n",
       "<!-- 30 -->\r\n",
       "<g id=\"node31\" class=\"node\">\r\n",
       "<title>30</title>\r\n",
       "<polygon fill=\"none\" stroke=\"black\" points=\"2022,-68 1917,-68 1917,0 2022,0 2022,-68\"/>\r\n",
       "<text text-anchor=\"middle\" x=\"1969.5\" y=\"-52.8\" font-family=\"Helvetica,sans-Serif\" font-size=\"14.00\">gini = 0.114</text>\r\n",
       "<text text-anchor=\"middle\" x=\"1969.5\" y=\"-37.8\" font-family=\"Helvetica,sans-Serif\" font-size=\"14.00\">samples = 33</text>\r\n",
       "<text text-anchor=\"middle\" x=\"1969.5\" y=\"-22.8\" font-family=\"Helvetica,sans-Serif\" font-size=\"14.00\">value = [2, 31]</text>\r\n",
       "<text text-anchor=\"middle\" x=\"1969.5\" y=\"-7.8\" font-family=\"Helvetica,sans-Serif\" font-size=\"14.00\">class = High</text>\r\n",
       "</g>\r\n",
       "<!-- 28&#45;&gt;30 -->\r\n",
       "<g id=\"edge30\" class=\"edge\">\r\n",
       "<title>28&#45;&gt;30</title>\r\n",
       "<path fill=\"none\" stroke=\"black\" d=\"M1892.93,-103.73C1903.4,-94.33 1914.52,-84.35 1924.95,-74.99\"/>\r\n",
       "<polygon fill=\"black\" stroke=\"black\" points=\"1927.29,-77.58 1932.4,-68.3 1922.62,-72.37 1927.29,-77.58\"/>\r\n",
       "</g>\r\n",
       "</g>\r\n",
       "</svg>\r\n"
      ],
      "text/plain": [
       "<graphviz.files.Source at 0x242a1706a00>"
      ]
     },
     "execution_count": 19,
     "metadata": {},
     "output_type": "execute_result"
    }
   ],
   "source": [
    "import graphviz\n",
    "from sklearn.tree import export_graphviz\n",
    "\n",
    "tree = DecisionTreeClassifier(random_state=0, max_depth=4)\n",
    "tree.fit(X_train,y_train)\n",
    "\n",
    "feature_neme = ['fixed acidity','volatile acidity','citric acid','residual sugar','chlorides','free sulfur dioxide',\n",
    "                'total sulfur dioxide','density','pH','sulphates','alcohol']\n",
    "tree.graph = export_graphviz(tree, feature_names=feature_neme,\n",
    "                       class_names=['Low','High'])\n",
    "graphviz.Source(tree.graph)"
   ]
  },
  {
   "cell_type": "markdown",
   "id": "3bf1c633",
   "metadata": {},
   "source": [
    "- alchol이 10.525 초과이고 volatile acidity가 0.425이하면 high class이다.\n",
    "- alchol이 10.525 이하이고 fixed acidity가 14.65 이하고 residual sugar가 1.55초과면 middle class이다."
   ]
  },
  {
   "cell_type": "markdown",
   "id": "f0120200",
   "metadata": {},
   "source": [
    "# 8주차 과제\n",
    "- 60171100 윤민혁"
   ]
  },
  {
   "cell_type": "code",
   "execution_count": 20,
   "id": "3f458802",
   "metadata": {
    "ExecuteTime": {
     "end_time": "2021-10-28T16:15:15.904277Z",
     "start_time": "2021-10-28T16:15:15.877277Z"
    }
   },
   "outputs": [
    {
     "name": "stdout",
     "output_type": "stream",
     "text": [
      "accuracy : 0.7\n",
      "precision: 0.7115384615384616\n",
      "recall: 0.7283464566929134\n",
      "f1: 0.7198443579766537\n"
     ]
    }
   ],
   "source": [
    "from sklearn.metrics import precision_score, recall_score, f1_score\n",
    "\n",
    "print('accuracy :', accuracy_score(y_test, temp_y_pred))\n",
    "print('precision:', precision_score(y_test, temp_y_pred))\n",
    "print('recall:', recall_score(y_test, temp_y_pred))\n",
    "print('f1:', f1_score(y_test, temp_y_pred))"
   ]
  },
  {
   "cell_type": "code",
   "execution_count": 21,
   "id": "34fcf1d8",
   "metadata": {
    "ExecuteTime": {
     "end_time": "2021-10-28T16:15:15.919277Z",
     "start_time": "2021-10-28T16:15:15.906277Z"
    }
   },
   "outputs": [
    {
     "data": {
      "text/plain": [
       "array([1, 0, 1, 0, 1, 0, 0, 1, 0, 0, 0, 1, 1, 1, 0, 1, 1, 1, 0, 0, 1, 0,\n",
       "       1, 1, 0, 0, 0, 1, 0, 1, 1, 1, 0, 1, 0, 1, 0, 1, 1, 1, 0, 1, 1, 1,\n",
       "       1, 0, 0, 1, 0, 1, 0, 0, 1, 1, 0, 1, 0, 0, 1, 1, 1, 1, 1, 1, 0, 1,\n",
       "       0, 1, 1, 1, 1, 0, 0, 1, 1, 1, 0, 0, 1, 1, 1, 0, 0, 1, 0, 1, 1, 0,\n",
       "       0, 0, 0, 0, 1, 0, 1, 1, 1, 0, 0, 1, 1, 1, 1, 1, 1, 0, 1, 0, 1, 0,\n",
       "       0, 0, 1, 0, 1, 1, 0, 1, 1, 1, 0, 1, 1, 0, 1, 1, 0, 0, 1, 1, 0, 0,\n",
       "       1, 1, 1, 0, 1, 0, 1, 0, 0, 0, 0, 1, 1, 1, 1, 1, 1, 0, 1, 1, 0, 0,\n",
       "       1, 0, 0, 0, 1, 1, 1, 1, 1, 0, 1, 0, 0, 1, 1, 1, 1, 1, 0, 1, 0, 1,\n",
       "       1, 1, 1, 0, 0, 1, 1, 1, 1, 0, 0, 1, 0, 1, 1, 1, 0, 0, 0, 0, 0, 0,\n",
       "       0, 0, 0, 1, 0, 0, 0, 0, 0, 1, 1, 0, 1, 1, 0, 1, 0, 1, 1, 1, 1, 0,\n",
       "       0, 1, 1, 1, 0, 1, 1, 0, 0, 0, 0, 1, 1, 1, 1, 1, 1, 1, 1, 1, 0, 1,\n",
       "       0, 0, 1, 0, 0, 1, 0, 1, 0, 0, 0, 0, 0, 1, 0, 0, 0, 1, 0, 1, 0, 0,\n",
       "       0, 0, 1, 0, 1, 1, 0, 1, 1, 1, 1, 1, 1, 0, 1, 1, 0, 1, 1, 1, 1, 0,\n",
       "       1, 0, 1, 0, 0, 0, 1, 0, 0, 1, 1, 0, 0, 0, 1, 0, 0, 1, 1, 1, 0, 0,\n",
       "       0, 0, 1, 1, 0, 0, 0, 1, 1, 1, 0, 1, 0, 0, 1, 1, 0, 1, 1, 0, 0, 1,\n",
       "       1, 0, 0, 1, 0, 1, 1, 1, 1, 1, 0, 0, 0, 1, 1, 0, 1, 0, 1, 1, 1, 1,\n",
       "       0, 1, 1, 0, 1, 0, 1, 1, 0, 1, 0, 1, 1, 0, 1, 1, 0, 1, 1, 0, 1, 1,\n",
       "       0, 1, 1, 1, 1, 1, 1, 1, 0, 0, 0, 1, 1, 0, 1, 0, 1, 0, 0, 1, 1, 1,\n",
       "       0, 1, 1, 0, 0, 0, 0, 0, 1, 0, 0, 1, 0, 1, 1, 0, 0, 1, 1, 0, 1, 0,\n",
       "       0, 0, 1, 1, 1, 1, 0, 0, 0, 1, 0, 1, 0, 1, 0, 1, 1, 1, 1, 1, 0, 0,\n",
       "       1, 0, 1, 0, 1, 1, 1, 1, 1, 1, 1, 0, 1, 1, 1, 0, 1, 0, 1, 0, 0, 1,\n",
       "       0, 0, 0, 0, 0, 0, 0, 0, 1, 0, 0, 1, 0, 0, 0, 0, 1, 0], dtype=int64)"
      ]
     },
     "execution_count": 21,
     "metadata": {},
     "output_type": "execute_result"
    }
   ],
   "source": [
    "tree.predict(X_test)"
   ]
  },
  {
   "cell_type": "code",
   "execution_count": 22,
   "id": "5761e6fe",
   "metadata": {
    "ExecuteTime": {
     "end_time": "2021-10-28T16:15:15.934278Z",
     "start_time": "2021-10-28T16:15:15.921277Z"
    }
   },
   "outputs": [
    {
     "data": {
      "text/plain": [
       "array([0.74551971, 0.19402985, 0.96551724, 0.02702703, 0.74551971,\n",
       "       0.34482759, 0.48      , 0.74551971, 0.19402985, 0.34482759,\n",
       "       0.02702703, 0.52083333, 0.74551971, 0.93939394, 0.34482759,\n",
       "       0.74551971, 0.96551724, 0.74551971, 0.46666667, 0.19402985,\n",
       "       0.93939394, 0.48      , 0.74551971, 0.96551724, 0.48      ,\n",
       "       0.02702703, 0.32876712, 0.96551724, 0.        , 0.96551724,\n",
       "       0.74551971, 0.74551971, 0.34482759, 0.7761194 , 0.46666667,\n",
       "       0.74551971, 0.34482759, 0.7761194 , 0.96551724, 0.74551971,\n",
       "       0.        , 0.74551971, 0.96551724, 0.96551724, 0.74551971,\n",
       "       0.02702703, 0.32876712, 0.74551971, 0.34482759, 0.74551971,\n",
       "       0.32876712, 0.32876712, 0.74551971, 0.96551724, 0.48      ,\n",
       "       0.74551971, 0.07692308, 0.32876712, 0.96551724, 0.7761194 ,\n",
       "       0.7761194 , 0.74551971, 0.74551971, 0.96551724, 0.32876712,\n",
       "       0.74551971, 0.18181818, 0.52083333, 0.74551971, 0.96551724,\n",
       "       0.52083333, 0.34482759, 0.19402985, 0.74551971, 0.74551971,\n",
       "       0.96551724, 0.48      , 0.02702703, 0.74551971, 0.96551724,\n",
       "       0.74551971, 0.34482759, 0.34482759, 0.74551971, 0.18181818,\n",
       "       0.52083333, 0.96551724, 0.02702703, 0.48      , 0.19402985,\n",
       "       0.07692308, 0.19402985, 0.93939394, 0.19402985, 0.74551971,\n",
       "       0.52083333, 0.74551971, 0.02702703, 0.48      , 0.7761194 ,\n",
       "       0.96551724, 0.74551971, 0.74551971, 0.74551971, 0.74551971,\n",
       "       0.32876712, 0.74551971, 0.34482759, 0.96551724, 0.34482759,\n",
       "       0.34482759, 0.32876712, 0.74551971, 0.        , 0.52083333,\n",
       "       0.7761194 , 0.48      , 0.96551724, 0.93939394, 0.74551971,\n",
       "       0.07692308, 0.74551971, 0.7761194 , 0.32876712, 0.93939394,\n",
       "       0.74551971, 0.07692308, 0.02702703, 0.74551971, 0.74551971,\n",
       "       0.34482759, 0.48      , 0.96551724, 0.74551971, 0.74551971,\n",
       "       0.07692308, 0.7761194 , 0.34482759, 0.7761194 , 0.19402985,\n",
       "       0.46666667, 0.34482759, 0.32876712, 0.7761194 , 0.7761194 ,\n",
       "       0.7761194 , 0.74551971, 0.74551971, 0.74551971, 0.32876712,\n",
       "       0.74551971, 0.74551971, 0.34482759, 0.18181818, 0.7761194 ,\n",
       "       0.18181818, 0.32876712, 0.48      , 0.96551724, 0.74551971,\n",
       "       0.96551724, 0.74551971, 0.74551971, 0.34482759, 0.74551971,\n",
       "       0.19402985, 0.34482759, 0.96551724, 0.74551971, 0.74551971,\n",
       "       0.74551971, 0.7761194 , 0.19402985, 0.96551724, 0.46666667,\n",
       "       0.96551724, 0.74551971, 0.96551724, 0.93939394, 0.32876712,\n",
       "       0.19402985, 0.96551724, 0.74551971, 0.74551971, 0.96551724,\n",
       "       0.34482759, 0.48      , 0.74551971, 0.02702703, 0.74551971,\n",
       "       0.74551971, 0.74551971, 0.48      , 0.48      , 0.34482759,\n",
       "       0.07692308, 0.02702703, 0.48      , 0.48      , 0.07692308,\n",
       "       0.02702703, 0.74551971, 0.34482759, 0.48      , 0.18181818,\n",
       "       0.32876712, 0.19402985, 0.96551724, 0.74551971, 0.34482759,\n",
       "       0.74551971, 0.96551724, 0.34482759, 0.96551724, 0.19402985,\n",
       "       0.7761194 , 0.7761194 , 0.74551971, 0.74551971, 0.07692308,\n",
       "       0.32876712, 0.74551971, 0.96551724, 0.7761194 , 0.48      ,\n",
       "       0.74551971, 0.96551724, 0.34482759, 0.48      , 0.48      ,\n",
       "       0.32876712, 0.93939394, 0.52083333, 0.74551971, 0.96551724,\n",
       "       0.74551971, 0.74551971, 0.96551724, 0.96551724, 0.74551971,\n",
       "       0.48      , 0.52083333, 0.19402985, 0.19402985, 0.74551971,\n",
       "       0.07692308, 0.48      , 0.52083333, 0.34482759, 0.96551724,\n",
       "       0.19402985, 0.18181818, 0.34482759, 0.18181818, 0.48      ,\n",
       "       0.7761194 , 0.02702703, 0.02702703, 0.34482759, 0.7761194 ,\n",
       "       0.48      , 0.96551724, 0.34482759, 0.48      , 0.48      ,\n",
       "       0.19402985, 0.52083333, 0.19402985, 0.7761194 , 0.96551724,\n",
       "       0.02702703, 0.7761194 , 0.74551971, 0.96551724, 0.74551971,\n",
       "       0.52083333, 0.74551971, 0.34482759, 0.96551724, 0.96551724,\n",
       "       0.        , 0.96551724, 0.7761194 , 0.74551971, 0.7761194 ,\n",
       "       0.34482759, 0.74551971, 0.48      , 0.74551971, 0.34482759,\n",
       "       0.34482759, 0.46666667, 0.74551971, 0.48      , 0.34482759,\n",
       "       0.52083333, 0.74551971, 0.48      , 0.32876712, 0.02702703,\n",
       "       0.52083333, 0.18181818, 0.48      , 0.74551971, 0.74551971,\n",
       "       0.93939394, 0.18181818, 0.32876712, 0.34482759, 0.48      ,\n",
       "       0.74551971, 0.74551971, 0.48      , 0.02702703, 0.34482759,\n",
       "       0.96551724, 0.74551971, 0.74551971, 0.32876712, 0.96551724,\n",
       "       0.48      , 0.32876712, 0.74551971, 0.93939394, 0.18181818,\n",
       "       0.93939394, 0.96551724, 0.19402985, 0.02702703, 0.74551971,\n",
       "       0.96551724, 0.19402985, 0.02702703, 0.74551971, 0.19402985,\n",
       "       0.74551971, 0.74551971, 0.7761194 , 0.74551971, 0.7761194 ,\n",
       "       0.32876712, 0.32876712, 0.18181818, 0.93939394, 0.52083333,\n",
       "       0.48      , 0.7761194 , 0.34482759, 0.7761194 , 0.74551971,\n",
       "       0.74551971, 0.74551971, 0.32876712, 0.74551971, 0.96551724,\n",
       "       0.19402985, 0.74551971, 0.46666667, 0.52083333, 0.96551724,\n",
       "       0.48      , 0.96551724, 0.02702703, 0.96551724, 0.74551971,\n",
       "       0.48      , 0.7761194 , 0.74551971, 0.34482759, 0.74551971,\n",
       "       0.74551971, 0.34482759, 0.74551971, 0.93939394, 0.19402985,\n",
       "       0.52083333, 0.74551971, 0.96551724, 0.74551971, 0.52083333,\n",
       "       0.74551971, 0.74551971, 0.        , 0.48      , 0.02702703,\n",
       "       0.52083333, 0.93939394, 0.48      , 0.96551724, 0.34482759,\n",
       "       0.96551724, 0.34482759, 0.02702703, 0.96551724, 0.52083333,\n",
       "       0.74551971, 0.32876712, 0.74551971, 0.52083333, 0.34482759,\n",
       "       0.34482759, 0.34482759, 0.19402985, 0.18181818, 0.74551971,\n",
       "       0.32876712, 0.34482759, 0.74551971, 0.48      , 0.74551971,\n",
       "       0.7761194 , 0.34482759, 0.19402985, 0.74551971, 0.52083333,\n",
       "       0.02702703, 0.7761194 , 0.02702703, 0.34482759, 0.46666667,\n",
       "       0.74551971, 0.74551971, 0.96551724, 0.7761194 , 0.02702703,\n",
       "       0.46666667, 0.48      , 0.74551971, 0.34482759, 0.52083333,\n",
       "       0.34482759, 0.96551724, 0.19402985, 0.74551971, 0.7761194 ,\n",
       "       0.96551724, 0.74551971, 0.96551724, 0.02702703, 0.48      ,\n",
       "       0.74551971, 0.32876712, 0.74551971, 0.18181818, 0.74551971,\n",
       "       0.7761194 , 0.7761194 , 0.96551724, 0.74551971, 0.74551971,\n",
       "       0.96551724, 0.19402985, 0.93939394, 0.96551724, 0.93939394,\n",
       "       0.34482759, 0.74551971, 0.02702703, 0.74551971, 0.19402985,\n",
       "       0.18181818, 0.96551724, 0.19402985, 0.02702703, 0.32876712,\n",
       "       0.34482759, 0.48      , 0.19402985, 0.19402985, 0.07692308,\n",
       "       0.93939394, 0.19402985, 0.48      , 0.74551971, 0.34482759,\n",
       "       0.19402985, 0.07692308, 0.32876712, 0.52083333, 0.02702703])"
      ]
     },
     "execution_count": 22,
     "metadata": {},
     "output_type": "execute_result"
    }
   ],
   "source": [
    "tree.predict_proba(X_test)[:,1]"
   ]
  },
  {
   "cell_type": "code",
   "execution_count": 23,
   "id": "a06a1ab6",
   "metadata": {
    "ExecuteTime": {
     "end_time": "2021-10-28T16:15:15.949471Z",
     "start_time": "2021-10-28T16:15:15.936277Z"
    }
   },
   "outputs": [],
   "source": [
    "from sklearn.metrics import roc_curve\n",
    "\n",
    "fpr, tpr, thresholds = roc_curve(y_test, tree.predict_proba(X_test)[:,1])"
   ]
  },
  {
   "cell_type": "code",
   "execution_count": 24,
   "id": "8f2b2ef8",
   "metadata": {
    "ExecuteTime": {
     "end_time": "2021-10-28T16:15:16.144826Z",
     "start_time": "2021-10-28T16:15:15.951277Z"
    }
   },
   "outputs": [
    {
     "data": {
      "image/png": "[encoded data removed]",
      "text/plain": [
       "<Figure size 432x288 with 1 Axes>"
      ]
     },
     "metadata": {
      "needs_background": "light"
     },
     "output_type": "display_data"
    }
   ],
   "source": [
    "plt.plot(fpr, tpr, '-', ms = 2, label = \"Decision Tree\")\n",
    "plt.plot([0,1],[0,1],'--', label = \"Random Guess\")\n",
    "\n",
    "plt.xlabel('Fales Positive Rate')\n",
    "plt.ylabel('True Positive Rate')\n",
    "plt.title('ROC CURVES')\n",
    "plt.legend(loc = 'lower right')\n",
    "plt.show()"
   ]
  },
  {
   "cell_type": "code",
   "execution_count": 25,
   "id": "7b78db65",
   "metadata": {
    "ExecuteTime": {
     "end_time": "2021-10-28T16:15:16.160187Z",
     "start_time": "2021-10-28T16:15:16.145821Z"
    }
   },
   "outputs": [
    {
     "name": "stdout",
     "output_type": "stream",
     "text": [
      "Area Under Cureve : 0.75\n"
     ]
    }
   ],
   "source": [
    "from sklearn import metrics\n",
    "roc_auc = metrics.auc(fpr, tpr)\n",
    "print('Area Under Cureve : %0.2f' %roc_auc)"
   ]
  },
  {
   "cell_type": "code",
   "execution_count": 26,
   "id": "5a7138a0",
   "metadata": {
    "ExecuteTime": {
     "end_time": "2021-10-28T16:16:39.381527Z",
     "start_time": "2021-10-28T16:15:16.162188Z"
    }
   },
   "outputs": [
    {
     "name": "stdout",
     "output_type": "stream",
     "text": [
      "fixed acidity: 1\n",
      "volatile acidity: 1\n",
      "citric acid: 1\n",
      "residual sugar: 1\n",
      "chlorides: 1\n",
      "free sulfur dioxide:1\n",
      "total sulfur dioxide:1\n",
      "density: 1\n",
      "pH: 1\n",
      "sulphates: 1\n",
      "alcohol: 1\n",
      "좋은 품질의 와인\n"
     ]
    }
   ],
   "source": [
    "def predict_quality():\n",
    "    data = []\n",
    "    data.append(float(input('fixed acidity: ')))\n",
    "    data.append(float(input('volatile acidity: ')))\n",
    "    data.append(float(input('citric acid: ')))\n",
    "    data.append(float(input('residual sugar: ')))\n",
    "    data.append(float(input('chlorides: ')))\n",
    "    data.append(float(input('free sulfur dioxide:')))\n",
    "    data.append(float(input('total sulfur dioxide:')))\n",
    "    data.append(float(input('density: ')))\n",
    "    data.append(float(input('pH: ')))\n",
    "    data.append(float(input('sulphates: ')))\n",
    "    data.append(float(input('alcohol: ')))\n",
    "    result = tree.predict([data])\n",
    "    if result ==1:\n",
    "        print('좋은 품질의 와인')\n",
    "    else:\n",
    "        print('좋지 못한 품질의 와인')\n",
    "predict_quality()"
   ]
  },
  {
   "cell_type": "markdown",
   "id": "e2738996",
   "metadata": {},
   "source": [
    "## 60171100 윤민혁\n",
    "- 9주차 과제"
   ]
  },
  {
   "cell_type": "code",
   "execution_count": 27,
   "id": "b2eaaebd",
   "metadata": {
    "ExecuteTime": {
     "end_time": "2021-10-28T16:16:39.396715Z",
     "start_time": "2021-10-28T16:16:39.383526Z"
    }
   },
   "outputs": [],
   "source": [
    "from sklearn.ensemble import RandomForestClassifier\n",
    "RF = RandomForestClassifier(n_estimators = 100, random_state = 0)"
   ]
  },
  {
   "cell_type": "code",
   "execution_count": 28,
   "id": "42578e28",
   "metadata": {
    "ExecuteTime": {
     "end_time": "2021-10-28T16:16:55.698478Z",
     "start_time": "2021-10-28T16:16:55.314218Z"
    }
   },
   "outputs": [
    {
     "data": {
      "text/plain": [
       "RandomForestClassifier(random_state=0)"
      ]
     },
     "execution_count": 28,
     "metadata": {},
     "output_type": "execute_result"
    }
   ],
   "source": [
    "RF.fit(X_train, y_train)"
   ]
  },
  {
   "cell_type": "code",
   "execution_count": 29,
   "id": "e9670c9d",
   "metadata": {
    "ExecuteTime": {
     "end_time": "2021-10-28T16:17:16.429100Z",
     "start_time": "2021-10-28T16:17:16.380280Z"
    }
   },
   "outputs": [
    {
     "data": {
      "text/plain": [
       "array([1, 0, 1, 0, 0, 0, 0, 1, 0, 0, 0, 0, 1, 1, 0, 1, 1, 0, 0, 0, 1, 1,\n",
       "       1, 1, 0, 0, 0, 1, 0, 1, 1, 1, 1, 0, 1, 1, 0, 0, 1, 1, 0, 1, 1, 1,\n",
       "       1, 0, 0, 1, 0, 1, 0, 0, 1, 1, 1, 0, 0, 0, 1, 0, 0, 1, 1, 1, 0, 1,\n",
       "       0, 0, 1, 1, 1, 1, 0, 0, 1, 1, 0, 0, 0, 1, 1, 0, 1, 1, 1, 0, 1, 0,\n",
       "       0, 0, 0, 0, 1, 0, 1, 1, 1, 0, 0, 1, 1, 1, 1, 1, 0, 0, 0, 0, 1, 0,\n",
       "       1, 0, 1, 0, 1, 1, 1, 1, 1, 1, 0, 1, 0, 0, 1, 1, 0, 0, 1, 1, 0, 0,\n",
       "       1, 1, 1, 0, 1, 0, 1, 0, 1, 0, 0, 1, 0, 1, 1, 1, 0, 0, 1, 1, 0, 0,\n",
       "       1, 0, 0, 0, 1, 1, 1, 1, 1, 0, 0, 0, 1, 1, 1, 1, 1, 1, 0, 1, 1, 1,\n",
       "       0, 1, 1, 0, 0, 1, 1, 1, 1, 0, 0, 1, 0, 1, 1, 1, 0, 1, 0, 0, 0, 0,\n",
       "       1, 0, 0, 1, 1, 1, 0, 0, 0, 1, 1, 1, 1, 1, 0, 1, 0, 0, 1, 1, 1, 0,\n",
       "       0, 1, 1, 1, 1, 1, 1, 1, 1, 1, 0, 1, 0, 0, 1, 1, 1, 1, 1, 1, 0, 1,\n",
       "       0, 0, 1, 0, 0, 0, 0, 1, 0, 0, 0, 0, 0, 1, 0, 0, 0, 1, 1, 1, 0, 1,\n",
       "       0, 0, 0, 0, 1, 1, 0, 0, 0, 1, 1, 1, 1, 1, 1, 1, 0, 1, 0, 1, 1, 0,\n",
       "       0, 0, 1, 0, 0, 0, 1, 1, 0, 1, 1, 0, 0, 0, 1, 0, 1, 1, 1, 1, 0, 0,\n",
       "       1, 0, 1, 1, 0, 0, 0, 1, 1, 1, 0, 1, 0, 0, 1, 1, 1, 0, 1, 0, 0, 0,\n",
       "       1, 0, 0, 1, 0, 1, 1, 0, 0, 1, 0, 0, 0, 1, 1, 1, 1, 0, 1, 1, 0, 1,\n",
       "       0, 1, 1, 0, 1, 0, 1, 1, 0, 1, 0, 1, 1, 1, 0, 1, 0, 0, 1, 1, 0, 1,\n",
       "       0, 0, 1, 1, 1, 1, 1, 1, 0, 1, 0, 1, 1, 0, 1, 1, 1, 0, 0, 1, 1, 1,\n",
       "       0, 1, 0, 1, 0, 1, 0, 0, 0, 0, 1, 1, 0, 1, 0, 0, 0, 1, 1, 0, 1, 0,\n",
       "       0, 0, 1, 1, 1, 0, 0, 1, 1, 1, 1, 0, 0, 1, 0, 1, 1, 1, 1, 1, 0, 0,\n",
       "       1, 0, 1, 0, 0, 0, 0, 1, 1, 1, 1, 0, 1, 1, 1, 0, 1, 0, 1, 0, 0, 1,\n",
       "       0, 0, 0, 0, 1, 0, 0, 0, 1, 0, 0, 0, 0, 0, 0, 0, 1, 0], dtype=int64)"
      ]
     },
     "execution_count": 29,
     "metadata": {},
     "output_type": "execute_result"
    }
   ],
   "source": [
    "temp_y_pred_rf = RF.predict(X_test)\n",
    "temp_y_pred_rf"
   ]
  },
  {
   "cell_type": "code",
   "execution_count": 30,
   "id": "f36f7644",
   "metadata": {
    "ExecuteTime": {
     "end_time": "2021-10-28T16:17:42.168917Z",
     "start_time": "2021-10-28T16:17:42.152439Z"
    }
   },
   "outputs": [
    {
     "name": "stdout",
     "output_type": "stream",
     "text": [
      "0.7791666666666667\n"
     ]
    }
   ],
   "source": [
    "temp_acc_rf = accuracy_score(y_test, temp_y_pred_rf)\n",
    "print(format(temp_acc_rf))"
   ]
  },
  {
   "cell_type": "code",
   "execution_count": 31,
   "id": "ea5eca8f",
   "metadata": {
    "ExecuteTime": {
     "end_time": "2021-10-28T16:19:08.333676Z",
     "start_time": "2021-10-28T16:18:34.180615Z"
    }
   },
   "outputs": [
    {
     "name": "stdout",
     "output_type": "stream",
     "text": [
      ">10, acc:0.760\n",
      ">15, acc:0.781\n",
      ">20, acc:0.775\n",
      ">25, acc:0.777\n",
      ">30, acc:0.785\n",
      ">35, acc:0.779\n",
      ">40, acc:0.785\n",
      ">45, acc:0.777\n",
      ">50, acc:0.779\n",
      ">55, acc:0.785\n",
      ">60, acc:0.783\n",
      ">65, acc:0.779\n",
      ">70, acc:0.779\n",
      ">75, acc:0.785\n",
      ">80, acc:0.783\n",
      ">85, acc:0.785\n",
      ">90, acc:0.783\n",
      ">95, acc:0.783\n",
      ">100, acc:0.779\n",
      ">105, acc:0.783\n",
      ">110, acc:0.785\n",
      ">115, acc:0.783\n",
      ">120, acc:0.787\n",
      ">125, acc:0.787\n",
      ">130, acc:0.790\n",
      ">135, acc:0.790\n",
      ">140, acc:0.787\n",
      ">145, acc:0.790\n",
      ">150, acc:0.792\n",
      ">155, acc:0.794\n",
      ">160, acc:0.796\n",
      ">165, acc:0.798\n",
      ">170, acc:0.800\n",
      ">175, acc:0.802\n",
      ">180, acc:0.798\n",
      ">185, acc:0.800\n",
      ">190, acc:0.792\n",
      ">195, acc:0.792\n",
      ">200, acc:0.792\n",
      ">205, acc:0.798\n",
      ">210, acc:0.796\n",
      ">215, acc:0.787\n",
      ">220, acc:0.790\n",
      ">225, acc:0.790\n",
      ">230, acc:0.783\n",
      ">235, acc:0.790\n",
      ">240, acc:0.792\n",
      ">245, acc:0.794\n",
      ">250, acc:0.796\n",
      ">255, acc:0.794\n",
      ">260, acc:0.792\n",
      ">265, acc:0.792\n",
      ">270, acc:0.794\n",
      ">275, acc:0.794\n",
      ">280, acc:0.796\n",
      ">285, acc:0.796\n",
      ">290, acc:0.794\n",
      ">295, acc:0.794\n",
      ">300, acc:0.794\n"
     ]
    }
   ],
   "source": [
    "scores = []\n",
    "for i in range(10,301,5):\n",
    "    RF = RandomForestClassifier(n_estimators=i,random_state=0)\n",
    "    RF.fit(X_train,y_train)\n",
    "    \n",
    "    att = RF.predict(X_test)\n",
    "    acc = accuracy_score(y_test, att)\n",
    "    scores.append(acc)\n",
    "    \n",
    "    print('>%d, acc:%0.3f' %(i,acc))"
   ]
  },
  {
   "cell_type": "code",
   "execution_count": 32,
   "id": "beebeea3",
   "metadata": {
    "ExecuteTime": {
     "end_time": "2021-10-28T16:20:49.678396Z",
     "start_time": "2021-10-28T16:20:49.483263Z"
    }
   },
   "outputs": [
    {
     "data": {
      "text/plain": [
       "<matplotlib.legend.Legend at 0x242a17d41f0>"
      ]
     },
     "execution_count": 32,
     "metadata": {},
     "output_type": "execute_result"
    },
    {
     "data": {
      "image/png": "[encoded data removed]",
      "text/plain": [
       "<Figure size 432x288 with 1 Axes>"
      ]
     },
     "metadata": {
      "needs_background": "light"
     },
     "output_type": "display_data"
    }
   ],
   "source": [
    "pyplot.plot(range(10,301,5), scores, 'g-', label = 'RF_acc')\n",
    "pyplot.legend()"
   ]
  },
  {
   "cell_type": "code",
   "execution_count": 33,
   "id": "ba47ec0f",
   "metadata": {
    "ExecuteTime": {
     "end_time": "2021-10-28T16:21:21.201752Z",
     "start_time": "2021-10-28T16:21:21.177166Z"
    }
   },
   "outputs": [
    {
     "name": "stdout",
     "output_type": "stream",
     "text": [
      "accuracy : 0.7\n",
      "precision: 0.7115384615384616\n",
      "recall: 0.7283464566929134\n",
      "f1: 0.7198443579766537\n"
     ]
    }
   ],
   "source": [
    "print('accuracy :', accuracy_score(y_test, temp_y_pred))\n",
    "print('precision:', precision_score(y_test, temp_y_pred))\n",
    "print('recall:', recall_score(y_test, temp_y_pred))\n",
    "print('f1:', f1_score(y_test, temp_y_pred))"
   ]
  },
  {
   "cell_type": "code",
   "execution_count": 34,
   "id": "0eaa599a",
   "metadata": {
    "ExecuteTime": {
     "end_time": "2021-10-28T16:23:50.024878Z",
     "start_time": "2021-10-28T16:23:49.340906Z"
    }
   },
   "outputs": [],
   "source": [
    "RF = RandomForestClassifier(n_estimators=175, random_state=0)\n",
    "RF.fit(X_train,y_train)\n",
    "temp_y_pred_rf = RF.predict(X_test)"
   ]
  },
  {
   "cell_type": "code",
   "execution_count": 35,
   "id": "b68bdef1",
   "metadata": {
    "ExecuteTime": {
     "end_time": "2021-10-28T16:23:50.611223Z",
     "start_time": "2021-10-28T16:23:50.584434Z"
    }
   },
   "outputs": [
    {
     "name": "stdout",
     "output_type": "stream",
     "text": [
      "accuracy : 0.8020833333333334\n",
      "precision: 0.806949806949807\n",
      "recall: 0.8228346456692913\n",
      "f1: 0.8148148148148149\n"
     ]
    }
   ],
   "source": [
    "print('accuracy :', accuracy_score(y_test, temp_y_pred_rf))\n",
    "print('precision:', precision_score(y_test, temp_y_pred_rf))\n",
    "print('recall:', recall_score(y_test, temp_y_pred_rf))\n",
    "print('f1:', f1_score(y_test, temp_y_pred_rf))"
   ]
  },
  {
   "cell_type": "code",
   "execution_count": 37,
   "id": "41563afe",
   "metadata": {
    "ExecuteTime": {
     "end_time": "2021-10-28T16:24:27.722461Z",
     "start_time": "2021-10-28T16:24:27.706471Z"
    }
   },
   "outputs": [],
   "source": [
    "from sklearn.metrics import roc_curve  "
   ]
  },
  {
   "cell_type": "code",
   "execution_count": 42,
   "id": "46bf9fab",
   "metadata": {
    "ExecuteTime": {
     "end_time": "2021-10-29T05:40:43.452949Z",
     "start_time": "2021-10-29T05:40:43.410989Z"
    }
   },
   "outputs": [],
   "source": [
    "fpr1, tpr1, thresholds1 = roc_curve(y_test, tree.predict_proba(X_test)[:,1])\n",
    "fpr2, tpr2, thresholds2 = roc_curve(y_test, RF.predict_proba(X_test)[:,1])\n",
    "roc_auc_DT = metrics.auc(fpr1,tpr1)\n",
    "roc_auc_RF = metrics.auc(fpr2, tpr2)"
   ]
  },
  {
   "cell_type": "code",
   "execution_count": 43,
   "id": "92238c43",
   "metadata": {
    "ExecuteTime": {
     "end_time": "2021-10-29T05:41:16.934889Z",
     "start_time": "2021-10-29T05:41:16.720408Z"
    }
   },
   "outputs": [
    {
     "data": {
      "image/png": "[encoded data removed]",
      "text/plain": [
       "<Figure size 432x288 with 1 Axes>"
      ]
     },
     "metadata": {
      "needs_background": "light"
     },
     "output_type": "display_data"
    }
   ],
   "source": [
    "plt.plot(fpr1, tpr1,'g-',label = 'Decision Tree(area = %0.2f)'%roc_auc_DT)\n",
    "plt.plot(fpr2, tpr2 ,'b-', label = 'Random Forest(are = %0.2f)' %roc_auc_RF)\n",
    "plt.plot([0,1],[0,1], 'r--', label= 'random guess')\n",
    "\n",
    "\n",
    "plt.title('Roc curves')\n",
    "plt.xlabel('False Positive Rate')\n",
    "plt.ylabel('True Positive Rate')\n",
    "plt.legend(loc = 'lower right')\n",
    "plt.show()"
   ]
  },
  {
   "cell_type": "markdown",
   "id": "d9b43ffe",
   "metadata": {},
   "source": [
    "- Decision Tree보다 Random Forest가 정확도, 정밀도, 재현율, f1에서 더 높은 수치가 나왔고 auc도 약 0.12정도 높게 나온 것을 확인했다."
   ]
  },
  {
   "cell_type": "code",
   "execution_count": null,
   "id": "acfd0bb8",
   "metadata": {},
   "outputs": [],
   "source": []
  }
 ],
 "metadata": {
  "kernelspec": {
   "display_name": "Python 3 (ipykernel)",
   "language": "python",
   "name": "python3"
  },
  "language_info": {
   "codemirror_mode": {
    "name": "ipython",
    "version": 3
   },
   "file_extension": ".py",
   "mimetype": "text/x-python",
   "name": "python",
   "nbconvert_exporter": "python",
   "pygments_lexer": "ipython3",
   "version": "3.8.8"
  },
  "toc": {
   "base_numbering": 1,
   "nav_menu": {},
   "number_sections": true,
   "sideBar": true,
   "skip_h1_title": false,
   "title_cell": "Table of Contents",
   "title_sidebar": "Contents",
   "toc_cell": false,
   "toc_position": {},
   "toc_section_display": true,
   "toc_window_display": false
  }
 },
 "nbformat": 4,
 "nbformat_minor": 5
}
