{
 "cells": [
  {
   "cell_type": "markdown",
   "metadata": {},
   "source": [
    "# 단톡방 과제 \n",
    "- 60171100 윤민혁"
   ]
  },
  {
   "cell_type": "code",
   "execution_count": 39,
   "metadata": {
    "ExecuteTime": {
     "end_time": "2021-09-09T16:21:28.809261Z",
     "start_time": "2021-09-09T16:21:28.796556Z"
    }
   },
   "outputs": [
    {
     "name": "stdout",
     "output_type": "stream",
     "text": [
      "the truth will set you free\n",
      "the truth will set you free\n",
      "the truth will set you free\n"
     ]
    }
   ],
   "source": [
    "#과제 1\n",
    "a = 'So Jesus said to the jews who had believed him, \"If you abide in my word, you are truly my disciples, and you will know the truth, and the truth will set you free.\"'\n",
    "a= a[-29:-2]\n",
    "print('{0}\\n{0}\\n{0}'.format(a))"
   ]
  },
  {
   "cell_type": "code",
   "execution_count": 42,
   "metadata": {
    "ExecuteTime": {
     "end_time": "2021-09-09T16:24:52.988367Z",
     "start_time": "2021-09-09T16:24:52.972409Z"
    }
   },
   "outputs": [
    {
     "name": "stdout",
     "output_type": "stream",
     "text": [
      "정상 리뷰입니다.\n"
     ]
    }
   ],
   "source": [
    "#과제 2\n",
    "review = '이 강의가 제일 좋아!'\n",
    "review1 = review.split()\n",
    "if len(review1) >=2:\n",
    "    print('정상 리뷰입니다.')\n",
    "else:\n",
    "    print('비정상 리뷰입니다.')"
   ]
  },
  {
   "cell_type": "code",
   "execution_count": 43,
   "metadata": {
    "ExecuteTime": {
     "end_time": "2021-09-09T16:24:57.239003Z",
     "start_time": "2021-09-09T16:24:57.222802Z"
    }
   },
   "outputs": [
    {
     "name": "stdout",
     "output_type": "stream",
     "text": [
      "이 강의 너무 즐거워!\n"
     ]
    }
   ],
   "source": [
    "#과제 3\n",
    "review = '이 수업 너무 지겨워!'\n",
    "if '수업' in review:\n",
    "    review = review.replace('수업','강의')\n",
    "if '지겨워' in review:\n",
    "    review = review.replace('지겨워','즐거워')\n",
    "print(review)"
   ]
  },
  {
   "cell_type": "code",
   "execution_count": 44,
   "metadata": {
    "ExecuteTime": {
     "end_time": "2021-09-09T16:25:01.015351Z",
     "start_time": "2021-09-09T16:24:57.988332Z"
    }
   },
   "outputs": [
    {
     "name": "stdout",
     "output_type": "stream",
     "text": [
      "과일 이름을 입력해주세요: 포도\n",
      "no\n"
     ]
    }
   ],
   "source": [
    "#과제 4\n",
    "list = []\n",
    "list.extend(['딸기','바나나','사과'])\n",
    "fruit = input('과일 이름을 입력해주세요: ')\n",
    "if fruit in list:\n",
    "    print('yes')\n",
    "else:\n",
    "    print('no')"
   ]
  },
  {
   "cell_type": "code",
   "execution_count": 45,
   "metadata": {
    "ExecuteTime": {
     "end_time": "2021-09-09T16:25:03.381044Z",
     "start_time": "2021-09-09T16:25:01.585527Z"
    }
   },
   "outputs": [
    {
     "name": "stdout",
     "output_type": "stream",
     "text": [
      "숫자를 입력해주세요: 5\n",
      "hi\n",
      "hi\n",
      "hi\n",
      "hi\n",
      "hi\n"
     ]
    }
   ],
   "source": [
    "#과제 5\n",
    "num = int(input('숫자를 입력해주세요: '))\n",
    "for a in range(num):\n",
    "    print('hi')"
   ]
  },
  {
   "cell_type": "code",
   "execution_count": 46,
   "metadata": {
    "ExecuteTime": {
     "end_time": "2021-09-09T16:25:06.851957Z",
     "start_time": "2021-09-09T16:25:04.015517Z"
    }
   },
   "outputs": [
    {
     "name": "stdout",
     "output_type": "stream",
     "text": [
      "숫자를 입력해주세요: 5\n",
      "1\n",
      "2\n",
      "3\n",
      "4\n",
      "5\n"
     ]
    }
   ],
   "source": [
    "#과제 6\n",
    "num = int(input('숫자를 입력해주세요: '))\n",
    "a = 0\n",
    "while a < num:\n",
    "    a += 1\n",
    "    print(a)"
   ]
  },
  {
   "cell_type": "code",
   "execution_count": 49,
   "metadata": {
    "ExecuteTime": {
     "end_time": "2021-09-09T16:31:28.878493Z",
     "start_time": "2021-09-09T16:31:27.803693Z"
    }
   },
   "outputs": [
    {
     "name": "stdout",
     "output_type": "stream",
     "text": [
      "숫자를 입력해주세요(자연수): 4\n",
      "4 x 1 = 4\n",
      "4 x 2 = 8\n",
      "4 x 3 = 12\n",
      "4 x 4 = 16\n",
      "4 x 5 = 20\n",
      "4 x 6 = 24\n",
      "4 x 7 = 28\n",
      "4 x 8 = 32\n",
      "4 x 9 = 36\n"
     ]
    }
   ],
   "source": [
    "#과제 7\n",
    "num = int(input('숫자를 입력해주세요(자연수): '))\n",
    "for i in range(1,10):\n",
    "    print(num, 'x', i, '=', num*i )"
   ]
  },
  {
   "cell_type": "code",
   "execution_count": 52,
   "metadata": {
    "ExecuteTime": {
     "end_time": "2021-09-09T16:35:50.936443Z",
     "start_time": "2021-09-09T16:35:50.927510Z"
    }
   },
   "outputs": [
    {
     "name": "stdout",
     "output_type": "stream",
     "text": [
      "2 4 6 8 10 12 14 16 18 \n",
      "3 6 9 12 15 18 21 24 27 \n",
      "4 8 12 16 20 24 28 32 36 \n",
      "5 10 15 20 25 30 35 40 45 \n",
      "6 12 18 24 30 36 42 48 54 \n",
      "7 14 21 28 35 42 49 56 63 \n"
     ]
    }
   ],
   "source": [
    "#과제 8\n",
    "for i in range(2,8):\n",
    "    for k in range(1,10):\n",
    "        print(i*k, end=' ')\n",
    "    print()"
   ]
  },
  {
   "cell_type": "code",
   "execution_count": null,
   "metadata": {},
   "outputs": [],
   "source": []
  }
 ],
 "metadata": {
  "kernelspec": {
   "display_name": "Python 3 (ipykernel)",
   "language": "python",
   "name": "python3"
  },
  "language_info": {
   "codemirror_mode": {
    "name": "ipython",
    "version": 3
   },
   "file_extension": ".py",
   "mimetype": "text/x-python",
   "name": "python",
   "nbconvert_exporter": "python",
   "pygments_lexer": "ipython3",
   "version": "3.8.8"
  },
  "toc": {
   "base_numbering": 1,
   "nav_menu": {},
   "number_sections": true,
   "sideBar": true,
   "skip_h1_title": false,
   "title_cell": "Table of Contents",
   "title_sidebar": "Contents",
   "toc_cell": false,
   "toc_position": {},
   "toc_section_display": true,
   "toc_window_display": false
  }
 },
 "nbformat": 4,
 "nbformat_minor": 4
}
