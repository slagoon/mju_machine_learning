{
 "cells": [
  {
   "cell_type": "markdown",
   "metadata": {},
   "source": [
    "# 2주차 과제\n",
    "- 경영정보학과 60171100 윤민혁"
   ]
  },
  {
   "cell_type": "code",
   "execution_count": 1,
   "metadata": {
    "ExecuteTime": {
     "end_time": "2021-10-14T08:30:19.598185Z",
     "start_time": "2021-10-14T08:30:19.586185Z"
    }
   },
   "outputs": [],
   "source": [
    "import random"
   ]
  },
  {
   "cell_type": "code",
   "execution_count": 2,
   "metadata": {
    "ExecuteTime": {
     "end_time": "2021-10-14T08:30:19.993147Z",
     "start_time": "2021-10-14T08:30:19.974281Z"
    }
   },
   "outputs": [
    {
     "name": "stdout",
     "output_type": "stream",
     "text": [
      "[10, 19, 31, 37, 39, 43]\n"
     ]
    }
   ],
   "source": [
    "#과제 1\n",
    "lotto = []\n",
    "\n",
    "def random_num():\n",
    "    return random.randrange(1,46)\n",
    "\n",
    "while len(lotto)<6:\n",
    "    a = random_num()\n",
    "    if a not in lotto:\n",
    "        lotto.append(a)\n",
    "        \n",
    "lotto.sort()\n",
    "print(lotto)"
   ]
  },
  {
   "cell_type": "code",
   "execution_count": 3,
   "metadata": {
    "ExecuteTime": {
     "end_time": "2021-10-14T08:30:20.462980Z",
     "start_time": "2021-10-14T08:30:20.449021Z"
    }
   },
   "outputs": [
    {
     "name": "stdout",
     "output_type": "stream",
     "text": [
      "[1, 4, 9, 16, 25]\n"
     ]
    }
   ],
   "source": [
    "ex = [1,2,3,4,5]\n",
    "f = lambda x:x**2\n",
    "print(list(map(f,ex)))"
   ]
  },
  {
   "cell_type": "code",
   "execution_count": 4,
   "metadata": {
    "ExecuteTime": {
     "end_time": "2021-10-14T08:30:20.858777Z",
     "start_time": "2021-10-14T08:30:20.842140Z"
    }
   },
   "outputs": [
    {
     "name": "stdout",
     "output_type": "stream",
     "text": [
      "[7, 9, 11, 13, 15]\n"
     ]
    }
   ],
   "source": [
    "ex = [1,2,3,4,5]\n",
    "a = [6,7,8,9,10]\n",
    "f_2 = lambda x,y:x+y\n",
    "print(list(map(f_2,ex,a)))"
   ]
  },
  {
   "cell_type": "code",
   "execution_count": 5,
   "metadata": {
    "ExecuteTime": {
     "end_time": "2021-10-14T08:30:21.252681Z",
     "start_time": "2021-10-14T08:30:21.248681Z"
    }
   },
   "outputs": [
    {
     "name": "stdout",
     "output_type": "stream",
     "text": [
      "5\n"
     ]
    }
   ],
   "source": [
    "f = lambda n,m:n+m\n",
    "print(f(2,3))"
   ]
  },
  {
   "cell_type": "code",
   "execution_count": 6,
   "metadata": {
    "ExecuteTime": {
     "end_time": "2021-10-14T08:30:21.694032Z",
     "start_time": "2021-10-14T08:30:21.683032Z"
    }
   },
   "outputs": [
    {
     "name": "stdout",
     "output_type": "stream",
     "text": [
      "-2\n"
     ]
    }
   ],
   "source": [
    "lol = lambda x: -abs(x)\n",
    "\n",
    "print(lol(2))"
   ]
  },
  {
   "cell_type": "code",
   "execution_count": 7,
   "metadata": {
    "ExecuteTime": {
     "end_time": "2021-10-14T08:30:22.054930Z",
     "start_time": "2021-10-14T08:30:22.039249Z"
    }
   },
   "outputs": [
    {
     "name": "stdout",
     "output_type": "stream",
     "text": [
      "13\n"
     ]
    }
   ],
   "source": [
    "a = lambda n,m:n if n>m else m\n",
    "print(a(5,13))"
   ]
  },
  {
   "cell_type": "code",
   "execution_count": 8,
   "metadata": {
    "ExecuteTime": {
     "end_time": "2021-10-14T08:30:22.420278Z",
     "start_time": "2021-10-14T08:30:22.415282Z"
    }
   },
   "outputs": [
    {
     "name": "stdout",
     "output_type": "stream",
     "text": [
      "4\n"
     ]
    }
   ],
   "source": [
    "print(a(4,1))"
   ]
  },
  {
   "cell_type": "code",
   "execution_count": 10,
   "metadata": {
    "ExecuteTime": {
     "end_time": "2021-10-14T08:30:37.684247Z",
     "start_time": "2021-10-14T08:30:26.120538Z"
    }
   },
   "outputs": [
    {
     "name": "stdout",
     "output_type": "stream",
     "text": [
      "1~45사이의 숫자를 입력해 주세요:5\n",
      "5\n",
      "1~45사이의 숫자를 입력해 주세요:8\n",
      "8\n",
      "1~45사이의 숫자를 입력해 주세요:24\n",
      "24\n",
      "1~45사이의 숫자를 입력해 주세요:34\n",
      "34\n",
      "1~45사이의 숫자를 입력해 주세요:41\n",
      "41\n",
      "1~45사이의 숫자를 입력해 주세요:45\n",
      "45\n",
      "[10, 19, 31, 37, 39, 43]\n"
     ]
    }
   ],
   "source": [
    "#개인톡 과제 1\n",
    "num = []\n",
    "for i in range(1,7):\n",
    "    a = int(input('1~45사이의 숫자를 입력해 주세요:'))\n",
    "    print(a)\n",
    "    num.append(a)\n",
    "    \n",
    "num = []\n",
    "\n",
    "def random_num():\n",
    "    return random.randrange(1,46)\n",
    "\n",
    "while len(lotto)<6:\n",
    "    i = random_num()\n",
    "    if i not in lotto:\n",
    "        lotto.append(i)\n",
    "        \n",
    "lotto.sort()    \n",
    "    \n",
    "print(lotto)"
   ]
  },
  {
   "cell_type": "code",
   "execution_count": null,
   "metadata": {
    "ExecuteTime": {
     "start_time": "2021-09-18T03:55:14.125Z"
    }
   },
   "outputs": [],
   "source": [
    "### 개인톡 과제 2\n",
    "en = []\n",
    "ma = []\n",
    "for i in range(1,6):\n",
    "    a = int(input('영어점수를 입력해주세요: '))\n",
    "    print(a)\n",
    "    en.append(a)\n",
    "for j in range(1,6):\n",
    "    b = int(input('수학점수를 입력해주세요: '))\n",
    "    print(b)\n",
    "    ma.append(b)\n",
    "    \n",
    "print(en)\n",
    "print(ma)\n",
    "\n",
    "c = list(zip(en,ma))\n",
    "c\n"
   ]
  },
  {
   "cell_type": "markdown",
   "metadata": {
    "ExecuteTime": {
     "end_time": "2021-09-17T18:12:46.401360Z",
     "start_time": "2021-09-17T18:12:46.386453Z"
    }
   },
   "source": [
    "##### en"
   ]
  },
  {
   "cell_type": "code",
   "execution_count": 11,
   "metadata": {
    "ExecuteTime": {
     "end_time": "2021-10-14T08:31:03.930712Z",
     "start_time": "2021-10-14T08:30:50.625829Z"
    }
   },
   "outputs": [
    {
     "name": "stdout",
     "output_type": "stream",
     "text": [
      "1~45사이의 숫자를 입력해 주세요:11\n",
      "1~45사이의 숫자를 입력해 주세요:17\n",
      "1~45사이의 숫자를 입력해 주세요:23\n",
      "1~45사이의 숫자를 입력해 주세요:29\n",
      "1~45사이의 숫자를 입력해 주세요:36\n",
      "1~45사이의 숫자를 입력해 주세요:38\n",
      "[3, 12, 18, 22, 31, 32]\n",
      "[11, 17, 23, 29, 36, 38]\n"
     ]
    }
   ],
   "source": [
    "#개인톡 과제 1\n",
    "import random\n",
    "import numpy as np\n",
    "num = []\n",
    "for i in range(1,7):\n",
    "    a = int(input('1~45사이의 숫자를 입력해 주세요:'))\n",
    "    num.append(a)\n",
    "num.sort()   \n",
    "lotto = []\n",
    "\n",
    "def random_num():\n",
    "    return random.randrange(1,46)\n",
    "\n",
    "while len(lotto)<6:\n",
    "    i = random_num()\n",
    "    if i not in lotto:\n",
    "        lotto.append(i)\n",
    "        \n",
    "lotto.sort()    \n",
    "\n",
    "print(lotto)\n",
    "print(num)\n",
    "s = 0\n",
    "for l in range(1,7):\n",
    "    s = s+lotto.count(num[l-1])\n",
    "    \n",
    "if s ==6:\n",
    "    print('맞춘 개수는 6개, 1등')\n",
    "elif s == 5:\n",
    "    print('맞춘 개수는 5개, 2등')\n",
    "elif s ==4:\n",
    "    print('맞춘 개수는 4개, 3등')\n",
    "elif s == 3:\n",
    "    print('맞춘 개수는 3개, 4등')\n",
    "elif s == 2:\n",
    "    print('맞춘 개수는 2개, 5등')\n",
    "elif s== 1:\n",
    "    print('맞춘 개수는 1개, 6등')"
   ]
  },
  {
   "cell_type": "code",
   "execution_count": 12,
   "metadata": {
    "ExecuteTime": {
     "end_time": "2021-10-14T08:31:21.648027Z",
     "start_time": "2021-10-14T08:31:16.542084Z"
    }
   },
   "outputs": [
    {
     "name": "stdout",
     "output_type": "stream",
     "text": [
      "영어점수를 입력해주세요: 15\n",
      "15\n",
      "영어점수를 입력해주세요: 23\n",
      "23\n",
      "영어점수를 입력해주세요: 1231\n",
      "1231\n",
      "영어점수를 입력해주세요: 2312\n",
      "2312\n",
      "영어점수를 입력해주세요: 3123\n",
      "3123\n",
      "수학점수를 입력해주세요: 1231\n",
      "1231\n",
      "수학점수를 입력해주세요: 2312\n",
      "2312\n",
      "수학점수를 입력해주세요: 3\n",
      "3\n",
      "수학점수를 입력해주세요: 23\n",
      "23\n",
      "수학점수를 입력해주세요: 123\n",
      "123\n",
      "(15, 1236)\n",
      "(23, 2317)\n",
      "(1236, 3)\n",
      "(2317, 23)\n",
      "(3128, 128)\n"
     ]
    }
   ],
   "source": [
    "#개인톡 과제 2\n",
    "## 점수 입력\n",
    "en = []\n",
    "ma = []\n",
    "for i in range(1,6):\n",
    "    a = int(input('영어점수를 입력해주세요: '))\n",
    "    print(a)\n",
    "    en.append(a)\n",
    "for j in range(1,6):\n",
    "    b = int(input('수학점수를 입력해주세요: '))\n",
    "    print(b)\n",
    "    ma.append(b)\n",
    "# 90점 이상일 경우 5점 추가   \n",
    "plus = lambda x:x+5 if x>=90 else x\n",
    "ma = list(map(plus,ma))\n",
    "en = list(map(plus, en))\n",
    "\n",
    "# 정렬\n",
    "c = list(zip(en,ma))\n",
    "for i in c:\n",
    "    print(i)"
   ]
  },
  {
   "cell_type": "code",
   "execution_count": 13,
   "metadata": {
    "ExecuteTime": {
     "end_time": "2021-10-14T08:31:41.120214Z",
     "start_time": "2021-10-14T08:31:41.102903Z"
    }
   },
   "outputs": [
    {
     "name": "stdout",
     "output_type": "stream",
     "text": [
      "the truth will set you free\n",
      "the truth will set you free\n",
      "the truth will set you free\n"
     ]
    }
   ],
   "source": [
    "#과제 1\n",
    "a = 'So Jesus said to the jews who had believed him, \"If you abide in my word, you are truly my disciples, and you will know the truth, and the truth will set you free.\"'\n",
    "a= a[-29:-2]\n",
    "print('{0}\\n{0}\\n{0}'.format(a))"
   ]
  },
  {
   "cell_type": "code",
   "execution_count": 14,
   "metadata": {
    "ExecuteTime": {
     "end_time": "2021-10-14T08:31:45.634777Z",
     "start_time": "2021-10-14T08:31:45.621514Z"
    }
   },
   "outputs": [
    {
     "name": "stdout",
     "output_type": "stream",
     "text": [
      "정상 리뷰입니다.\n"
     ]
    }
   ],
   "source": [
    "#과제 2\n",
    "review = '이 강의가 제일 좋아!'\n",
    "review1 = review.split()\n",
    "if len(review1) >=2:\n",
    "    print('정상 리뷰입니다.')\n",
    "else:\n",
    "    print('비정상 리뷰입니다.')"
   ]
  },
  {
   "cell_type": "code",
   "execution_count": 15,
   "metadata": {
    "ExecuteTime": {
     "end_time": "2021-10-14T08:31:51.841778Z",
     "start_time": "2021-10-14T08:31:51.826364Z"
    }
   },
   "outputs": [
    {
     "name": "stdout",
     "output_type": "stream",
     "text": [
      "이 강의 너무 즐거워!\n"
     ]
    }
   ],
   "source": [
    "#과제 3\n",
    "review = '이 수업 너무 지겨워!'\n",
    "if '수업' in review:\n",
    "    review = review.replace('수업','강의')\n",
    "if '지겨워' in review:\n",
    "    review = review.replace('지겨워','즐거워')\n",
    "print(review)"
   ]
  },
  {
   "cell_type": "code",
   "execution_count": 16,
   "metadata": {
    "ExecuteTime": {
     "end_time": "2021-10-14T08:32:00.943590Z",
     "start_time": "2021-10-14T08:31:57.845271Z"
    }
   },
   "outputs": [
    {
     "name": "stdout",
     "output_type": "stream",
     "text": [
      "과일 이름을 입력해주세요: 토마토\n",
      "no\n"
     ]
    }
   ],
   "source": [
    "#과제 4\n",
    "list = []\n",
    "list.extend(['딸기','바나나','사과'])\n",
    "fruit = input('과일 이름을 입력해주세요: ')\n",
    "if fruit in list:\n",
    "    print('yes')\n",
    "else:\n",
    "    print('no')\n",
    "    "
   ]
  },
  {
   "cell_type": "code",
   "execution_count": 17,
   "metadata": {
    "ExecuteTime": {
     "end_time": "2021-10-14T08:32:08.294218Z",
     "start_time": "2021-10-14T08:32:07.554619Z"
    }
   },
   "outputs": [
    {
     "name": "stdout",
     "output_type": "stream",
     "text": [
      "숫자를 입력해주세요: 6\n",
      "hi\n",
      "hi\n",
      "hi\n",
      "hi\n",
      "hi\n",
      "hi\n"
     ]
    }
   ],
   "source": [
    "#과제 5\n",
    "num = int(input('숫자를 입력해주세요: '))\n",
    "for a in range(num):\n",
    "    print('hi')\n",
    "    "
   ]
  },
  {
   "cell_type": "code",
   "execution_count": 18,
   "metadata": {
    "ExecuteTime": {
     "end_time": "2021-10-14T08:32:16.546669Z",
     "start_time": "2021-10-14T08:32:15.118999Z"
    }
   },
   "outputs": [
    {
     "name": "stdout",
     "output_type": "stream",
     "text": [
      "숫자를 입력해주세요: 3\n",
      "1\n",
      "2\n",
      "3\n"
     ]
    }
   ],
   "source": [
    "#과제 6\n",
    "num = int(input('숫자를 입력해주세요: '))\n",
    "a = 0\n",
    "while a < num:\n",
    "    a += 1\n",
    "    print(a)"
   ]
  },
  {
   "cell_type": "code",
   "execution_count": 19,
   "metadata": {
    "ExecuteTime": {
     "end_time": "2021-10-14T08:32:23.974193Z",
     "start_time": "2021-10-14T08:32:22.590715Z"
    }
   },
   "outputs": [
    {
     "name": "stdout",
     "output_type": "stream",
     "text": [
      "숫자를 입력해주세요(자연수): 5\n",
      "5 x 1 = 5\n",
      "5 x 2 = 10\n",
      "5 x 3 = 15\n",
      "5 x 4 = 20\n",
      "5 x 5 = 25\n",
      "5 x 6 = 30\n",
      "5 x 7 = 35\n",
      "5 x 8 = 40\n",
      "5 x 9 = 45\n"
     ]
    }
   ],
   "source": [
    "#과제 7\n",
    "num = int(input('숫자를 입력해주세요(자연수): '))\n",
    "for i in range(1,10):\n",
    "    print(num, 'x', i, '=', num*i )"
   ]
  },
  {
   "cell_type": "code",
   "execution_count": 20,
   "metadata": {
    "ExecuteTime": {
     "end_time": "2021-10-14T08:32:31.040946Z",
     "start_time": "2021-10-14T08:32:31.032876Z"
    }
   },
   "outputs": [
    {
     "name": "stdout",
     "output_type": "stream",
     "text": [
      "2 4 6 8 10 12 14 16 18 \n",
      "3 6 9 12 15 18 21 24 27 \n",
      "4 8 12 16 20 24 28 32 36 \n",
      "5 10 15 20 25 30 35 40 45 \n",
      "6 12 18 24 30 36 42 48 54 \n",
      "7 14 21 28 35 42 49 56 63 \n"
     ]
    }
   ],
   "source": [
    "#과제 8\n",
    "for i in range(2,8):\n",
    "    for k in range(1,10):\n",
    "        print(i*k, end=' ')\n",
    "    print()"
   ]
  },
  {
   "cell_type": "code",
   "execution_count": null,
   "metadata": {},
   "outputs": [],
   "source": []
  }
 ],
 "metadata": {
  "kernelspec": {
   "display_name": "Python 3 (ipykernel)",
   "language": "python",
   "name": "python3"
  },
  "language_info": {
   "codemirror_mode": {
    "name": "ipython",
    "version": 3
   },
   "file_extension": ".py",
   "mimetype": "text/x-python",
   "name": "python",
   "nbconvert_exporter": "python",
   "pygments_lexer": "ipython3",
   "version": "3.8.8"
  },
  "toc": {
   "base_numbering": 1,
   "nav_menu": {},
   "number_sections": true,
   "sideBar": true,
   "skip_h1_title": false,
   "title_cell": "Table of Contents",
   "title_sidebar": "Contents",
   "toc_cell": false,
   "toc_position": {},
   "toc_section_display": true,
   "toc_window_display": false
  }
 },
 "nbformat": 4,
 "nbformat_minor": 4
}
