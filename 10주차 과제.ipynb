{
 "cells": [
  {
   "cell_type": "markdown",
   "id": "8951dfda",
   "metadata": {},
   "source": [
    "# 내 데이터로 회귀모형 만들기\n",
    "- 경영정보학과 60171100 윤민혁\n",
    "- https://www.kaggle.com/bluemumin/kbo-baseball-for-kaggle\n",
    "- 타자 지표에 따른 war 분석"
   ]
  },
  {
   "cell_type": "code",
   "execution_count": 1,
   "id": "52bc7b2f",
   "metadata": {
    "ExecuteTime": {
     "end_time": "2021-11-24T11:24:35.702364Z",
     "start_time": "2021-11-24T11:24:35.219674Z"
    }
   },
   "outputs": [],
   "source": [
    "import pandas as pd\n",
    "import numpy as np"
   ]
  },
  {
   "cell_type": "code",
   "execution_count": 2,
   "id": "b927440e",
   "metadata": {
    "ExecuteTime": {
     "end_time": "2021-11-24T11:24:35.762762Z",
     "start_time": "2021-11-24T11:24:35.704364Z"
    }
   },
   "outputs": [
    {
     "data": {
      "text/html": [
       "<div>\n",
       "<style scoped>\n",
       "    .dataframe tbody tr th:only-of-type {\n",
       "        vertical-align: middle;\n",
       "    }\n",
       "\n",
       "    .dataframe tbody tr th {\n",
       "        vertical-align: top;\n",
       "    }\n",
       "\n",
       "    .dataframe thead th {\n",
       "        text-align: right;\n",
       "    }\n",
       "</style>\n",
       "<table border=\"1\" class=\"dataframe\">\n",
       "  <thead>\n",
       "    <tr style=\"text-align: right;\">\n",
       "      <th></th>\n",
       "      <th>batter_name</th>\n",
       "      <th>age</th>\n",
       "      <th>G</th>\n",
       "      <th>PA</th>\n",
       "      <th>AB</th>\n",
       "      <th>R</th>\n",
       "      <th>H</th>\n",
       "      <th>2B</th>\n",
       "      <th>3B</th>\n",
       "      <th>HR</th>\n",
       "      <th>...</th>\n",
       "      <th>tp</th>\n",
       "      <th>1B</th>\n",
       "      <th>FBP</th>\n",
       "      <th>avg</th>\n",
       "      <th>OBP</th>\n",
       "      <th>SLG</th>\n",
       "      <th>OPS</th>\n",
       "      <th>p_year</th>\n",
       "      <th>YAB</th>\n",
       "      <th>YOPS</th>\n",
       "    </tr>\n",
       "  </thead>\n",
       "  <tbody>\n",
       "    <tr>\n",
       "      <th>0</th>\n",
       "      <td>백용환</td>\n",
       "      <td>24.0</td>\n",
       "      <td>26.0</td>\n",
       "      <td>58.0</td>\n",
       "      <td>52.0</td>\n",
       "      <td>4.0</td>\n",
       "      <td>9.0</td>\n",
       "      <td>4.0</td>\n",
       "      <td>0.0</td>\n",
       "      <td>0.0</td>\n",
       "      <td>...</td>\n",
       "      <td>포수</td>\n",
       "      <td>5.0</td>\n",
       "      <td>6.0</td>\n",
       "      <td>0.173</td>\n",
       "      <td>0.259</td>\n",
       "      <td>0.250</td>\n",
       "      <td>0.509</td>\n",
       "      <td>2014</td>\n",
       "      <td>79.0</td>\n",
       "      <td>0.580</td>\n",
       "    </tr>\n",
       "    <tr>\n",
       "      <th>1</th>\n",
       "      <td>백용환</td>\n",
       "      <td>25.0</td>\n",
       "      <td>47.0</td>\n",
       "      <td>86.0</td>\n",
       "      <td>79.0</td>\n",
       "      <td>8.0</td>\n",
       "      <td>14.0</td>\n",
       "      <td>2.0</td>\n",
       "      <td>0.0</td>\n",
       "      <td>4.0</td>\n",
       "      <td>...</td>\n",
       "      <td>포수</td>\n",
       "      <td>8.0</td>\n",
       "      <td>5.0</td>\n",
       "      <td>0.177</td>\n",
       "      <td>0.226</td>\n",
       "      <td>0.354</td>\n",
       "      <td>0.580</td>\n",
       "      <td>2015</td>\n",
       "      <td>154.0</td>\n",
       "      <td>0.784</td>\n",
       "    </tr>\n",
       "    <tr>\n",
       "      <th>2</th>\n",
       "      <td>백용환</td>\n",
       "      <td>26.0</td>\n",
       "      <td>65.0</td>\n",
       "      <td>177.0</td>\n",
       "      <td>154.0</td>\n",
       "      <td>22.0</td>\n",
       "      <td>36.0</td>\n",
       "      <td>6.0</td>\n",
       "      <td>0.0</td>\n",
       "      <td>10.0</td>\n",
       "      <td>...</td>\n",
       "      <td>포수</td>\n",
       "      <td>20.0</td>\n",
       "      <td>20.0</td>\n",
       "      <td>0.234</td>\n",
       "      <td>0.316</td>\n",
       "      <td>0.468</td>\n",
       "      <td>0.784</td>\n",
       "      <td>2016</td>\n",
       "      <td>174.0</td>\n",
       "      <td>0.581</td>\n",
       "    </tr>\n",
       "    <tr>\n",
       "      <th>3</th>\n",
       "      <td>백용환</td>\n",
       "      <td>27.0</td>\n",
       "      <td>80.0</td>\n",
       "      <td>199.0</td>\n",
       "      <td>174.0</td>\n",
       "      <td>12.0</td>\n",
       "      <td>34.0</td>\n",
       "      <td>7.0</td>\n",
       "      <td>0.0</td>\n",
       "      <td>4.0</td>\n",
       "      <td>...</td>\n",
       "      <td>포수</td>\n",
       "      <td>23.0</td>\n",
       "      <td>20.0</td>\n",
       "      <td>0.195</td>\n",
       "      <td>0.276</td>\n",
       "      <td>0.305</td>\n",
       "      <td>0.581</td>\n",
       "      <td>2017</td>\n",
       "      <td>17.0</td>\n",
       "      <td>0.476</td>\n",
       "    </tr>\n",
       "    <tr>\n",
       "      <th>4</th>\n",
       "      <td>백용환</td>\n",
       "      <td>28.0</td>\n",
       "      <td>15.0</td>\n",
       "      <td>20.0</td>\n",
       "      <td>17.0</td>\n",
       "      <td>2.0</td>\n",
       "      <td>3.0</td>\n",
       "      <td>0.0</td>\n",
       "      <td>0.0</td>\n",
       "      <td>0.0</td>\n",
       "      <td>...</td>\n",
       "      <td>포수</td>\n",
       "      <td>3.0</td>\n",
       "      <td>3.0</td>\n",
       "      <td>0.176</td>\n",
       "      <td>0.300</td>\n",
       "      <td>0.176</td>\n",
       "      <td>0.476</td>\n",
       "      <td>2018</td>\n",
       "      <td>47.0</td>\n",
       "      <td>0.691</td>\n",
       "    </tr>\n",
       "    <tr>\n",
       "      <th>...</th>\n",
       "      <td>...</td>\n",
       "      <td>...</td>\n",
       "      <td>...</td>\n",
       "      <td>...</td>\n",
       "      <td>...</td>\n",
       "      <td>...</td>\n",
       "      <td>...</td>\n",
       "      <td>...</td>\n",
       "      <td>...</td>\n",
       "      <td>...</td>\n",
       "      <td>...</td>\n",
       "      <td>...</td>\n",
       "      <td>...</td>\n",
       "      <td>...</td>\n",
       "      <td>...</td>\n",
       "      <td>...</td>\n",
       "      <td>...</td>\n",
       "      <td>...</td>\n",
       "      <td>...</td>\n",
       "      <td>...</td>\n",
       "      <td>...</td>\n",
       "    </tr>\n",
       "    <tr>\n",
       "      <th>1908</th>\n",
       "      <td>이원석</td>\n",
       "      <td>32.0</td>\n",
       "      <td>128.0</td>\n",
       "      <td>543.0</td>\n",
       "      <td>479.0</td>\n",
       "      <td>74.0</td>\n",
       "      <td>144.0</td>\n",
       "      <td>30.0</td>\n",
       "      <td>1.0</td>\n",
       "      <td>20.0</td>\n",
       "      <td>...</td>\n",
       "      <td>3루수</td>\n",
       "      <td>93.0</td>\n",
       "      <td>59.0</td>\n",
       "      <td>0.301</td>\n",
       "      <td>0.374</td>\n",
       "      <td>0.493</td>\n",
       "      <td>0.867</td>\n",
       "      <td>2019</td>\n",
       "      <td>395.0</td>\n",
       "      <td>0.768</td>\n",
       "    </tr>\n",
       "    <tr>\n",
       "      <th>1909</th>\n",
       "      <td>조용호</td>\n",
       "      <td>28.0</td>\n",
       "      <td>68.0</td>\n",
       "      <td>225.0</td>\n",
       "      <td>191.0</td>\n",
       "      <td>34.0</td>\n",
       "      <td>52.0</td>\n",
       "      <td>7.0</td>\n",
       "      <td>1.0</td>\n",
       "      <td>0.0</td>\n",
       "      <td>...</td>\n",
       "      <td>우익수</td>\n",
       "      <td>44.0</td>\n",
       "      <td>28.0</td>\n",
       "      <td>0.272</td>\n",
       "      <td>0.365</td>\n",
       "      <td>0.319</td>\n",
       "      <td>0.684</td>\n",
       "      <td>2018</td>\n",
       "      <td>13.0</td>\n",
       "      <td>0.154</td>\n",
       "    </tr>\n",
       "    <tr>\n",
       "      <th>1910</th>\n",
       "      <td>조용호</td>\n",
       "      <td>29.0</td>\n",
       "      <td>16.0</td>\n",
       "      <td>14.0</td>\n",
       "      <td>13.0</td>\n",
       "      <td>4.0</td>\n",
       "      <td>1.0</td>\n",
       "      <td>0.0</td>\n",
       "      <td>0.0</td>\n",
       "      <td>0.0</td>\n",
       "      <td>...</td>\n",
       "      <td>우익수</td>\n",
       "      <td>1.0</td>\n",
       "      <td>0.0</td>\n",
       "      <td>0.077</td>\n",
       "      <td>0.077</td>\n",
       "      <td>0.077</td>\n",
       "      <td>0.154</td>\n",
       "      <td>2019</td>\n",
       "      <td>188.0</td>\n",
       "      <td>0.720</td>\n",
       "    </tr>\n",
       "    <tr>\n",
       "      <th>1911</th>\n",
       "      <td>히메네스</td>\n",
       "      <td>27.0</td>\n",
       "      <td>70.0</td>\n",
       "      <td>299.0</td>\n",
       "      <td>279.0</td>\n",
       "      <td>37.0</td>\n",
       "      <td>87.0</td>\n",
       "      <td>17.0</td>\n",
       "      <td>2.0</td>\n",
       "      <td>11.0</td>\n",
       "      <td>...</td>\n",
       "      <td>3루수</td>\n",
       "      <td>57.0</td>\n",
       "      <td>16.0</td>\n",
       "      <td>0.312</td>\n",
       "      <td>0.344</td>\n",
       "      <td>0.505</td>\n",
       "      <td>0.849</td>\n",
       "      <td>2016</td>\n",
       "      <td>523.0</td>\n",
       "      <td>0.889</td>\n",
       "    </tr>\n",
       "    <tr>\n",
       "      <th>1912</th>\n",
       "      <td>히메네스</td>\n",
       "      <td>28.0</td>\n",
       "      <td>135.0</td>\n",
       "      <td>579.0</td>\n",
       "      <td>523.0</td>\n",
       "      <td>101.0</td>\n",
       "      <td>161.0</td>\n",
       "      <td>36.0</td>\n",
       "      <td>0.0</td>\n",
       "      <td>26.0</td>\n",
       "      <td>...</td>\n",
       "      <td>3루수</td>\n",
       "      <td>99.0</td>\n",
       "      <td>49.0</td>\n",
       "      <td>0.308</td>\n",
       "      <td>0.363</td>\n",
       "      <td>0.526</td>\n",
       "      <td>0.889</td>\n",
       "      <td>2017</td>\n",
       "      <td>181.0</td>\n",
       "      <td>0.769</td>\n",
       "    </tr>\n",
       "  </tbody>\n",
       "</table>\n",
       "<p>1913 rows × 37 columns</p>\n",
       "</div>"
      ],
      "text/plain": [
       "     batter_name   age      G     PA     AB      R      H    2B   3B    HR  \\\n",
       "0            백용환  24.0   26.0   58.0   52.0    4.0    9.0   4.0  0.0   0.0   \n",
       "1            백용환  25.0   47.0   86.0   79.0    8.0   14.0   2.0  0.0   4.0   \n",
       "2            백용환  26.0   65.0  177.0  154.0   22.0   36.0   6.0  0.0  10.0   \n",
       "3            백용환  27.0   80.0  199.0  174.0   12.0   34.0   7.0  0.0   4.0   \n",
       "4            백용환  28.0   15.0   20.0   17.0    2.0    3.0   0.0  0.0   0.0   \n",
       "...          ...   ...    ...    ...    ...    ...    ...   ...  ...   ...   \n",
       "1908         이원석  32.0  128.0  543.0  479.0   74.0  144.0  30.0  1.0  20.0   \n",
       "1909         조용호  28.0   68.0  225.0  191.0   34.0   52.0   7.0  1.0   0.0   \n",
       "1910         조용호  29.0   16.0   14.0   13.0    4.0    1.0   0.0  0.0   0.0   \n",
       "1911        히메네스  27.0   70.0  299.0  279.0   37.0   87.0  17.0  2.0  11.0   \n",
       "1912        히메네스  28.0  135.0  579.0  523.0  101.0  161.0  36.0  0.0  26.0   \n",
       "\n",
       "      ...   tp    1B   FBP    avg    OBP    SLG    OPS  p_year    YAB   YOPS  \n",
       "0     ...   포수   5.0   6.0  0.173  0.259  0.250  0.509    2014   79.0  0.580  \n",
       "1     ...   포수   8.0   5.0  0.177  0.226  0.354  0.580    2015  154.0  0.784  \n",
       "2     ...   포수  20.0  20.0  0.234  0.316  0.468  0.784    2016  174.0  0.581  \n",
       "3     ...   포수  23.0  20.0  0.195  0.276  0.305  0.581    2017   17.0  0.476  \n",
       "4     ...   포수   3.0   3.0  0.176  0.300  0.176  0.476    2018   47.0  0.691  \n",
       "...   ...  ...   ...   ...    ...    ...    ...    ...     ...    ...    ...  \n",
       "1908  ...  3루수  93.0  59.0  0.301  0.374  0.493  0.867    2019  395.0  0.768  \n",
       "1909  ...  우익수  44.0  28.0  0.272  0.365  0.319  0.684    2018   13.0  0.154  \n",
       "1910  ...  우익수   1.0   0.0  0.077  0.077  0.077  0.154    2019  188.0  0.720  \n",
       "1911  ...  3루수  57.0  16.0  0.312  0.344  0.505  0.849    2016  523.0  0.889  \n",
       "1912  ...  3루수  99.0  49.0  0.308  0.363  0.526  0.889    2017  181.0  0.769  \n",
       "\n",
       "[1913 rows x 37 columns]"
      ]
     },
     "execution_count": 2,
     "metadata": {},
     "output_type": "execute_result"
    }
   ],
   "source": [
    "df = pd.read_csv('./data/kbo.csv', encoding='utf-8-sig')\n",
    "df"
   ]
  },
  {
   "cell_type": "code",
   "execution_count": 3,
   "id": "69d2766d",
   "metadata": {
    "ExecuteTime": {
     "end_time": "2021-11-24T11:24:35.777819Z",
     "start_time": "2021-11-24T11:24:35.764765Z"
    },
    "scrolled": true
   },
   "outputs": [
    {
     "data": {
      "text/plain": [
       "batter_name     0\n",
       "age             0\n",
       "G               0\n",
       "PA              0\n",
       "AB              0\n",
       "R               0\n",
       "H               0\n",
       "2B              0\n",
       "3B              0\n",
       "HR              0\n",
       "TB              0\n",
       "RBI             0\n",
       "SB              0\n",
       "CS              0\n",
       "BB              0\n",
       "HBP             0\n",
       "GB              0\n",
       "SO              0\n",
       "GDP             0\n",
       "BU              0\n",
       "fly             0\n",
       "year            0\n",
       "salary          0\n",
       "war             0\n",
       "year_born       0\n",
       "hand2           0\n",
       "cp              0\n",
       "tp              0\n",
       "1B              0\n",
       "FBP             0\n",
       "avg            14\n",
       "OBP            12\n",
       "SLG            14\n",
       "OPS            14\n",
       "p_year          0\n",
       "YAB             0\n",
       "YOPS           15\n",
       "dtype: int64"
      ]
     },
     "execution_count": 3,
     "metadata": {},
     "output_type": "execute_result"
    }
   ],
   "source": [
    "df.isnull().sum()"
   ]
  },
  {
   "cell_type": "code",
   "execution_count": 4,
   "id": "90d8cf3c",
   "metadata": {
    "ExecuteTime": {
     "end_time": "2021-11-24T11:24:35.792765Z",
     "start_time": "2021-11-24T11:24:35.779763Z"
    }
   },
   "outputs": [],
   "source": [
    "df = df.dropna(axis = 0)"
   ]
  },
  {
   "cell_type": "code",
   "execution_count": 5,
   "id": "a8a95c8d",
   "metadata": {
    "ExecuteTime": {
     "end_time": "2021-11-24T11:24:35.807857Z",
     "start_time": "2021-11-24T11:24:35.793815Z"
    }
   },
   "outputs": [
    {
     "data": {
      "text/plain": [
       "Index(['batter_name', 'age', 'G', 'PA', 'AB', 'R', 'H', '2B', '3B', 'HR', 'TB',\n",
       "       'RBI', 'SB', 'CS', 'BB', 'HBP', 'GB', 'SO', 'GDP', 'BU', 'fly', 'year',\n",
       "       'salary', 'war', 'year_born', 'hand2', 'cp', 'tp', '1B', 'FBP', 'avg',\n",
       "       'OBP', 'SLG', 'OPS', 'p_year', 'YAB', 'YOPS'],\n",
       "      dtype='object')"
      ]
     },
     "execution_count": 5,
     "metadata": {},
     "output_type": "execute_result"
    }
   ],
   "source": [
    "df.columns"
   ]
  },
  {
   "cell_type": "code",
   "execution_count": null,
   "id": "16d8cd5b",
   "metadata": {},
   "outputs": [],
   "source": []
  },
  {
   "cell_type": "code",
   "execution_count": 6,
   "id": "4d69b9b2",
   "metadata": {
    "ExecuteTime": {
     "end_time": "2021-11-24T11:24:35.822813Z",
     "start_time": "2021-11-24T11:24:35.809809Z"
    }
   },
   "outputs": [],
   "source": [
    "X = df.drop(['batter_name','age','PA','GB','SO','GDP','BU','year','war',\n",
    "             'year_born','hand2','cp','tp','FBP','p_year','YAB','YOPS'], axis=1)\n",
    "y = df[['war']]"
   ]
  },
  {
   "cell_type": "code",
   "execution_count": 14,
   "id": "958cc7e6",
   "metadata": {
    "ExecuteTime": {
     "end_time": "2021-11-24T11:24:47.411742Z",
     "start_time": "2021-11-24T11:24:47.382453Z"
    }
   },
   "outputs": [
    {
     "data": {
      "text/html": [
       "<div>\n",
       "<style scoped>\n",
       "    .dataframe tbody tr th:only-of-type {\n",
       "        vertical-align: middle;\n",
       "    }\n",
       "\n",
       "    .dataframe tbody tr th {\n",
       "        vertical-align: top;\n",
       "    }\n",
       "\n",
       "    .dataframe thead th {\n",
       "        text-align: right;\n",
       "    }\n",
       "</style>\n",
       "<table border=\"1\" class=\"dataframe\">\n",
       "  <thead>\n",
       "    <tr style=\"text-align: right;\">\n",
       "      <th></th>\n",
       "      <th>G</th>\n",
       "      <th>AB</th>\n",
       "      <th>R</th>\n",
       "      <th>H</th>\n",
       "      <th>2B</th>\n",
       "      <th>3B</th>\n",
       "      <th>HR</th>\n",
       "      <th>TB</th>\n",
       "      <th>RBI</th>\n",
       "      <th>SB</th>\n",
       "      <th>CS</th>\n",
       "      <th>BB</th>\n",
       "      <th>HBP</th>\n",
       "      <th>fly</th>\n",
       "      <th>salary</th>\n",
       "      <th>1B</th>\n",
       "      <th>avg</th>\n",
       "      <th>OBP</th>\n",
       "      <th>SLG</th>\n",
       "      <th>OPS</th>\n",
       "    </tr>\n",
       "  </thead>\n",
       "  <tbody>\n",
       "    <tr>\n",
       "      <th>0</th>\n",
       "      <td>26.0</td>\n",
       "      <td>52.0</td>\n",
       "      <td>4.0</td>\n",
       "      <td>9.0</td>\n",
       "      <td>4.0</td>\n",
       "      <td>0.0</td>\n",
       "      <td>0.0</td>\n",
       "      <td>13.0</td>\n",
       "      <td>3.0</td>\n",
       "      <td>0.0</td>\n",
       "      <td>0.0</td>\n",
       "      <td>6.0</td>\n",
       "      <td>0.0</td>\n",
       "      <td>0.0</td>\n",
       "      <td>2500</td>\n",
       "      <td>5.0</td>\n",
       "      <td>0.173</td>\n",
       "      <td>0.259</td>\n",
       "      <td>0.250</td>\n",
       "      <td>0.509</td>\n",
       "    </tr>\n",
       "    <tr>\n",
       "      <th>1</th>\n",
       "      <td>47.0</td>\n",
       "      <td>79.0</td>\n",
       "      <td>8.0</td>\n",
       "      <td>14.0</td>\n",
       "      <td>2.0</td>\n",
       "      <td>0.0</td>\n",
       "      <td>4.0</td>\n",
       "      <td>28.0</td>\n",
       "      <td>10.0</td>\n",
       "      <td>0.0</td>\n",
       "      <td>0.0</td>\n",
       "      <td>5.0</td>\n",
       "      <td>0.0</td>\n",
       "      <td>0.0</td>\n",
       "      <td>2900</td>\n",
       "      <td>8.0</td>\n",
       "      <td>0.177</td>\n",
       "      <td>0.226</td>\n",
       "      <td>0.354</td>\n",
       "      <td>0.580</td>\n",
       "    </tr>\n",
       "    <tr>\n",
       "      <th>2</th>\n",
       "      <td>65.0</td>\n",
       "      <td>154.0</td>\n",
       "      <td>22.0</td>\n",
       "      <td>36.0</td>\n",
       "      <td>6.0</td>\n",
       "      <td>0.0</td>\n",
       "      <td>10.0</td>\n",
       "      <td>72.0</td>\n",
       "      <td>30.0</td>\n",
       "      <td>3.0</td>\n",
       "      <td>1.0</td>\n",
       "      <td>19.0</td>\n",
       "      <td>1.0</td>\n",
       "      <td>3.0</td>\n",
       "      <td>6000</td>\n",
       "      <td>20.0</td>\n",
       "      <td>0.234</td>\n",
       "      <td>0.316</td>\n",
       "      <td>0.468</td>\n",
       "      <td>0.784</td>\n",
       "    </tr>\n",
       "    <tr>\n",
       "      <th>3</th>\n",
       "      <td>80.0</td>\n",
       "      <td>174.0</td>\n",
       "      <td>12.0</td>\n",
       "      <td>34.0</td>\n",
       "      <td>7.0</td>\n",
       "      <td>0.0</td>\n",
       "      <td>4.0</td>\n",
       "      <td>53.0</td>\n",
       "      <td>15.0</td>\n",
       "      <td>2.0</td>\n",
       "      <td>1.0</td>\n",
       "      <td>19.0</td>\n",
       "      <td>1.0</td>\n",
       "      <td>2.0</td>\n",
       "      <td>6000</td>\n",
       "      <td>23.0</td>\n",
       "      <td>0.195</td>\n",
       "      <td>0.276</td>\n",
       "      <td>0.305</td>\n",
       "      <td>0.581</td>\n",
       "    </tr>\n",
       "    <tr>\n",
       "      <th>4</th>\n",
       "      <td>15.0</td>\n",
       "      <td>17.0</td>\n",
       "      <td>2.0</td>\n",
       "      <td>3.0</td>\n",
       "      <td>0.0</td>\n",
       "      <td>0.0</td>\n",
       "      <td>0.0</td>\n",
       "      <td>3.0</td>\n",
       "      <td>1.0</td>\n",
       "      <td>0.0</td>\n",
       "      <td>0.0</td>\n",
       "      <td>3.0</td>\n",
       "      <td>0.0</td>\n",
       "      <td>0.0</td>\n",
       "      <td>5500</td>\n",
       "      <td>3.0</td>\n",
       "      <td>0.176</td>\n",
       "      <td>0.300</td>\n",
       "      <td>0.176</td>\n",
       "      <td>0.476</td>\n",
       "    </tr>\n",
       "    <tr>\n",
       "      <th>...</th>\n",
       "      <td>...</td>\n",
       "      <td>...</td>\n",
       "      <td>...</td>\n",
       "      <td>...</td>\n",
       "      <td>...</td>\n",
       "      <td>...</td>\n",
       "      <td>...</td>\n",
       "      <td>...</td>\n",
       "      <td>...</td>\n",
       "      <td>...</td>\n",
       "      <td>...</td>\n",
       "      <td>...</td>\n",
       "      <td>...</td>\n",
       "      <td>...</td>\n",
       "      <td>...</td>\n",
       "      <td>...</td>\n",
       "      <td>...</td>\n",
       "      <td>...</td>\n",
       "      <td>...</td>\n",
       "      <td>...</td>\n",
       "    </tr>\n",
       "    <tr>\n",
       "      <th>1908</th>\n",
       "      <td>128.0</td>\n",
       "      <td>479.0</td>\n",
       "      <td>74.0</td>\n",
       "      <td>144.0</td>\n",
       "      <td>30.0</td>\n",
       "      <td>1.0</td>\n",
       "      <td>20.0</td>\n",
       "      <td>236.0</td>\n",
       "      <td>93.0</td>\n",
       "      <td>2.0</td>\n",
       "      <td>1.0</td>\n",
       "      <td>52.0</td>\n",
       "      <td>7.0</td>\n",
       "      <td>5.0</td>\n",
       "      <td>30000</td>\n",
       "      <td>93.0</td>\n",
       "      <td>0.301</td>\n",
       "      <td>0.374</td>\n",
       "      <td>0.493</td>\n",
       "      <td>0.867</td>\n",
       "    </tr>\n",
       "    <tr>\n",
       "      <th>1909</th>\n",
       "      <td>68.0</td>\n",
       "      <td>191.0</td>\n",
       "      <td>34.0</td>\n",
       "      <td>52.0</td>\n",
       "      <td>7.0</td>\n",
       "      <td>1.0</td>\n",
       "      <td>0.0</td>\n",
       "      <td>61.0</td>\n",
       "      <td>10.0</td>\n",
       "      <td>11.0</td>\n",
       "      <td>2.0</td>\n",
       "      <td>25.0</td>\n",
       "      <td>3.0</td>\n",
       "      <td>0.0</td>\n",
       "      <td>3100</td>\n",
       "      <td>44.0</td>\n",
       "      <td>0.272</td>\n",
       "      <td>0.365</td>\n",
       "      <td>0.319</td>\n",
       "      <td>0.684</td>\n",
       "    </tr>\n",
       "    <tr>\n",
       "      <th>1910</th>\n",
       "      <td>16.0</td>\n",
       "      <td>13.0</td>\n",
       "      <td>4.0</td>\n",
       "      <td>1.0</td>\n",
       "      <td>0.0</td>\n",
       "      <td>0.0</td>\n",
       "      <td>0.0</td>\n",
       "      <td>1.0</td>\n",
       "      <td>0.0</td>\n",
       "      <td>0.0</td>\n",
       "      <td>1.0</td>\n",
       "      <td>0.0</td>\n",
       "      <td>0.0</td>\n",
       "      <td>0.0</td>\n",
       "      <td>6200</td>\n",
       "      <td>1.0</td>\n",
       "      <td>0.077</td>\n",
       "      <td>0.077</td>\n",
       "      <td>0.077</td>\n",
       "      <td>0.154</td>\n",
       "    </tr>\n",
       "    <tr>\n",
       "      <th>1911</th>\n",
       "      <td>70.0</td>\n",
       "      <td>279.0</td>\n",
       "      <td>37.0</td>\n",
       "      <td>87.0</td>\n",
       "      <td>17.0</td>\n",
       "      <td>2.0</td>\n",
       "      <td>11.0</td>\n",
       "      <td>141.0</td>\n",
       "      <td>46.0</td>\n",
       "      <td>8.0</td>\n",
       "      <td>2.0</td>\n",
       "      <td>12.0</td>\n",
       "      <td>4.0</td>\n",
       "      <td>4.0</td>\n",
       "      <td>50000</td>\n",
       "      <td>57.0</td>\n",
       "      <td>0.312</td>\n",
       "      <td>0.344</td>\n",
       "      <td>0.505</td>\n",
       "      <td>0.849</td>\n",
       "    </tr>\n",
       "    <tr>\n",
       "      <th>1912</th>\n",
       "      <td>135.0</td>\n",
       "      <td>523.0</td>\n",
       "      <td>101.0</td>\n",
       "      <td>161.0</td>\n",
       "      <td>36.0</td>\n",
       "      <td>0.0</td>\n",
       "      <td>26.0</td>\n",
       "      <td>275.0</td>\n",
       "      <td>102.0</td>\n",
       "      <td>18.0</td>\n",
       "      <td>9.0</td>\n",
       "      <td>39.0</td>\n",
       "      <td>10.0</td>\n",
       "      <td>6.0</td>\n",
       "      <td>50000</td>\n",
       "      <td>99.0</td>\n",
       "      <td>0.308</td>\n",
       "      <td>0.363</td>\n",
       "      <td>0.526</td>\n",
       "      <td>0.889</td>\n",
       "    </tr>\n",
       "  </tbody>\n",
       "</table>\n",
       "<p>1885 rows × 20 columns</p>\n",
       "</div>"
      ],
      "text/plain": [
       "          G     AB      R      H    2B   3B    HR     TB    RBI    SB   CS  \\\n",
       "0      26.0   52.0    4.0    9.0   4.0  0.0   0.0   13.0    3.0   0.0  0.0   \n",
       "1      47.0   79.0    8.0   14.0   2.0  0.0   4.0   28.0   10.0   0.0  0.0   \n",
       "2      65.0  154.0   22.0   36.0   6.0  0.0  10.0   72.0   30.0   3.0  1.0   \n",
       "3      80.0  174.0   12.0   34.0   7.0  0.0   4.0   53.0   15.0   2.0  1.0   \n",
       "4      15.0   17.0    2.0    3.0   0.0  0.0   0.0    3.0    1.0   0.0  0.0   \n",
       "...     ...    ...    ...    ...   ...  ...   ...    ...    ...   ...  ...   \n",
       "1908  128.0  479.0   74.0  144.0  30.0  1.0  20.0  236.0   93.0   2.0  1.0   \n",
       "1909   68.0  191.0   34.0   52.0   7.0  1.0   0.0   61.0   10.0  11.0  2.0   \n",
       "1910   16.0   13.0    4.0    1.0   0.0  0.0   0.0    1.0    0.0   0.0  1.0   \n",
       "1911   70.0  279.0   37.0   87.0  17.0  2.0  11.0  141.0   46.0   8.0  2.0   \n",
       "1912  135.0  523.0  101.0  161.0  36.0  0.0  26.0  275.0  102.0  18.0  9.0   \n",
       "\n",
       "        BB   HBP  fly  salary    1B    avg    OBP    SLG    OPS  \n",
       "0      6.0   0.0  0.0    2500   5.0  0.173  0.259  0.250  0.509  \n",
       "1      5.0   0.0  0.0    2900   8.0  0.177  0.226  0.354  0.580  \n",
       "2     19.0   1.0  3.0    6000  20.0  0.234  0.316  0.468  0.784  \n",
       "3     19.0   1.0  2.0    6000  23.0  0.195  0.276  0.305  0.581  \n",
       "4      3.0   0.0  0.0    5500   3.0  0.176  0.300  0.176  0.476  \n",
       "...    ...   ...  ...     ...   ...    ...    ...    ...    ...  \n",
       "1908  52.0   7.0  5.0   30000  93.0  0.301  0.374  0.493  0.867  \n",
       "1909  25.0   3.0  0.0    3100  44.0  0.272  0.365  0.319  0.684  \n",
       "1910   0.0   0.0  0.0    6200   1.0  0.077  0.077  0.077  0.154  \n",
       "1911  12.0   4.0  4.0   50000  57.0  0.312  0.344  0.505  0.849  \n",
       "1912  39.0  10.0  6.0   50000  99.0  0.308  0.363  0.526  0.889  \n",
       "\n",
       "[1885 rows x 20 columns]"
      ]
     },
     "execution_count": 14,
     "metadata": {},
     "output_type": "execute_result"
    }
   ],
   "source": [
    "X"
   ]
  },
  {
   "cell_type": "code",
   "execution_count": 7,
   "id": "101b9302",
   "metadata": {
    "ExecuteTime": {
     "end_time": "2021-11-24T11:24:36.365549Z",
     "start_time": "2021-11-24T11:24:35.824772Z"
    }
   },
   "outputs": [],
   "source": [
    "from sklearn.model_selection import train_test_split\n",
    "X_train, X_test, y_train, y_test = train_test_split(X,y, test_size=0.3, random_state=0)"
   ]
  },
  {
   "cell_type": "markdown",
   "id": "ceac7f15",
   "metadata": {},
   "source": [
    "## 모델 적합"
   ]
  },
  {
   "cell_type": "code",
   "execution_count": 8,
   "id": "1860cebc",
   "metadata": {
    "ExecuteTime": {
     "end_time": "2021-11-24T11:24:36.425088Z",
     "start_time": "2021-11-24T11:24:36.366551Z"
    }
   },
   "outputs": [
    {
     "data": {
      "text/plain": [
       "LinearRegression()"
      ]
     },
     "execution_count": 8,
     "metadata": {},
     "output_type": "execute_result"
    }
   ],
   "source": [
    "from sklearn.linear_model import LinearRegression\n",
    "\n",
    "mlr = LinearRegression()\n",
    "mlr.fit(X_train, y_train)"
   ]
  },
  {
   "cell_type": "markdown",
   "id": "56ba7d20",
   "metadata": {},
   "source": [
    "## 회귀모형을 통한 예측"
   ]
  },
  {
   "cell_type": "code",
   "execution_count": 9,
   "id": "ba8e3c76",
   "metadata": {
    "ExecuteTime": {
     "end_time": "2021-11-24T11:24:36.440207Z",
     "start_time": "2021-11-24T11:24:36.427015Z"
    }
   },
   "outputs": [
    {
     "data": {
      "text/plain": [
       "Index(['G', 'AB', 'R', 'H', '2B', '3B', 'HR', 'TB', 'RBI', 'SB', 'CS', 'BB',\n",
       "       'HBP', 'fly', 'salary', '1B', 'avg', 'OBP', 'SLG', 'OPS'],\n",
       "      dtype='object')"
      ]
     },
     "execution_count": 9,
     "metadata": {},
     "output_type": "execute_result"
    }
   ],
   "source": [
    "X.columns"
   ]
  },
  {
   "cell_type": "code",
   "execution_count": 10,
   "id": "9965a6da",
   "metadata": {
    "ExecuteTime": {
     "end_time": "2021-11-24T11:24:36.802537Z",
     "start_time": "2021-11-24T11:24:36.442207Z"
    }
   },
   "outputs": [
    {
     "data": {
      "image/png": "[encoded data removed]",
      "text/plain": [
       "<Figure size 432x288 with 1 Axes>"
      ]
     },
     "metadata": {
      "needs_background": "light"
     },
     "output_type": "display_data"
    }
   ],
   "source": [
    "y_pred = mlr.predict(X_test)\n",
    "import matplotlib.pyplot as plt\n",
    "plt.scatter(y_test, y_pred, alpha = 0.3)\n",
    "plt.show()"
   ]
  },
  {
   "cell_type": "markdown",
   "id": "eedce6f3",
   "metadata": {},
   "source": [
    "## 회귀계수"
   ]
  },
  {
   "cell_type": "code",
   "execution_count": 11,
   "id": "5d918889",
   "metadata": {
    "ExecuteTime": {
     "end_time": "2021-11-24T11:24:36.817564Z",
     "start_time": "2021-11-24T11:24:36.804467Z"
    }
   },
   "outputs": [
    {
     "name": "stdout",
     "output_type": "stream",
     "text": [
      "[[-4.35540641e-03 -1.70027802e-02 -1.08431511e-02  2.25157814e-02\n",
      "   7.19961189e-03  1.52897544e-02 -9.81486392e-03  3.08503102e-02\n",
      "  -5.51555771e-03  2.99045134e-02 -2.22120484e-02  3.78208102e-02\n",
      "   5.62049013e-02  6.67487674e-03 -6.32686286e-06  9.84127902e-03\n",
      "   2.41947688e-01 -2.25217111e-01  1.33362509e-01 -9.18546020e-02]]\n",
      "[0.02969761]\n"
     ]
    }
   ],
   "source": [
    "print(mlr.coef_)\n",
    "print(mlr.intercept_)"
   ]
  },
  {
   "cell_type": "markdown",
   "id": "c96827ad",
   "metadata": {},
   "source": [
    "## 성능평가"
   ]
  },
  {
   "cell_type": "code",
   "execution_count": 12,
   "id": "4ca30141",
   "metadata": {
    "ExecuteTime": {
     "end_time": "2021-11-24T11:24:36.832821Z",
     "start_time": "2021-11-24T11:24:36.819522Z"
    }
   },
   "outputs": [],
   "source": [
    "from sklearn.metrics import mean_squared_error, mean_absolute_error, r2_score"
   ]
  },
  {
   "cell_type": "code",
   "execution_count": 13,
   "id": "380c034d",
   "metadata": {
    "ExecuteTime": {
     "end_time": "2021-11-24T11:24:36.847827Z",
     "start_time": "2021-11-24T11:24:36.834828Z"
    }
   },
   "outputs": [
    {
     "name": "stdout",
     "output_type": "stream",
     "text": [
      "MAE : 0.41\n",
      "MSE : 0.37\n",
      "RMSE : 0.60\n",
      "R2 : 0.88\n"
     ]
    }
   ],
   "source": [
    "mae = mean_absolute_error(y_test, y_pred)\n",
    "mse = mean_squared_error(y_test, y_pred)\n",
    "rmse = mse ** 0.5\n",
    "r2 = r2_score(y_test, y_pred)\n",
    "print('MAE : %.2f'%mae)\n",
    "print('MSE : %.2f'%mse)\n",
    "print('RMSE : %.2f'%rmse)\n",
    "print('R2 : %.2f'%r2)"
   ]
  },
  {
   "cell_type": "markdown",
   "id": "bf2c7e57",
   "metadata": {},
   "source": [
    "- 예측값과 실제값의 차이가 적으며 88%정도의 설명력을 나타내고 있다."
   ]
  },
  {
   "cell_type": "code",
   "execution_count": null,
   "id": "15df2e43",
   "metadata": {},
   "outputs": [],
   "source": []
  },
  {
   "cell_type": "code",
   "execution_count": null,
   "id": "57710ce1",
   "metadata": {},
   "outputs": [],
   "source": []
  }
 ],
 "metadata": {
  "kernelspec": {
   "display_name": "Python 3 (ipykernel)",
   "language": "python",
   "name": "python3"
  },
  "language_info": {
   "codemirror_mode": {
    "name": "ipython",
    "version": 3
   },
   "file_extension": ".py",
   "mimetype": "text/x-python",
   "name": "python",
   "nbconvert_exporter": "python",
   "pygments_lexer": "ipython3",
   "version": "3.8.8"
  },
  "toc": {
   "base_numbering": 1,
   "nav_menu": {},
   "number_sections": true,
   "sideBar": true,
   "skip_h1_title": false,
   "title_cell": "Table of Contents",
   "title_sidebar": "Contents",
   "toc_cell": false,
   "toc_position": {},
   "toc_section_display": true,
   "toc_window_display": false
  }
 },
 "nbformat": 4,
 "nbformat_minor": 5
}
