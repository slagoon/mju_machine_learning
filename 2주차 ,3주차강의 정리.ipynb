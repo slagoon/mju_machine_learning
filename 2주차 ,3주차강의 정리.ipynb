{
 "cells": [
  {
   "cell_type": "code",
   "execution_count": 1,
   "id": "8e7ad4a5",
   "metadata": {
    "ExecuteTime": {
     "end_time": "2021-10-12T16:19:07.785638Z",
     "start_time": "2021-10-12T16:19:07.759533Z"
    }
   },
   "outputs": [],
   "source": [
    "a = 4.2e10"
   ]
  },
  {
   "cell_type": "code",
   "execution_count": 2,
   "id": "02d9d904",
   "metadata": {
    "ExecuteTime": {
     "end_time": "2021-10-12T16:19:14.741359Z",
     "start_time": "2021-10-12T16:19:14.717441Z"
    }
   },
   "outputs": [
    {
     "name": "stdout",
     "output_type": "stream",
     "text": [
      "42000000000.0\n"
     ]
    }
   ],
   "source": [
    "print(a)"
   ]
  },
  {
   "cell_type": "code",
   "execution_count": 3,
   "id": "40759d96",
   "metadata": {
    "ExecuteTime": {
     "end_time": "2021-10-12T16:19:27.643195Z",
     "start_time": "2021-10-12T16:19:27.624856Z"
    }
   },
   "outputs": [],
   "source": [
    "b = 4.2e-10"
   ]
  },
  {
   "cell_type": "code",
   "execution_count": 4,
   "id": "bb0714ea",
   "metadata": {
    "ExecuteTime": {
     "end_time": "2021-10-12T16:19:30.182410Z",
     "start_time": "2021-10-12T16:19:30.171618Z"
    }
   },
   "outputs": [
    {
     "name": "stdout",
     "output_type": "stream",
     "text": [
      "4.2e-10\n"
     ]
    }
   ],
   "source": [
    "print(b)"
   ]
  },
  {
   "cell_type": "code",
   "execution_count": 1,
   "id": "3d7a3b84",
   "metadata": {
    "ExecuteTime": {
     "end_time": "2021-10-13T11:37:23.197721Z",
     "start_time": "2021-10-13T11:37:23.181736Z"
    }
   },
   "outputs": [
    {
     "name": "stdout",
     "output_type": "stream",
     "text": [
      "Life is too short\n",
      "You need python\n"
     ]
    }
   ],
   "source": [
    "multi_line = 'Life is too short\\nYou need python'\n",
    "print(multi_line)"
   ]
  },
  {
   "cell_type": "code",
   "execution_count": 2,
   "id": "36b48ee9",
   "metadata": {
    "ExecuteTime": {
     "end_time": "2021-10-13T11:39:09.476439Z",
     "start_time": "2021-10-13T11:39:09.471487Z"
    }
   },
   "outputs": [
    {
     "name": "stdout",
     "output_type": "stream",
     "text": [
      "Python's favorite food is perl\n"
     ]
    }
   ],
   "source": [
    "double = \"Python\\'s favorite food is perl\"\n",
    "print(double)"
   ]
  },
  {
   "cell_type": "code",
   "execution_count": 3,
   "id": "94f09fb1",
   "metadata": {
    "ExecuteTime": {
     "end_time": "2021-10-13T11:39:53.473766Z",
     "start_time": "2021-10-13T11:39:53.457587Z"
    }
   },
   "outputs": [
    {
     "name": "stdout",
     "output_type": "stream",
     "text": [
      "\"Python is very easy.\"he says\n"
     ]
    }
   ],
   "source": [
    "single = '\"Python is very easy.\"he says'\n",
    "print(single)"
   ]
  },
  {
   "cell_type": "code",
   "execution_count": 4,
   "id": "5e376c60",
   "metadata": {
    "ExecuteTime": {
     "end_time": "2021-10-13T11:42:35.912957Z",
     "start_time": "2021-10-13T11:42:35.905959Z"
    }
   },
   "outputs": [
    {
     "name": "stdout",
     "output_type": "stream",
     "text": [
      "P\n",
      "y\n",
      " \n",
      "u\n",
      "n\n"
     ]
    }
   ],
   "source": [
    "sent = \"Python is fun\"\n",
    "print(sent[0])\n",
    "print(sent[1])\n",
    "print(sent[6])\n",
    "print(sent[-2])\n",
    "print(sent[-1])"
   ]
  },
  {
   "cell_type": "code",
   "execution_count": 6,
   "id": "fbad2b78",
   "metadata": {
    "ExecuteTime": {
     "end_time": "2021-10-13T11:44:06.152683Z",
     "start_time": "2021-10-13T11:44:06.134687Z"
    }
   },
   "outputs": [
    {
     "name": "stdout",
     "output_type": "stream",
     "text": [
      "is fun\n",
      "fun\n",
      "Python is fun\n",
      "Python\n"
     ]
    }
   ],
   "source": [
    "print(sent[7:])\n",
    "print(sent[10:13])\n",
    "print(sent[:])\n",
    "print(sent[:6])"
   ]
  },
  {
   "cell_type": "code",
   "execution_count": 9,
   "id": "8e5ec68b",
   "metadata": {
    "ExecuteTime": {
     "end_time": "2021-10-13T11:52:31.910569Z",
     "start_time": "2021-10-13T11:52:31.895813Z"
    }
   },
   "outputs": [
    {
     "name": "stdout",
     "output_type": "stream",
     "text": [
      "2018\n",
      "0302\n",
      "Rainy\n"
     ]
    }
   ],
   "source": [
    "a = '20180302Rainy'\n",
    "year = a[:4]\n",
    "day = a[4:8]\n",
    "weather = a[-5:]\n",
    "print(year)\n",
    "print(day)\n",
    "print(weather)"
   ]
  },
  {
   "cell_type": "code",
   "execution_count": 10,
   "id": "828ef360",
   "metadata": {
    "ExecuteTime": {
     "end_time": "2021-10-13T12:08:30.833623Z",
     "start_time": "2021-10-13T12:08:30.818455Z"
    }
   },
   "outputs": [
    {
     "data": {
      "text/plain": [
       "['010', '6576', '5246']"
      ]
     },
     "execution_count": 10,
     "metadata": {},
     "output_type": "execute_result"
    }
   ],
   "source": [
    "phone = '010-6576-5246'\n",
    "phone.split('-')\n"
   ]
  },
  {
   "cell_type": "code",
   "execution_count": 11,
   "id": "fb0016b0",
   "metadata": {
    "ExecuteTime": {
     "end_time": "2021-10-13T12:09:42.855202Z",
     "start_time": "2021-10-13T12:09:42.842684Z"
    }
   },
   "outputs": [
    {
     "data": {
      "text/plain": [
       "[3, ['a', 'b', 'c'], 4]"
      ]
     },
     "execution_count": 11,
     "metadata": {},
     "output_type": "execute_result"
    }
   ],
   "source": [
    "a= [1,2,3,['a','b','c'],4,5]\n",
    "a[2:5]"
   ]
  },
  {
   "cell_type": "code",
   "execution_count": 15,
   "id": "f402b3f7",
   "metadata": {
    "ExecuteTime": {
     "end_time": "2021-10-13T12:15:08.356748Z",
     "start_time": "2021-10-13T12:15:08.337464Z"
    }
   },
   "outputs": [
    {
     "name": "stdout",
     "output_type": "stream",
     "text": [
      "dict_keys(['name', 'phone', 'birth'])\n",
      "dict_values(['pey', '0119993323', '1118'])\n",
      "dict_items([('name', 'pey'), ('phone', '0119993323'), ('birth', '1118')])\n"
     ]
    }
   ],
   "source": [
    "a = {'name': 'pey', 'phone': '0119993323', 'birth': '1118'}\n",
    "print(a.keys()) # 딕셔너리 키값 도출\n",
    "print(a.values()) # 딕셔너리 벨류값 도출\n",
    "print(a.items()) # 딕셔너리 키와 벨류값 쌍으로 도출"
   ]
  },
  {
   "cell_type": "code",
   "execution_count": 18,
   "id": "1c528e58",
   "metadata": {
    "ExecuteTime": {
     "end_time": "2021-10-13T12:23:48.925670Z",
     "start_time": "2021-10-13T12:23:48.911930Z"
    }
   },
   "outputs": [
    {
     "name": "stdout",
     "output_type": "stream",
     "text": [
      "정상 리뷰입니다.\n"
     ]
    }
   ],
   "source": [
    "review = '이 강의가 제일 좋아'\n",
    "a = review.split()\n",
    "if len(review.split()) >= 2:\n",
    "    print('정상 리뷰입니다.')\n",
    "else:\n",
    "    printnt('비정상 리뷰 입니다')"
   ]
  },
  {
   "cell_type": "code",
   "execution_count": 19,
   "id": "ce3ba1f5",
   "metadata": {
    "ExecuteTime": {
     "end_time": "2021-10-13T12:26:31.690975Z",
     "start_time": "2021-10-13T12:26:31.677881Z"
    }
   },
   "outputs": [
    {
     "name": "stdout",
     "output_type": "stream",
     "text": [
      "택시를 타고 가라\n"
     ]
    }
   ],
   "source": [
    "money = 2000\n",
    "watch = 1\n",
    "if money >= 3000 or watch >=1:\n",
    "    print('택시를 타고 가라')\n",
    "else:\n",
    "    print('걸어가라')"
   ]
  },
  {
   "cell_type": "code",
   "execution_count": 27,
   "id": "2d721ab3",
   "metadata": {
    "ExecuteTime": {
     "end_time": "2021-10-13T12:34:50.171604Z",
     "start_time": "2021-10-13T12:34:50.157187Z"
    }
   },
   "outputs": [
    {
     "name": "stdout",
     "output_type": "stream",
     "text": [
      "이 강의 너무 즐거워\n"
     ]
    }
   ],
   "source": [
    "review = '이 수업 너무 지겨워'\n",
    "if '수업' in review:\n",
    "    review = review.replace('수업','강의')\n",
    "if '지겨워' in review:\n",
    "    review = review.replace('지겨워','즐거워')\n",
    "print(review)"
   ]
  },
  {
   "cell_type": "code",
   "execution_count": 21,
   "id": "f2a5198a",
   "metadata": {
    "ExecuteTime": {
     "end_time": "2021-10-13T12:32:50.097900Z",
     "start_time": "2021-10-13T12:32:50.085763Z"
    }
   },
   "outputs": [
    {
     "data": {
      "text/plain": [
       "'이 수업 너무 지겨워'"
      ]
     },
     "execution_count": 21,
     "metadata": {},
     "output_type": "execute_result"
    }
   ],
   "source": [
    "review"
   ]
  },
  {
   "cell_type": "code",
   "execution_count": 36,
   "id": "b3699d8c",
   "metadata": {
    "ExecuteTime": {
     "end_time": "2021-10-13T13:01:11.615002Z",
     "start_time": "2021-10-13T13:01:11.598815Z"
    }
   },
   "outputs": [
    {
     "name": "stdout",
     "output_type": "stream",
     "text": [
      "10\n",
      "20\n",
      "40\n",
      "50\n"
     ]
    }
   ],
   "source": [
    "a = 0\n",
    "while a<50:\n",
    "    a=a+10\n",
    "    if a % 3==0:\n",
    "        continue\n",
    "    print(a)"
   ]
  },
  {
   "cell_type": "code",
   "execution_count": 35,
   "id": "41be24c8",
   "metadata": {
    "ExecuteTime": {
     "end_time": "2021-10-13T13:00:37.747641Z",
     "start_time": "2021-10-13T13:00:37.728464Z"
    }
   },
   "outputs": [
    {
     "data": {
      "text/plain": [
       "20"
      ]
     },
     "execution_count": 35,
     "metadata": {},
     "output_type": "execute_result"
    }
   ],
   "source": [
    "a"
   ]
  },
  {
   "cell_type": "code",
   "execution_count": 38,
   "id": "9afab2c2",
   "metadata": {
    "ExecuteTime": {
     "end_time": "2021-10-13T13:02:03.776394Z",
     "start_time": "2021-10-13T13:02:03.755812Z"
    }
   },
   "outputs": [
    {
     "name": "stdout",
     "output_type": "stream",
     "text": [
      "one\n",
      "two\n",
      "three\n"
     ]
    }
   ],
   "source": [
    "test_list = ['one','two','three']\n",
    "\n",
    "for i in test_list:\n",
    "    print(i)"
   ]
  },
  {
   "cell_type": "code",
   "execution_count": 43,
   "id": "cf290e2b",
   "metadata": {
    "ExecuteTime": {
     "end_time": "2021-10-13T13:04:23.274889Z",
     "start_time": "2021-10-13T13:04:23.265779Z"
    }
   },
   "outputs": [
    {
     "name": "stdout",
     "output_type": "stream",
     "text": [
      "합격\n",
      "불합격\n",
      "합격\n",
      "불합격\n",
      "합격\n"
     ]
    }
   ],
   "source": [
    "marks = [90,25,67,45,80]\n",
    "\n",
    "number = 0\n",
    "for mark in marks:\n",
    "    number = number+1\n",
    "    if mark >=60:\n",
    "        print('합격')\n",
    "    else:\n",
    "        print('불합격')"
   ]
  },
  {
   "cell_type": "code",
   "execution_count": 45,
   "id": "7c04f024",
   "metadata": {
    "ExecuteTime": {
     "end_time": "2021-10-13T13:14:49.131732Z",
     "start_time": "2021-10-13T13:14:47.445620Z"
    }
   },
   "outputs": [
    {
     "name": "stdout",
     "output_type": "stream",
     "text": [
      "?5\n",
      "hi\n",
      "hi\n",
      "hi\n",
      "hi\n",
      "hi\n"
     ]
    }
   ],
   "source": [
    "a = int(input('?'))\n",
    "for i in range(a):\n",
    "    print('hi')"
   ]
  },
  {
   "cell_type": "code",
   "execution_count": 52,
   "id": "13775424",
   "metadata": {
    "ExecuteTime": {
     "end_time": "2021-10-13T13:18:46.919019Z",
     "start_time": "2021-10-13T13:18:46.898197Z"
    }
   },
   "outputs": [
    {
     "name": "stdout",
     "output_type": "stream",
     "text": [
      "no\n",
      "no\n",
      "no\n",
      "no\n",
      "no\n",
      "no\n"
     ]
    }
   ],
   "source": [
    "a = ['a','b','c','딸기','바나나','사과']\n",
    "for i in range(len(a)):\n",
    "    if i == '딸기':\n",
    "        print('yes')\n",
    "    else:\n",
    "        print('no')\n",
    "    i +=1"
   ]
  },
  {
   "cell_type": "code",
   "execution_count": 56,
   "id": "c7cbd590",
   "metadata": {
    "ExecuteTime": {
     "end_time": "2021-10-13T13:19:53.183443Z",
     "start_time": "2021-10-13T13:19:51.662213Z"
    }
   },
   "outputs": [
    {
     "name": "stdout",
     "output_type": "stream",
     "text": [
      "?5\n",
      "1\n",
      "2\n",
      "3\n",
      "4\n",
      "5\n"
     ]
    }
   ],
   "source": [
    "N = int(input('?'))\n",
    "a = 1\n",
    "while a < N+1:\n",
    "    print(a)\n",
    "    a+=1"
   ]
  },
  {
   "cell_type": "code",
   "execution_count": 60,
   "id": "5bffd4a2",
   "metadata": {
    "ExecuteTime": {
     "end_time": "2021-10-13T13:22:43.375200Z",
     "start_time": "2021-10-13T13:22:42.574516Z"
    }
   },
   "outputs": [
    {
     "name": "stdout",
     "output_type": "stream",
     "text": [
      "?3\n",
      "3 * 1 = 3\n",
      "3 * 2 = 6\n",
      "3 * 3 = 9\n",
      "3 * 4 = 12\n",
      "3 * 5 = 15\n",
      "3 * 6 = 18\n",
      "3 * 7 = 21\n",
      "3 * 8 = 24\n",
      "3 * 9 = 27\n"
     ]
    }
   ],
   "source": [
    "n = int(input(\"?\"))\n",
    "i = 0\n",
    "while i<9:\n",
    "    i +=1\n",
    "    print(n,'*',i,'=',n*i )"
   ]
  },
  {
   "cell_type": "code",
   "execution_count": 64,
   "id": "13855806",
   "metadata": {
    "ExecuteTime": {
     "end_time": "2021-10-13T13:28:24.071170Z",
     "start_time": "2021-10-13T13:28:24.059253Z"
    }
   },
   "outputs": [
    {
     "name": "stdout",
     "output_type": "stream",
     "text": [
      "1 2 3 4 5 6 7 8 9 \n",
      "2 4 6 8 10 12 14 16 18 \n",
      "3 6 9 12 15 18 21 24 27 \n",
      "4 8 12 16 20 24 28 32 36 \n",
      "5 10 15 20 25 30 35 40 45 \n",
      "6 12 18 24 30 36 42 48 54 \n",
      "7 14 21 28 35 42 49 56 63 \n",
      "8 16 24 32 40 48 56 64 72 \n",
      "9 18 27 36 45 54 63 72 81 \n"
     ]
    }
   ],
   "source": [
    "for i in range(1,10):\n",
    "    for j in range(1,10):\n",
    "        print(i*j, end =\" \")\n",
    "    print(\"\")"
   ]
  },
  {
   "cell_type": "code",
   "execution_count": 65,
   "id": "cab87bf0",
   "metadata": {
    "ExecuteTime": {
     "end_time": "2021-10-13T14:05:03.609631Z",
     "start_time": "2021-10-13T14:05:03.597017Z"
    }
   },
   "outputs": [],
   "source": [
    "def say_nick(nick):\n",
    "    if nick == '바보':\n",
    "        return\n",
    "    print('나이 별명은 %s 입니다.'% nick)"
   ]
  },
  {
   "cell_type": "code",
   "execution_count": 67,
   "id": "657c2fef",
   "metadata": {
    "ExecuteTime": {
     "end_time": "2021-10-13T14:05:29.704263Z",
     "start_time": "2021-10-13T14:05:29.696444Z"
    }
   },
   "outputs": [],
   "source": [
    "say_nick('바보')"
   ]
  },
  {
   "cell_type": "code",
   "execution_count": null,
   "id": "dcb9fa07",
   "metadata": {},
   "outputs": [],
   "source": []
  }
 ],
 "metadata": {
  "kernelspec": {
   "display_name": "Python 3 (ipykernel)",
   "language": "python",
   "name": "python3"
  },
  "language_info": {
   "codemirror_mode": {
    "name": "ipython",
    "version": 3
   },
   "file_extension": ".py",
   "mimetype": "text/x-python",
   "name": "python",
   "nbconvert_exporter": "python",
   "pygments_lexer": "ipython3",
   "version": "3.8.8"
  },
  "toc": {
   "base_numbering": 1,
   "nav_menu": {},
   "number_sections": true,
   "sideBar": true,
   "skip_h1_title": false,
   "title_cell": "Table of Contents",
   "title_sidebar": "Contents",
   "toc_cell": false,
   "toc_position": {},
   "toc_section_display": true,
   "toc_window_display": false
  }
 },
 "nbformat": 4,
 "nbformat_minor": 5
}
