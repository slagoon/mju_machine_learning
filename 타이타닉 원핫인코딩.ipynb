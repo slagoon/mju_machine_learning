{
 "cells": [
  {
   "cell_type": "code",
   "execution_count": null,
   "id": "36a29f9f",
   "metadata": {},
   "outputs": [],
   "source": []
  },
  {
   "cell_type": "code",
   "execution_count": 181,
   "id": "69fbc0fe",
   "metadata": {
    "ExecuteTime": {
     "end_time": "2021-11-18T09:06:49.181805Z",
     "start_time": "2021-11-18T09:06:49.176853Z"
    }
   },
   "outputs": [],
   "source": [
    "import pandas as pd\n",
    "import numpy as np\n",
    "from sklearn.preprocessing import OneHotEncoder\n",
    "\n",
    "from sklearn import model_selection\n",
    "from sklearn import metrics\n",
    "import matplotlib.pyplot as plt\n",
    "from sklearn import datasets\n",
    "from sklearn.tree import DecisionTreeClassifier\n",
    "from sklearn.model_selection import train_test_split\n",
    "from sklearn.metrics import classification_report, accuracy_score, confusion_matrix\n",
    "from sklearn.tree import DecisionTreeClassifier\n",
    "from matplotlib import pyplot\n",
    "import graphviz\n",
    "from sklearn.tree import export_graphviz\n",
    "import math"
   ]
  },
  {
   "cell_type": "markdown",
   "id": "50b38d73",
   "metadata": {},
   "source": [
    "# 단톡방 과제 2\n",
    "- 60171100 윤민혁\n",
    "- 타이타닉 데이터를 의사결정나무 모형으로 적합시키고 변수중요도를 구하시오"
   ]
  },
  {
   "cell_type": "code",
   "execution_count": 182,
   "id": "af119c08",
   "metadata": {
    "ExecuteTime": {
     "end_time": "2021-11-18T09:06:49.211826Z",
     "start_time": "2021-11-18T09:06:49.183808Z"
    }
   },
   "outputs": [
    {
     "data": {
      "text/plain": [
       "DecisionTreeClassifier(max_depth=3, random_state=0)"
      ]
     },
     "execution_count": 182,
     "metadata": {},
     "output_type": "execute_result"
    }
   ],
   "source": [
    "# 데이터 불러오기\n",
    "df = pd.read_csv('./data/titanic.csv', index_col=['PassengerId'])\n",
    "# 데이터 전처리\n",
    "df = df.drop({'Name','Ticket','Cabin','Embarked'}, axis = 1)\n",
    "df.Age.fillna(df.Age.median(), inplace = True)\n",
    "df['Sex'] = df.Sex.map({'female':0,'male':1})\n",
    "\n",
    "#input변수, output변수\n",
    "X = np.array(df.iloc[:,1:])\n",
    "y = np.array(df['Survived'])\n",
    "\n",
    "X_train, X_test, y_train, y_test = train_test_split(X,y,test_size=0.3,random_state=0)\n",
    "\n",
    "tree = DecisionTreeClassifier(random_state=0, max_depth=3)\n",
    "tree.fit(X_train, y_train)"
   ]
  },
  {
   "cell_type": "code",
   "execution_count": 183,
   "id": "1987b787",
   "metadata": {
    "ExecuteTime": {
     "end_time": "2021-11-18T09:06:49.226926Z",
     "start_time": "2021-11-18T09:06:49.212827Z"
    }
   },
   "outputs": [],
   "source": [
    "# 성능평가\n",
    "temp_y_pred = tree.predict(X_test)\n",
    "temp_acc = accuracy_score(y_test, temp_y_pred)"
   ]
  },
  {
   "cell_type": "code",
   "execution_count": 184,
   "id": "1a26fa94",
   "metadata": {
    "ExecuteTime": {
     "end_time": "2021-11-18T09:06:49.241826Z",
     "start_time": "2021-11-18T09:06:49.229829Z"
    }
   },
   "outputs": [
    {
     "data": {
      "text/plain": [
       "array([0.17568873, 0.61552198, 0.06794334, 0.08767138, 0.        ,\n",
       "       0.05317456])"
      ]
     },
     "execution_count": 184,
     "metadata": {},
     "output_type": "execute_result"
    }
   ],
   "source": [
    "# 변수 중요도 확인\n",
    "tree.feature_importances_"
   ]
  },
  {
   "cell_type": "code",
   "execution_count": 185,
   "id": "74a187dd",
   "metadata": {
    "ExecuteTime": {
     "end_time": "2021-11-18T09:06:49.256826Z",
     "start_time": "2021-11-18T09:06:49.243826Z"
    }
   },
   "outputs": [
    {
     "data": {
      "text/html": [
       "<div>\n",
       "<style scoped>\n",
       "    .dataframe tbody tr th:only-of-type {\n",
       "        vertical-align: middle;\n",
       "    }\n",
       "\n",
       "    .dataframe tbody tr th {\n",
       "        vertical-align: top;\n",
       "    }\n",
       "\n",
       "    .dataframe thead th {\n",
       "        text-align: right;\n",
       "    }\n",
       "</style>\n",
       "<table border=\"1\" class=\"dataframe\">\n",
       "  <thead>\n",
       "    <tr style=\"text-align: right;\">\n",
       "      <th></th>\n",
       "      <th>Pclass</th>\n",
       "      <th>Sex</th>\n",
       "      <th>Age</th>\n",
       "      <th>SibSp</th>\n",
       "      <th>Parch</th>\n",
       "      <th>Fare</th>\n",
       "    </tr>\n",
       "  </thead>\n",
       "  <tbody>\n",
       "    <tr>\n",
       "      <th>feature_importance</th>\n",
       "      <td>0.175689</td>\n",
       "      <td>0.615522</td>\n",
       "      <td>0.067943</td>\n",
       "      <td>0.087671</td>\n",
       "      <td>0.0</td>\n",
       "      <td>0.053175</td>\n",
       "    </tr>\n",
       "  </tbody>\n",
       "</table>\n",
       "</div>"
      ],
      "text/plain": [
       "                      Pclass       Sex       Age     SibSp  Parch      Fare\n",
       "feature_importance  0.175689  0.615522  0.067943  0.087671    0.0  0.053175"
      ]
     },
     "execution_count": 185,
     "metadata": {},
     "output_type": "execute_result"
    }
   ],
   "source": [
    "# 데이터 프레임으로 변환\n",
    "pd.DataFrame(tree.feature_importances_.reshape(1,-1), columns= df.columns[1:], index = ['feature_importance'])"
   ]
  },
  {
   "cell_type": "markdown",
   "id": "d30fafd1",
   "metadata": {},
   "source": [
    "## 원핫인코딩으로 탑승항구 변환"
   ]
  },
  {
   "cell_type": "code",
   "execution_count": 186,
   "id": "18e93181",
   "metadata": {
    "ExecuteTime": {
     "end_time": "2021-11-18T09:06:49.286826Z",
     "start_time": "2021-11-18T09:06:49.257829Z"
    }
   },
   "outputs": [
    {
     "data": {
      "text/html": [
       "<div>\n",
       "<style scoped>\n",
       "    .dataframe tbody tr th:only-of-type {\n",
       "        vertical-align: middle;\n",
       "    }\n",
       "\n",
       "    .dataframe tbody tr th {\n",
       "        vertical-align: top;\n",
       "    }\n",
       "\n",
       "    .dataframe thead th {\n",
       "        text-align: right;\n",
       "    }\n",
       "</style>\n",
       "<table border=\"1\" class=\"dataframe\">\n",
       "  <thead>\n",
       "    <tr style=\"text-align: right;\">\n",
       "      <th></th>\n",
       "      <th>Survived</th>\n",
       "      <th>Pclass</th>\n",
       "      <th>Sex</th>\n",
       "      <th>Age</th>\n",
       "      <th>SibSp</th>\n",
       "      <th>Parch</th>\n",
       "      <th>Fare</th>\n",
       "      <th>Embarked</th>\n",
       "    </tr>\n",
       "  </thead>\n",
       "  <tbody>\n",
       "    <tr>\n",
       "      <th>0</th>\n",
       "      <td>0</td>\n",
       "      <td>3</td>\n",
       "      <td>1</td>\n",
       "      <td>22.0</td>\n",
       "      <td>1</td>\n",
       "      <td>0</td>\n",
       "      <td>7.2500</td>\n",
       "      <td>S</td>\n",
       "    </tr>\n",
       "    <tr>\n",
       "      <th>1</th>\n",
       "      <td>1</td>\n",
       "      <td>1</td>\n",
       "      <td>0</td>\n",
       "      <td>38.0</td>\n",
       "      <td>1</td>\n",
       "      <td>0</td>\n",
       "      <td>71.2833</td>\n",
       "      <td>C</td>\n",
       "    </tr>\n",
       "    <tr>\n",
       "      <th>2</th>\n",
       "      <td>1</td>\n",
       "      <td>3</td>\n",
       "      <td>0</td>\n",
       "      <td>26.0</td>\n",
       "      <td>0</td>\n",
       "      <td>0</td>\n",
       "      <td>7.9250</td>\n",
       "      <td>S</td>\n",
       "    </tr>\n",
       "    <tr>\n",
       "      <th>3</th>\n",
       "      <td>1</td>\n",
       "      <td>1</td>\n",
       "      <td>0</td>\n",
       "      <td>35.0</td>\n",
       "      <td>1</td>\n",
       "      <td>0</td>\n",
       "      <td>53.1000</td>\n",
       "      <td>S</td>\n",
       "    </tr>\n",
       "    <tr>\n",
       "      <th>4</th>\n",
       "      <td>0</td>\n",
       "      <td>3</td>\n",
       "      <td>1</td>\n",
       "      <td>35.0</td>\n",
       "      <td>0</td>\n",
       "      <td>0</td>\n",
       "      <td>8.0500</td>\n",
       "      <td>S</td>\n",
       "    </tr>\n",
       "    <tr>\n",
       "      <th>...</th>\n",
       "      <td>...</td>\n",
       "      <td>...</td>\n",
       "      <td>...</td>\n",
       "      <td>...</td>\n",
       "      <td>...</td>\n",
       "      <td>...</td>\n",
       "      <td>...</td>\n",
       "      <td>...</td>\n",
       "    </tr>\n",
       "    <tr>\n",
       "      <th>884</th>\n",
       "      <td>0</td>\n",
       "      <td>2</td>\n",
       "      <td>1</td>\n",
       "      <td>27.0</td>\n",
       "      <td>0</td>\n",
       "      <td>0</td>\n",
       "      <td>13.0000</td>\n",
       "      <td>S</td>\n",
       "    </tr>\n",
       "    <tr>\n",
       "      <th>885</th>\n",
       "      <td>1</td>\n",
       "      <td>1</td>\n",
       "      <td>0</td>\n",
       "      <td>19.0</td>\n",
       "      <td>0</td>\n",
       "      <td>0</td>\n",
       "      <td>30.0000</td>\n",
       "      <td>S</td>\n",
       "    </tr>\n",
       "    <tr>\n",
       "      <th>886</th>\n",
       "      <td>0</td>\n",
       "      <td>3</td>\n",
       "      <td>0</td>\n",
       "      <td>28.0</td>\n",
       "      <td>1</td>\n",
       "      <td>2</td>\n",
       "      <td>23.4500</td>\n",
       "      <td>S</td>\n",
       "    </tr>\n",
       "    <tr>\n",
       "      <th>887</th>\n",
       "      <td>1</td>\n",
       "      <td>1</td>\n",
       "      <td>1</td>\n",
       "      <td>26.0</td>\n",
       "      <td>0</td>\n",
       "      <td>0</td>\n",
       "      <td>30.0000</td>\n",
       "      <td>C</td>\n",
       "    </tr>\n",
       "    <tr>\n",
       "      <th>888</th>\n",
       "      <td>0</td>\n",
       "      <td>3</td>\n",
       "      <td>1</td>\n",
       "      <td>32.0</td>\n",
       "      <td>0</td>\n",
       "      <td>0</td>\n",
       "      <td>7.7500</td>\n",
       "      <td>Q</td>\n",
       "    </tr>\n",
       "  </tbody>\n",
       "</table>\n",
       "<p>889 rows × 8 columns</p>\n",
       "</div>"
      ],
      "text/plain": [
       "     Survived  Pclass  Sex   Age  SibSp  Parch     Fare Embarked\n",
       "0           0       3    1  22.0      1      0   7.2500        S\n",
       "1           1       1    0  38.0      1      0  71.2833        C\n",
       "2           1       3    0  26.0      0      0   7.9250        S\n",
       "3           1       1    0  35.0      1      0  53.1000        S\n",
       "4           0       3    1  35.0      0      0   8.0500        S\n",
       "..        ...     ...  ...   ...    ...    ...      ...      ...\n",
       "884         0       2    1  27.0      0      0  13.0000        S\n",
       "885         1       1    0  19.0      0      0  30.0000        S\n",
       "886         0       3    0  28.0      1      2  23.4500        S\n",
       "887         1       1    1  26.0      0      0  30.0000        C\n",
       "888         0       3    1  32.0      0      0   7.7500        Q\n",
       "\n",
       "[889 rows x 8 columns]"
      ]
     },
     "execution_count": 186,
     "metadata": {},
     "output_type": "execute_result"
    }
   ],
   "source": [
    "# 데이터 불러오기\n",
    "df1 = pd.read_csv('./data/titanic.csv', index_col=['PassengerId'])\n",
    "# 데이터 전처리\n",
    "df1 = df1.drop({'Name','Ticket','Cabin'}, axis = 1)\n",
    "df1.Age.fillna(df1.Age.median(), inplace = True)\n",
    "df1 = df1.dropna()\n",
    "df1['Sex'] = df1.Sex.map({'female':0,'male':1})\n",
    "\n",
    "df1 = df1.reset_index(drop = True)\n",
    "df1"
   ]
  },
  {
   "cell_type": "code",
   "execution_count": 187,
   "id": "4e5d8764",
   "metadata": {
    "ExecuteTime": {
     "end_time": "2021-11-18T09:06:49.301826Z",
     "start_time": "2021-11-18T09:06:49.287827Z"
    }
   },
   "outputs": [
    {
     "data": {
      "text/html": [
       "<div>\n",
       "<style scoped>\n",
       "    .dataframe tbody tr th:only-of-type {\n",
       "        vertical-align: middle;\n",
       "    }\n",
       "\n",
       "    .dataframe tbody tr th {\n",
       "        vertical-align: top;\n",
       "    }\n",
       "\n",
       "    .dataframe thead th {\n",
       "        text-align: right;\n",
       "    }\n",
       "</style>\n",
       "<table border=\"1\" class=\"dataframe\">\n",
       "  <thead>\n",
       "    <tr style=\"text-align: right;\">\n",
       "      <th></th>\n",
       "      <th>C</th>\n",
       "      <th>Q</th>\n",
       "      <th>S</th>\n",
       "    </tr>\n",
       "  </thead>\n",
       "  <tbody>\n",
       "    <tr>\n",
       "      <th>0</th>\n",
       "      <td>0.0</td>\n",
       "      <td>0.0</td>\n",
       "      <td>1.0</td>\n",
       "    </tr>\n",
       "    <tr>\n",
       "      <th>1</th>\n",
       "      <td>1.0</td>\n",
       "      <td>0.0</td>\n",
       "      <td>0.0</td>\n",
       "    </tr>\n",
       "    <tr>\n",
       "      <th>2</th>\n",
       "      <td>0.0</td>\n",
       "      <td>0.0</td>\n",
       "      <td>1.0</td>\n",
       "    </tr>\n",
       "    <tr>\n",
       "      <th>3</th>\n",
       "      <td>0.0</td>\n",
       "      <td>0.0</td>\n",
       "      <td>1.0</td>\n",
       "    </tr>\n",
       "    <tr>\n",
       "      <th>4</th>\n",
       "      <td>0.0</td>\n",
       "      <td>0.0</td>\n",
       "      <td>1.0</td>\n",
       "    </tr>\n",
       "    <tr>\n",
       "      <th>...</th>\n",
       "      <td>...</td>\n",
       "      <td>...</td>\n",
       "      <td>...</td>\n",
       "    </tr>\n",
       "    <tr>\n",
       "      <th>884</th>\n",
       "      <td>0.0</td>\n",
       "      <td>0.0</td>\n",
       "      <td>1.0</td>\n",
       "    </tr>\n",
       "    <tr>\n",
       "      <th>885</th>\n",
       "      <td>0.0</td>\n",
       "      <td>0.0</td>\n",
       "      <td>1.0</td>\n",
       "    </tr>\n",
       "    <tr>\n",
       "      <th>886</th>\n",
       "      <td>0.0</td>\n",
       "      <td>0.0</td>\n",
       "      <td>1.0</td>\n",
       "    </tr>\n",
       "    <tr>\n",
       "      <th>887</th>\n",
       "      <td>1.0</td>\n",
       "      <td>0.0</td>\n",
       "      <td>0.0</td>\n",
       "    </tr>\n",
       "    <tr>\n",
       "      <th>888</th>\n",
       "      <td>0.0</td>\n",
       "      <td>1.0</td>\n",
       "      <td>0.0</td>\n",
       "    </tr>\n",
       "  </tbody>\n",
       "</table>\n",
       "<p>889 rows × 3 columns</p>\n",
       "</div>"
      ],
      "text/plain": [
       "       C    Q    S\n",
       "0    0.0  0.0  1.0\n",
       "1    1.0  0.0  0.0\n",
       "2    0.0  0.0  1.0\n",
       "3    0.0  0.0  1.0\n",
       "4    0.0  0.0  1.0\n",
       "..   ...  ...  ...\n",
       "884  0.0  0.0  1.0\n",
       "885  0.0  0.0  1.0\n",
       "886  0.0  0.0  1.0\n",
       "887  1.0  0.0  0.0\n",
       "888  0.0  1.0  0.0\n",
       "\n",
       "[889 rows x 3 columns]"
      ]
     },
     "execution_count": 187,
     "metadata": {},
     "output_type": "execute_result"
    }
   ],
   "source": [
    "# 원한인코더를 encoder라는 변수에 저장\n",
    "encoder = OneHotEncoder()\n",
    "#encoder를 사용해 Embarked 항목 값으로 학습\n",
    "encoder.fit(df1[['Embarked']])\n",
    "#encoder의 transform을 사용해 embarked 변수를 변환해 onehot이라는 변수에 저장\n",
    "onehot = encoder.transform(df1[['Embarked']])\n",
    "# onehot이라는 변수를 array 형태로 변환\n",
    "onehot = onehot.toarray()\n",
    "# onehot이라는 변수를 DataFrame 형태로 변환\n",
    "onehot = pd.DataFrame(onehot)\n",
    "# 칼럼 이름 직점생성\n",
    "onehot.columns = ['C','Q','S']\n",
    "# 결과확인\n",
    "onehot"
   ]
  },
  {
   "cell_type": "code",
   "execution_count": 188,
   "id": "66fb5139",
   "metadata": {
    "ExecuteTime": {
     "end_time": "2021-11-18T09:06:49.316838Z",
     "start_time": "2021-11-18T09:06:49.302827Z"
    }
   },
   "outputs": [],
   "source": [
    "# 기존 df에 인코딩 결과를 병합\n",
    "onehot = pd.concat([df1, onehot], axis = 1)"
   ]
  },
  {
   "cell_type": "code",
   "execution_count": 189,
   "id": "93013ddb",
   "metadata": {
    "ExecuteTime": {
     "end_time": "2021-11-18T09:06:49.331840Z",
     "start_time": "2021-11-18T09:06:49.317827Z"
    }
   },
   "outputs": [
    {
     "data": {
      "text/html": [
       "<div>\n",
       "<style scoped>\n",
       "    .dataframe tbody tr th:only-of-type {\n",
       "        vertical-align: middle;\n",
       "    }\n",
       "\n",
       "    .dataframe tbody tr th {\n",
       "        vertical-align: top;\n",
       "    }\n",
       "\n",
       "    .dataframe thead th {\n",
       "        text-align: right;\n",
       "    }\n",
       "</style>\n",
       "<table border=\"1\" class=\"dataframe\">\n",
       "  <thead>\n",
       "    <tr style=\"text-align: right;\">\n",
       "      <th></th>\n",
       "      <th>Survived</th>\n",
       "      <th>Pclass</th>\n",
       "      <th>Sex</th>\n",
       "      <th>Age</th>\n",
       "      <th>SibSp</th>\n",
       "      <th>Parch</th>\n",
       "      <th>Fare</th>\n",
       "      <th>C</th>\n",
       "      <th>Q</th>\n",
       "      <th>S</th>\n",
       "    </tr>\n",
       "  </thead>\n",
       "  <tbody>\n",
       "    <tr>\n",
       "      <th>0</th>\n",
       "      <td>0</td>\n",
       "      <td>3</td>\n",
       "      <td>1</td>\n",
       "      <td>22.0</td>\n",
       "      <td>1</td>\n",
       "      <td>0</td>\n",
       "      <td>7.2500</td>\n",
       "      <td>0.0</td>\n",
       "      <td>0.0</td>\n",
       "      <td>1.0</td>\n",
       "    </tr>\n",
       "    <tr>\n",
       "      <th>1</th>\n",
       "      <td>1</td>\n",
       "      <td>1</td>\n",
       "      <td>0</td>\n",
       "      <td>38.0</td>\n",
       "      <td>1</td>\n",
       "      <td>0</td>\n",
       "      <td>71.2833</td>\n",
       "      <td>1.0</td>\n",
       "      <td>0.0</td>\n",
       "      <td>0.0</td>\n",
       "    </tr>\n",
       "    <tr>\n",
       "      <th>2</th>\n",
       "      <td>1</td>\n",
       "      <td>3</td>\n",
       "      <td>0</td>\n",
       "      <td>26.0</td>\n",
       "      <td>0</td>\n",
       "      <td>0</td>\n",
       "      <td>7.9250</td>\n",
       "      <td>0.0</td>\n",
       "      <td>0.0</td>\n",
       "      <td>1.0</td>\n",
       "    </tr>\n",
       "    <tr>\n",
       "      <th>3</th>\n",
       "      <td>1</td>\n",
       "      <td>1</td>\n",
       "      <td>0</td>\n",
       "      <td>35.0</td>\n",
       "      <td>1</td>\n",
       "      <td>0</td>\n",
       "      <td>53.1000</td>\n",
       "      <td>0.0</td>\n",
       "      <td>0.0</td>\n",
       "      <td>1.0</td>\n",
       "    </tr>\n",
       "    <tr>\n",
       "      <th>4</th>\n",
       "      <td>0</td>\n",
       "      <td>3</td>\n",
       "      <td>1</td>\n",
       "      <td>35.0</td>\n",
       "      <td>0</td>\n",
       "      <td>0</td>\n",
       "      <td>8.0500</td>\n",
       "      <td>0.0</td>\n",
       "      <td>0.0</td>\n",
       "      <td>1.0</td>\n",
       "    </tr>\n",
       "    <tr>\n",
       "      <th>...</th>\n",
       "      <td>...</td>\n",
       "      <td>...</td>\n",
       "      <td>...</td>\n",
       "      <td>...</td>\n",
       "      <td>...</td>\n",
       "      <td>...</td>\n",
       "      <td>...</td>\n",
       "      <td>...</td>\n",
       "      <td>...</td>\n",
       "      <td>...</td>\n",
       "    </tr>\n",
       "    <tr>\n",
       "      <th>884</th>\n",
       "      <td>0</td>\n",
       "      <td>2</td>\n",
       "      <td>1</td>\n",
       "      <td>27.0</td>\n",
       "      <td>0</td>\n",
       "      <td>0</td>\n",
       "      <td>13.0000</td>\n",
       "      <td>0.0</td>\n",
       "      <td>0.0</td>\n",
       "      <td>1.0</td>\n",
       "    </tr>\n",
       "    <tr>\n",
       "      <th>885</th>\n",
       "      <td>1</td>\n",
       "      <td>1</td>\n",
       "      <td>0</td>\n",
       "      <td>19.0</td>\n",
       "      <td>0</td>\n",
       "      <td>0</td>\n",
       "      <td>30.0000</td>\n",
       "      <td>0.0</td>\n",
       "      <td>0.0</td>\n",
       "      <td>1.0</td>\n",
       "    </tr>\n",
       "    <tr>\n",
       "      <th>886</th>\n",
       "      <td>0</td>\n",
       "      <td>3</td>\n",
       "      <td>0</td>\n",
       "      <td>28.0</td>\n",
       "      <td>1</td>\n",
       "      <td>2</td>\n",
       "      <td>23.4500</td>\n",
       "      <td>0.0</td>\n",
       "      <td>0.0</td>\n",
       "      <td>1.0</td>\n",
       "    </tr>\n",
       "    <tr>\n",
       "      <th>887</th>\n",
       "      <td>1</td>\n",
       "      <td>1</td>\n",
       "      <td>1</td>\n",
       "      <td>26.0</td>\n",
       "      <td>0</td>\n",
       "      <td>0</td>\n",
       "      <td>30.0000</td>\n",
       "      <td>1.0</td>\n",
       "      <td>0.0</td>\n",
       "      <td>0.0</td>\n",
       "    </tr>\n",
       "    <tr>\n",
       "      <th>888</th>\n",
       "      <td>0</td>\n",
       "      <td>3</td>\n",
       "      <td>1</td>\n",
       "      <td>32.0</td>\n",
       "      <td>0</td>\n",
       "      <td>0</td>\n",
       "      <td>7.7500</td>\n",
       "      <td>0.0</td>\n",
       "      <td>1.0</td>\n",
       "      <td>0.0</td>\n",
       "    </tr>\n",
       "  </tbody>\n",
       "</table>\n",
       "<p>889 rows × 10 columns</p>\n",
       "</div>"
      ],
      "text/plain": [
       "     Survived  Pclass  Sex   Age  SibSp  Parch     Fare    C    Q    S\n",
       "0           0       3    1  22.0      1      0   7.2500  0.0  0.0  1.0\n",
       "1           1       1    0  38.0      1      0  71.2833  1.0  0.0  0.0\n",
       "2           1       3    0  26.0      0      0   7.9250  0.0  0.0  1.0\n",
       "3           1       1    0  35.0      1      0  53.1000  0.0  0.0  1.0\n",
       "4           0       3    1  35.0      0      0   8.0500  0.0  0.0  1.0\n",
       "..        ...     ...  ...   ...    ...    ...      ...  ...  ...  ...\n",
       "884         0       2    1  27.0      0      0  13.0000  0.0  0.0  1.0\n",
       "885         1       1    0  19.0      0      0  30.0000  0.0  0.0  1.0\n",
       "886         0       3    0  28.0      1      2  23.4500  0.0  0.0  1.0\n",
       "887         1       1    1  26.0      0      0  30.0000  1.0  0.0  0.0\n",
       "888         0       3    1  32.0      0      0   7.7500  0.0  1.0  0.0\n",
       "\n",
       "[889 rows x 10 columns]"
      ]
     },
     "execution_count": 189,
     "metadata": {},
     "output_type": "execute_result"
    }
   ],
   "source": [
    "# 인코딩 전 'embarked'변수 제거 후 df에 업데이트\n",
    "df_concat = onehot.drop('Embarked', axis =1)\n",
    "df_concat"
   ]
  },
  {
   "cell_type": "code",
   "execution_count": 191,
   "id": "1121f604",
   "metadata": {
    "ExecuteTime": {
     "end_time": "2021-11-18T09:06:49.377826Z",
     "start_time": "2021-11-18T09:06:49.363827Z"
    }
   },
   "outputs": [],
   "source": [
    "X = np.array(df_concat.iloc[:,1:])\n",
    "y = np.array(df_concat['Survived'])"
   ]
  },
  {
   "cell_type": "code",
   "execution_count": 192,
   "id": "0433f4d1",
   "metadata": {
    "ExecuteTime": {
     "end_time": "2021-11-18T09:06:49.392828Z",
     "start_time": "2021-11-18T09:06:49.378827Z"
    }
   },
   "outputs": [
    {
     "data": {
      "text/plain": [
       "DecisionTreeClassifier(max_depth=3, random_state=0)"
      ]
     },
     "execution_count": 192,
     "metadata": {},
     "output_type": "execute_result"
    }
   ],
   "source": [
    "X_train, X_test, y_train, y_test = train_test_split(X,y,test_size=0.3,random_state=0)\n",
    "\n",
    "tree_concat = DecisionTreeClassifier(random_state=0, max_depth=3)\n",
    "tree_concat.fit(X_train, y_train)"
   ]
  },
  {
   "cell_type": "code",
   "execution_count": 194,
   "id": "7909e46a",
   "metadata": {
    "ExecuteTime": {
     "end_time": "2021-11-18T09:07:34.831273Z",
     "start_time": "2021-11-18T09:07:34.824324Z"
    }
   },
   "outputs": [],
   "source": [
    "#성능 평가\n",
    "temp_y_pred1 = tree_concat.predict(X_test)\n",
    "temp_acc_concat = accuracy_score(y_test, temp_y_pred1)"
   ]
  },
  {
   "cell_type": "code",
   "execution_count": 195,
   "id": "bac3e851",
   "metadata": {
    "ExecuteTime": {
     "end_time": "2021-11-18T09:07:35.704866Z",
     "start_time": "2021-11-18T09:07:35.699866Z"
    }
   },
   "outputs": [
    {
     "data": {
      "text/plain": [
       "array([0.20212022, 0.59958245, 0.0691925 , 0.06662978, 0.        ,\n",
       "       0.06247505, 0.        , 0.        , 0.        ])"
      ]
     },
     "execution_count": 195,
     "metadata": {},
     "output_type": "execute_result"
    }
   ],
   "source": [
    "a = tree_concat.feature_importances_\n",
    "a"
   ]
  },
  {
   "cell_type": "code",
   "execution_count": 197,
   "id": "33ca1a12",
   "metadata": {
    "ExecuteTime": {
     "end_time": "2021-11-18T09:07:52.296686Z",
     "start_time": "2021-11-18T09:07:52.275553Z"
    }
   },
   "outputs": [
    {
     "data": {
      "text/html": [
       "<div>\n",
       "<style scoped>\n",
       "    .dataframe tbody tr th:only-of-type {\n",
       "        vertical-align: middle;\n",
       "    }\n",
       "\n",
       "    .dataframe tbody tr th {\n",
       "        vertical-align: top;\n",
       "    }\n",
       "\n",
       "    .dataframe thead th {\n",
       "        text-align: right;\n",
       "    }\n",
       "</style>\n",
       "<table border=\"1\" class=\"dataframe\">\n",
       "  <thead>\n",
       "    <tr style=\"text-align: right;\">\n",
       "      <th></th>\n",
       "      <th>Pclass</th>\n",
       "      <th>Sex</th>\n",
       "      <th>Age</th>\n",
       "      <th>SibSp</th>\n",
       "      <th>Parch</th>\n",
       "      <th>Fare</th>\n",
       "      <th>C</th>\n",
       "      <th>Q</th>\n",
       "      <th>S</th>\n",
       "    </tr>\n",
       "  </thead>\n",
       "  <tbody>\n",
       "    <tr>\n",
       "      <th>feature_importance</th>\n",
       "      <td>0.20212</td>\n",
       "      <td>0.599582</td>\n",
       "      <td>0.069193</td>\n",
       "      <td>0.06663</td>\n",
       "      <td>0.0</td>\n",
       "      <td>0.062475</td>\n",
       "      <td>0.0</td>\n",
       "      <td>0.0</td>\n",
       "      <td>0.0</td>\n",
       "    </tr>\n",
       "  </tbody>\n",
       "</table>\n",
       "</div>"
      ],
      "text/plain": [
       "                     Pclass       Sex       Age    SibSp  Parch      Fare  \\\n",
       "feature_importance  0.20212  0.599582  0.069193  0.06663    0.0  0.062475   \n",
       "\n",
       "                      C    Q    S  \n",
       "feature_importance  0.0  0.0  0.0  "
      ]
     },
     "execution_count": 197,
     "metadata": {},
     "output_type": "execute_result"
    }
   ],
   "source": [
    "# 데이터 프레임으로 변환\n",
    "pd.DataFrame(a.reshape(1,-1), columns= df_concat.columns[1:], index = ['feature_importance'])"
   ]
  },
  {
   "cell_type": "code",
   "execution_count": 198,
   "id": "585931aa",
   "metadata": {
    "ExecuteTime": {
     "end_time": "2021-11-18T09:07:56.245693Z",
     "start_time": "2021-11-18T09:07:56.231673Z"
    }
   },
   "outputs": [
    {
     "name": "stdout",
     "output_type": "stream",
     "text": [
      "항구정보 미포함 0.8208955223880597\n",
      "항구정보 포함 0.7902621722846442\n"
     ]
    }
   ],
   "source": [
    "print('항구정보 미포함', format(temp_acc))\n",
    "print('항구정보 포함', format(temp_acc_concat))"
   ]
  },
  {
   "cell_type": "markdown",
   "id": "81e63c05",
   "metadata": {},
   "source": [
    "- 변수중요도를 보면 탑승항구 변수의 주요도는 0이므로 탑승항구정보는 관련이 없다는 것을 알 수 있다.\n",
    "- 따라서 정확도도 항구 정보를 포함하지 않는 것이 더 높게 나오는 것을 확인할 수 있다."
   ]
  },
  {
   "cell_type": "code",
   "execution_count": null,
   "id": "4703bba6",
   "metadata": {},
   "outputs": [],
   "source": []
  }
 ],
 "metadata": {
  "kernelspec": {
   "display_name": "Python 3 (ipykernel)",
   "language": "python",
   "name": "python3"
  },
  "language_info": {
   "codemirror_mode": {
    "name": "ipython",
    "version": 3
   },
   "file_extension": ".py",
   "mimetype": "text/x-python",
   "name": "python",
   "nbconvert_exporter": "python",
   "pygments_lexer": "ipython3",
   "version": "3.8.8"
  },
  "toc": {
   "base_numbering": 1,
   "nav_menu": {},
   "number_sections": true,
   "sideBar": true,
   "skip_h1_title": false,
   "title_cell": "Table of Contents",
   "title_sidebar": "Contents",
   "toc_cell": false,
   "toc_position": {},
   "toc_section_display": true,
   "toc_window_display": false
  }
 },
 "nbformat": 4,
 "nbformat_minor": 5
}
