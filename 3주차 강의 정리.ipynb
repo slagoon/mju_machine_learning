{
 "cells": [
  {
   "cell_type": "markdown",
   "metadata": {},
   "source": [
    "# 3주차 강의 정리"
   ]
  },
  {
   "cell_type": "code",
   "execution_count": 5,
   "metadata": {
    "ExecuteTime": {
     "end_time": "2021-09-17T13:16:16.673482Z",
     "start_time": "2021-09-17T13:16:16.662966Z"
    }
   },
   "outputs": [],
   "source": [
    "def sum(a,b):\n",
    "    return a+b"
   ]
  },
  {
   "cell_type": "code",
   "execution_count": 6,
   "metadata": {
    "ExecuteTime": {
     "end_time": "2021-09-17T13:16:17.024123Z",
     "start_time": "2021-09-17T13:16:17.007713Z"
    }
   },
   "outputs": [
    {
     "data": {
      "text/plain": [
       "15"
      ]
     },
     "execution_count": 6,
     "metadata": {},
     "output_type": "execute_result"
    }
   ],
   "source": [
    "sum(5,10)"
   ]
  },
  {
   "cell_type": "code",
   "execution_count": 7,
   "metadata": {
    "ExecuteTime": {
     "end_time": "2021-09-17T13:18:54.830890Z",
     "start_time": "2021-09-17T13:18:54.816351Z"
    }
   },
   "outputs": [
    {
     "name": "stdout",
     "output_type": "stream",
     "text": [
      "hello!\n"
     ]
    }
   ],
   "source": [
    "def say():\n",
    "    return 'hello!'\n",
    "a = say()\n",
    "print(a)"
   ]
  },
  {
   "cell_type": "code",
   "execution_count": 8,
   "metadata": {
    "ExecuteTime": {
     "end_time": "2021-09-17T13:20:29.661594Z",
     "start_time": "2021-09-17T13:20:29.658593Z"
    }
   },
   "outputs": [
    {
     "name": "stdout",
     "output_type": "stream",
     "text": [
      "3, 4의 합은 7입니다.\n",
      "10, 100의 합은 110입니다.\n"
     ]
    }
   ],
   "source": [
    "def sum(a,b):\n",
    "    print('%d, %d의 합은 %d입니다.'%(a,b,a+b))\n",
    "sum(3,4)\n",
    "sum(10,100)\n"
   ]
  },
  {
   "cell_type": "code",
   "execution_count": 10,
   "metadata": {
    "ExecuteTime": {
     "end_time": "2021-09-17T13:26:22.431639Z",
     "start_time": "2021-09-17T13:26:22.416235Z"
    }
   },
   "outputs": [
    {
     "name": "stdout",
     "output_type": "stream",
     "text": [
      "6\n"
     ]
    }
   ],
   "source": [
    "def sum_many(*args):\n",
    "    sum = 0\n",
    "    for i in args:\n",
    "        sum = sum+i\n",
    "    return sum\n",
    "result = sum_many(1,2,3)\n",
    "print(result)"
   ]
  },
  {
   "cell_type": "code",
   "execution_count": 12,
   "metadata": {
    "ExecuteTime": {
     "end_time": "2021-09-17T13:30:34.414976Z",
     "start_time": "2021-09-17T13:30:34.407976Z"
    }
   },
   "outputs": [],
   "source": [
    "def sum_mul(choice, *args):\n",
    "    if choice == 'sum':\n",
    "        result = 0\n",
    "        for i in args:\n",
    "            result = result + i\n",
    "    elif choice == 'mul':\n",
    "        result = 1\n",
    "        for i in args:\n",
    "            result = result * i\n",
    "    return result\n",
    "result = sum_mul('sum', 1,2,3,4,5)"
   ]
  },
  {
   "cell_type": "code",
   "execution_count": 13,
   "metadata": {
    "ExecuteTime": {
     "end_time": "2021-09-17T13:30:44.262061Z",
     "start_time": "2021-09-17T13:30:44.251172Z"
    }
   },
   "outputs": [
    {
     "name": "stdout",
     "output_type": "stream",
     "text": [
      "15\n"
     ]
    }
   ],
   "source": [
    "print(result)"
   ]
  },
  {
   "cell_type": "code",
   "execution_count": 19,
   "metadata": {
    "ExecuteTime": {
     "end_time": "2021-09-17T13:39:22.185401Z",
     "start_time": "2021-09-17T13:39:22.172382Z"
    }
   },
   "outputs": [
    {
     "name": "stdout",
     "output_type": "stream",
     "text": [
      "(13, 30, 10)\n",
      "7\n",
      "12\n",
      "1\n"
     ]
    }
   ],
   "source": [
    "def sum_and_mul(a,b,c):\n",
    "    return a+b,a*b, c\n",
    "a = sum_and_mul(10,3,10)\n",
    "print(a)\n",
    "\n",
    "sum, mul, asd = sum_and_mul(3,4,1)\n",
    "print(sum)\n",
    "print(mul)\n",
    "print(asd)"
   ]
  },
  {
   "cell_type": "code",
   "execution_count": 20,
   "metadata": {
    "ExecuteTime": {
     "end_time": "2021-09-17T13:48:39.404605Z",
     "start_time": "2021-09-17T13:48:39.393150Z"
    }
   },
   "outputs": [],
   "source": [
    "def say_myself(name, old, gender=1):\n",
    "    print('나의 이름은 %s 입니다.' %name)\n",
    "    print('나이는 %d 입니다.' %old)\n",
    "    if gender:\n",
    "        print('남자입니다.')\n",
    "    else:\n",
    "        prnt('여자입니다.')\n",
    "        "
   ]
  },
  {
   "cell_type": "code",
   "execution_count": 21,
   "metadata": {
    "ExecuteTime": {
     "end_time": "2021-09-17T13:50:01.484706Z",
     "start_time": "2021-09-17T13:50:01.465692Z"
    }
   },
   "outputs": [
    {
     "name": "stdout",
     "output_type": "stream",
     "text": [
      "나의 이름은 한지수 입니다.\n",
      "나이는 23 입니다.\n",
      "남자입니다.\n"
     ]
    }
   ],
   "source": [
    "say_myself('한지수',23,1)"
   ]
  },
  {
   "cell_type": "code",
   "execution_count": null,
   "metadata": {},
   "outputs": [],
   "source": []
  }
 ],
 "metadata": {
  "kernelspec": {
   "display_name": "Python 3",
   "language": "python",
   "name": "python3"
  },
  "language_info": {
   "codemirror_mode": {
    "name": "ipython",
    "version": 3
   },
   "file_extension": ".py",
   "mimetype": "text/x-python",
   "name": "python",
   "nbconvert_exporter": "python",
   "pygments_lexer": "ipython3",
   "version": "3.8.5"
  },
  "toc": {
   "base_numbering": 1,
   "nav_menu": {},
   "number_sections": true,
   "sideBar": true,
   "skip_h1_title": false,
   "title_cell": "Table of Contents",
   "title_sidebar": "Contents",
   "toc_cell": false,
   "toc_position": {},
   "toc_section_display": true,
   "toc_window_display": false
  }
 },
 "nbformat": 4,
 "nbformat_minor": 4
}
