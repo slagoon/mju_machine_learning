{
 "cells": [
  {
   "cell_type": "code",
   "execution_count": 46,
   "metadata": {
    "ExecuteTime": {
     "end_time": "2021-09-19T01:10:39.528597Z",
     "start_time": "2021-09-19T01:10:19.216156Z"
    }
   },
   "outputs": [
    {
     "name": "stdout",
     "output_type": "stream",
     "text": [
      "1~45사이의 숫자를 입력해 주세요:6\n",
      "1~45사이의 숫자를 입력해 주세요:15\n",
      "1~45사이의 숫자를 입력해 주세요:17\n",
      "1~45사이의 숫자를 입력해 주세요:24\n",
      "1~45사이의 숫자를 입력해 주세요:36\n",
      "1~45사이의 숫자를 입력해 주세요:41\n",
      "[3, 5, 19, 32, 33, 35]\n",
      "[6, 15, 17, 24, 36, 41]\n"
     ]
    }
   ],
   "source": [
    "#개인톡 과제 1\n",
    "import random\n",
    "import numpy as np\n",
    "num = []\n",
    "for i in range(1,7):\n",
    "    a = int(input('1~45사이의 숫자를 입력해 주세요:'))\n",
    "    num.append(a)\n",
    "num.sort()   \n",
    "lotto = []\n",
    "\n",
    "def random_num():\n",
    "    return random.randrange(1,46)\n",
    "\n",
    "while len(lotto)<6:\n",
    "    i = random_num()\n",
    "    if i not in lotto:\n",
    "        lotto.append(i)\n",
    "        \n",
    "lotto.sort()    \n",
    "\n",
    "print(lotto)\n",
    "print(num)\n",
    "s = 0\n",
    "for l in range(1,7):\n",
    "    s = s+lotto.count(num[l-1])\n",
    "    \n",
    "if s ==6:\n",
    "    print('맞춘 개수는 6개, 1등')\n",
    "elif s == 5:\n",
    "    print('맞춘 개수는 5개, 2등')\n",
    "elif s ==4:\n",
    "    print('맞춘 개수는 4개, 3등')\n",
    "elif s == 3:\n",
    "    print('맞춘 개수는 3개, 4등')\n",
    "elif s == 2:\n",
    "    print('맞춘 개수는 2개, 5등')\n",
    "elif s== 1:\n",
    "    print('맞춘 개수는 1개, 6등')"
   ]
  },
  {
   "cell_type": "code",
   "execution_count": 23,
   "metadata": {
    "ExecuteTime": {
     "end_time": "2021-09-18T07:28:04.186592Z",
     "start_time": "2021-09-18T07:27:34.156221Z"
    }
   },
   "outputs": [
    {
     "name": "stdout",
     "output_type": "stream",
     "text": [
      "영어점수를 입력해주세요: 80\n",
      "80\n",
      "영어점수를 입력해주세요: 90\n",
      "90\n",
      "영어점수를 입력해주세요: 85\n",
      "85\n",
      "영어점수를 입력해주세요: 75\n",
      "75\n",
      "영어점수를 입력해주세요: 55\n",
      "55\n",
      "수학점수를 입력해주세요: 95\n",
      "95\n",
      "수학점수를 입력해주세요: 75\n",
      "75\n",
      "수학점수를 입력해주세요: 70\n",
      "70\n",
      "수학점수를 입력해주세요: 40\n",
      "40\n",
      "수학점수를 입력해주세요: 80\n",
      "80\n",
      "(80, 100)\n",
      "(95, 75)\n",
      "(85, 70)\n",
      "(75, 40)\n",
      "(55, 80)\n"
     ]
    }
   ],
   "source": [
    "#개인톡 과제 2\n",
    "## 점수 입력\n",
    "en = []\n",
    "ma = []\n",
    "for i in range(1,6):\n",
    "    a = int(input('영어점수를 입력해주세요: '))\n",
    "    print(a)\n",
    "    en.append(a)\n",
    "for j in range(1,6):\n",
    "    b = int(input('수학점수를 입력해주세요: '))\n",
    "    print(b)\n",
    "    ma.append(b)\n",
    "# 90점 이상일 경우 5점 추가   \n",
    "plus = lambda x:x+5 if x>=90 else x\n",
    "ma = list(map(plus,ma))\n",
    "en = list(map(plus, en))\n",
    "\n",
    "# 정렬\n",
    "c = list(zip(en,ma))\n",
    "for i in c:\n",
    "    print(i)\n"
   ]
  },
  {
   "cell_type": "code",
   "execution_count": 4,
   "metadata": {
    "ExecuteTime": {
     "end_time": "2021-09-18T05:28:32.737380Z",
     "start_time": "2021-09-18T05:28:32.730543Z"
    }
   },
   "outputs": [
    {
     "data": {
      "text/plain": [
       "['__add__',\n",
       " '__class__',\n",
       " '__contains__',\n",
       " '__delattr__',\n",
       " '__delitem__',\n",
       " '__dir__',\n",
       " '__doc__',\n",
       " '__eq__',\n",
       " '__format__',\n",
       " '__ge__',\n",
       " '__getattribute__',\n",
       " '__getitem__',\n",
       " '__gt__',\n",
       " '__hash__',\n",
       " '__iadd__',\n",
       " '__imul__',\n",
       " '__init__',\n",
       " '__init_subclass__',\n",
       " '__iter__',\n",
       " '__le__',\n",
       " '__len__',\n",
       " '__lt__',\n",
       " '__mul__',\n",
       " '__ne__',\n",
       " '__new__',\n",
       " '__reduce__',\n",
       " '__reduce_ex__',\n",
       " '__repr__',\n",
       " '__reversed__',\n",
       " '__rmul__',\n",
       " '__setattr__',\n",
       " '__setitem__',\n",
       " '__sizeof__',\n",
       " '__str__',\n",
       " '__subclasshook__',\n",
       " 'append',\n",
       " 'clear',\n",
       " 'copy',\n",
       " 'count',\n",
       " 'extend',\n",
       " 'index',\n",
       " 'insert',\n",
       " 'pop',\n",
       " 'remove',\n",
       " 'reverse',\n",
       " 'sort']"
      ]
     },
     "execution_count": 4,
     "metadata": {},
     "output_type": "execute_result"
    }
   ],
   "source": [
    "dir(c)"
   ]
  },
  {
   "cell_type": "code",
   "execution_count": null,
   "metadata": {},
   "outputs": [],
   "source": []
  }
 ],
 "metadata": {
  "kernelspec": {
   "display_name": "Python 3",
   "language": "python",
   "name": "python3"
  },
  "language_info": {
   "codemirror_mode": {
    "name": "ipython",
    "version": 3
   },
   "file_extension": ".py",
   "mimetype": "text/x-python",
   "name": "python",
   "nbconvert_exporter": "python",
   "pygments_lexer": "ipython3",
   "version": "3.8.5"
  },
  "toc": {
   "base_numbering": 1,
   "nav_menu": {},
   "number_sections": true,
   "sideBar": true,
   "skip_h1_title": false,
   "title_cell": "Table of Contents",
   "title_sidebar": "Contents",
   "toc_cell": false,
   "toc_position": {},
   "toc_section_display": true,
   "toc_window_display": false
  }
 },
 "nbformat": 4,
 "nbformat_minor": 4
}
